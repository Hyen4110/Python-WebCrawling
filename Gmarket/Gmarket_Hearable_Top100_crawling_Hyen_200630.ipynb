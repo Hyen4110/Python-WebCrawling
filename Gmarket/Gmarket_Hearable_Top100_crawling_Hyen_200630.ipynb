{
 "cells": [
  {
   "cell_type": "code",
   "execution_count": 1,
   "metadata": {},
   "outputs": [],
   "source": [
    "import requests\n",
    "from bs4 import BeautifulSoup"
   ]
  },
  {
   "cell_type": "code",
   "execution_count": 2,
   "metadata": {},
   "outputs": [],
   "source": [
    "req = requests.get('http://browse.gmarket.co.kr/list?category=300028561&s=8')\n",
    "html = req.text\n",
    "soup = BeautifulSoup(html, 'html.parser')\n",
    "## CSS Selector를 통해 html요소들을 찾아낸다.\n",
    "\n",
    "##브랜드\n",
    "\n",
    "#  brand_list = []\n",
    "# for brand in soup.select('span[class=text__brand]'):\n",
    "#     brand_list.append(brand.text.strip())\n",
    "# print(brand_list)\n",
    "# print(len(brand_list))\n"
   ]
  },
  {
   "cell_type": "code",
   "execution_count": 3,
   "metadata": {},
   "outputs": [
    {
     "name": "stdout",
     "output_type": "stream",
     "text": [
      "100\n",
      "100\n",
      "['삼성전자', '애플', '삼성전자', '피스넷', '피스넷', '아크로', '삼성전자', '애플', '브리츠', '애플', '큐씨와이', '큐씨와이', '큐씨와이', 'LG', '브리츠', '큐씨와이', '엠지텍', 'LG', 'LG', '제이비엘', '브리츠', '엠지텍', '로이체', '큐씨와이', '스마트에버', '', '', '피스넷', 'LG', '큐씨와이', '커네스트', '펜톤', '삼성전자', '삼성전자', '큐씨와이', '피스넷', '브리츠', '엠지텍', '큐씨와이', '펜톤', '큐씨와이', '플랜트로닉스', '큐씨와이', '스마텍', '삼성전자', 'LG', '큐씨와이', '', '', '갤럭시', '펜톤', '큐씨와이', '큐씨와이', '피스넷', '', '큐씨와이', '애플', '큐씨와이', '삼성전자', '', '에이투', '에이투', '스마텍', '브리츠', '바넥스', '큐씨와이', '', '엠지텍', '삼성전자', '삼성전자', '피스넷', '', '스마트에버', '큐씨와이', '브리츠', '로이체', '애플', '펜톤', 'LG', '피스넷', '피스넷', '미포', '애플', 'LG', '큐씨와이', '큐씨와이', '피스넷', '큐씨와이', '', '로즈비', '', '큐씨와이', '애플', '코시', '큐씨와이', '큐씨와이', '로이체', '삼성전자', '바넥스', '펜톤']\n",
      "['SM-R175 갤럭시버즈 플러스 블루투스이어폰 AKG 튜닝', '에어팟 프로 MWP22KH/A', '인증점 갤럭시 버즈 플러스 블루투스이어폰/SM-R175', '끊김없는 완전무선 블루투스이어폰 피스넷 프리고', '골전도 블루투스 이어폰 피스넷 프리본 / 청력보호', 'ACRO i11 블루투스 무선 이어폰 5.0 화이트 차이팟', '갤럭시버즈 플러스 완전무선 블루투스 이어폰 SM-R175', '당일출고  국내정품  애플 에어팟 프로 무선 충전 MWP22KH/A', 'Storm TWS5 완전 무선 블루투스 이어폰 IPx5 초경량', '국내당일발송/정품   에어팟 2세대 유선/무선 선택', '신상품QCY T5S 블루투스 무선 이어폰 /큐씨와이T5S', 'QCY T5 pro블루투스 무선 이어폰 /큐씨와이T5 pro', '한국정품 QCY T2S 블루투스 5.0 무선 충전 이어폰', 'LG 블루투스이어폰 톤플러스 HBS-510 블랙 빅스쿠폰', 'LUXTWS5 오픈형 블루투스 코드리스 이어폰 24시간사용', '(빠른직구)최신형 QCY T6 블루투스 5.0 무선 이어폰', '블루투스이어폰 아이언V60 162시간재생/IPX8', 'LG톤플러스 HBS-830 블루투스 이어폰 블랙', 'LG 공식인증점 톤플러스 HBS-PL5 블루투스 네이비', '공식파트너 JBL TUNE120 완전무선블루투스이어폰 블랙', 'BE-Vtalk7 무통증/듀얼마이크/블루투스/이어폰/이어셋', '골전도 블루투스이어폰 이어프리G2 무선/IPX8완전방수/', '무선 블루투스 이어폰 /자동페어링/BTW-4 블랙', 'QCY T5 화이트 TWS 블루투스5.0 무선 블루투스이어폰', '무선 블루투스이어폰 SE-P1 블랙 200시간 재생', 'QCY T5 PRO 블루투스 이어폰 스마트 35시간 최장항속', '신세계단독 50프로세일 토트넘 무선이어폰(+토트넘 백팩+보스턴백+보관백 총 8종)', '끊김없는 블루투스이어폰 피스넷 프리사운드 / 화이트', 'LG 톤플러스 블루투스 이어폰 HBS-830', '정식수입 QCY T1 블루투스이어폰 블랙', '커네스트 미포 O9 블루투스 이어폰 2세대 Upgrade Ver.', 'TSX 다이아팟 크래들 1회 충전 56시간 재생 / 완전방수', 'SM-R175 갤럭시버즈 플러스 블루투스이어폰 블랙 (SU)', 'SM-R175 갤럭시버즈 플러스 블루투스이어폰 화이트(SU)', '공식판매점 QCY T5 블루투스이어폰 정식수입 6개월 AS', '슈퍼베이스 블루투스이어폰 피스넷 프리고R', 'Acoustic TWS5 (블랙) 코드리스 블루투스 이어폰', '익스트림Z5 블루투스이어폰 /IPX7 완전방수/스포츠형', 'QCY T1 TWS 5.0 블루투스 무선 이어폰 블랙 6개월 as', '펜톤정품 TSX 블루투스이어폰 2600mAh IPX7 완전방수', '최신형 QCY T6 블루투스 5.0 무선 이어폰 /무료배송', 'i플랜트로닉스 Voyager 5240 보이저 블루투스 이어폰', 'QCY T5 블랙 TWS 블루투스5.0 무선이어폰  (국내배송)', 'STBT-2100 (블랙) 블루투스 넥밴드 이어폰 이어셋', '갤럭시버즈 플러스 블루투스 이어폰 SM-R175 블랙', 'LG톤플러스 HBS-PL5 블루투스 이어폰 블랙', 'QCY T7 블루투스 5.0 무선 이어폰 Type-C 화이트', '프리미엄 블루투스5.0V 130시간재생 USB포트 사은품3종', '얼리데이 블루투스 이어폰 아크로 i9 PLUS 화이트 5.0', '삼성 갤럭시 버즈 플러스 SM-R175 w1', 'TSX QCC 1회 충전 325시간재생 노이즈캔슬링  3000mAh', '2020 최신형 QCY T5S 무선충전 블루투스 이어폰 블랙', '1+1 QCY T5 pro블루투스 무선 이어폰 /큐씨와이T5 pro', '끊김없는 블루투스이어폰 피스넷 프리사운드 / 블랙', '애플 정품 에어팟 2세대 유선충전(MV7N2KH/A) 블루투스', 'QCY T1 TWS 5.0 블루투스 무선 이어폰 화이트 6개월 as', 'Apple 파워비츠 프로 Wireless - 블랙 MV6Y2AP/A', '정식수입 QCY T1 블루투스이어폰 화이트', '갤럭시버즈 플러스 블루투스 이어폰 SM-R175 화이트', '애프터샥 에어로펙스 골전도 블루투스 이어폰(블랙)', '특가무선마그네틱블루투스이어폰선물에이투AT221 레드', '특가)프리미엄완전무선블루투스이어폰에이투AT251블랙', 'STBT-N1 블루투스 무선 모노 이어폰 이어셋 핸즈프리', 'BE-ME700 노이즈캔슬링 무선 블루투스 이어폰 이어셋', '아이토닉 블루투스 5.0 무선이어폰 화이트 충전패드', '국내정식 QCY L2 무선 블루투스이어폰ANC', '블랙 와이어리스 이어버드 5.0 (무광블랙)', '아이언V70 블루투스이어폰 /고성능DACFPC안테나 탑재', 'SM-R175 갤럭시버즈 플러스 블루투스이어폰 블루 (SU)', '삼성 갤럭시 버즈 플러스 SM-R175N 블랙', '끊김없는 블루투스이어폰 피스넷 프리슬림 블랙', 'QCY T9S TWS 국내정품 컴퓨존', '무선 블루투스이어폰 SE-P1 화이트 200시간 재생', '1+1 신상품QCY T5S 블루투스 무선 이어폰 /파우치증정', 'Storm TWS5 무선 블루투스이어폰 IPX5등급 초경량', '무선 블루투스 이어폰 /자동페어링/BTW-4 화이트', '에어팟 프로 3세대 노이즈 캔슬링 블루투스 이어폰', 'TSX QCC 퀄컴 무선 블루투스 이어폰 2세대 13시간재생', 'HBS-2000 LG 블루투스이어폰 넥밴드 톤플러스 블루', '무선 블루투스 이어폰 피스넷 프리고C CVC노이즈캔슬링', '완전무선 블루투스이어폰 피스넷 프리고 시즌3', '미포 O10 블루투스이어폰 /명품음질/완벽한통화품질', '국내당일발송/정품 애플 에어팟 2세대 유선 충전 MV7N2KH/A', 'LG 공식인증점 톤플러스 HBS-PL5 블루투스 화이트', '공식판매점 QCY T5 블루투스이어폰 화이트 6개월 AS', '(국내공식) QCY T9S 블랙 TWS 블루투스이어폰', '충전식 음성 소리 증폭기 피스넷 이어앰프', 'QCY T1S 블루투스5.0 무선 이어폰 재고보유/당일출고', '소니캐스트 무선 이어폰 direm W1 WHITE 최단지연시간', 'RVE-910S블루투스이어폰 헤드셋헤드폰 삼성LG애플호완', '펜톤 TSX 다이아팟 블루투스 무선 이어폰 56시간사용', '정식수입 QCY T2C 블루투스이어폰 블랙', '애플 에어팟 2세대 / 유선충전케이스모델 케이스 증정', '블루투스 이어폰 릴타입 클립형 EP3292BT', '국내정식 QCY T3 TWS 무선 블루투스 5.0 자동 페어링', 'QCY T5PRO 2020최신형 무선충전 블루투스 무선 이어폰', '무선 블루투스 이어폰 /자동페어링/BTW-4 핑크', '갤럭시 버즈 SM-R170 화이트 초특가/한정수량/당일발송', '아이토닉 라이트 블루투스이어폰 무선이어폰', 'TSX 대용량 배터리 40M 연결 1번 충전 최대 40일 사용']\n"
     ]
    }
   ],
   "source": [
    "##타이틀\n",
    "li_list = []\n",
    "brand_list = []\n",
    "title_list = []\n",
    "for li in soup.select('div[class=box__item-title]'):\n",
    "    li_list.append(li.text.strip())\n",
    "\n",
    "for li in li_list:\n",
    "    brand,title=tuple(li.split(\"상품명 \"))\n",
    "    brand = brand.replace(\"브랜드명 \",\"\").strip()\n",
    "    title = title.strip()\n",
    "    \n",
    "    brand_list.append(brand)\n",
    "    title_list.append(title)\n",
    "\n",
    "print(len(brand_list))\n",
    "print(len(title_list))\n",
    "\n",
    "print(brand_list)\n",
    "print(title_list)"
   ]
  },
  {
   "cell_type": "code",
   "execution_count": 4,
   "metadata": {},
   "outputs": [
    {
     "name": "stdout",
     "output_type": "stream",
     "text": [
      "['145000', '269900', '145000', '49900', '39900', '29130', '145000', '282600', '32400', '171000', '25900', '30200', '19600', '43600', '53910', '22900', '84900', '62900', '78000', '46900', '36900', '59800', '24350', '21760', '34900', '30200', '64200', '27900', '59640', '15580', '89000', '34800', '145000', '145000', '23420', '36900', '42400', '128900', '18400', '39800', '22900', '168000', '21760', '29800', '145000', '91030', '22200', '39900', '28560', '141480', '49800', '23000', '57900', '28900', '166410', '18030', '179100', '15580', '145000', '199000', '19900', '59900', '21800', '22400', '39700', '18530', '36800', '129000', '145000', '152900', '33900', '24110', '34900', '46900', '29900', '24350', '271660', '49800', '155820', '44900', '44900', '128000', '171000', '78000', '23710', '21470', '59900', '26900', '39010', '29900', '34800', '17620', '169900', '21550', '22050', '28500', '24350', '129000', '32900', '39800']\n"
     ]
    },
    {
     "data": {
      "text/plain": [
       "100"
      ]
     },
     "execution_count": 4,
     "metadata": {},
     "output_type": "execute_result"
    }
   ],
   "source": [
    "##가격\n",
    "price_list = []\n",
    "for price in soup.select('div[class=box__price-seller]'):\n",
    "    price = price.text.replace(\"할인적용금액 \",\"\")\n",
    "    price = price.replace(\"상품금액 \",\"\")\n",
    "    price = price.replace(\",\",\"\")\n",
    "    price = price.replace(\"원\",\"\")\n",
    "    price_list.append(price.strip())\n",
    "\n",
    "print(price_list)\n",
    "len(price_list)"
   ]
  },
  {
   "cell_type": "code",
   "execution_count": 5,
   "metadata": {
    "scrolled": true
   },
   "outputs": [
    {
     "name": "stdout",
     "output_type": "stream",
     "text": [
      "[12166, 349, 2159, 31726, 5490, 715, 2963, 2219, 965, 11461, 1401, 218, 1446, 3673, 778, 1079, 211, 260, 44, 1067, 4489, 1743, 191, 877, 483, 221, 228, 12872, 620, 540, 1371, 1515, 129, 139, 2873, 58, 3160, 145, 9334, 79, 358, 2261, 847, 2886, 11, 254, 31, 357, 5800, 11, 450, 56, 14, 4052, 3321, 3634, 410, 427, 8, 367, 864, 1079, 2306, 1006, 831, 644, 1584, 12, 68, 130, 15374, 262, 102, 161, 674, 65, 614, 276, 36, 1790, 143, 239, 109, 38, 179, 11, 450, 125, 53, 6203, 529, 308, 2029, 1113, 234, 35, 113, 52, 46, 657]\n"
     ]
    },
    {
     "data": {
      "text/plain": [
       "100"
      ]
     },
     "execution_count": 5,
     "metadata": {},
     "output_type": "execute_result"
    }
   ],
   "source": [
    "##구매수(04.10)\n",
    "count_list = []\n",
    "for link in soup.find_all(\"ul\", class_=\"list__score\"):\n",
    "    li = link.find(\"li\",class_=\"list-item list-item__pay-count\")\n",
    "    #print(li)\n",
    "    count = li.text.replace(\"구매 \",\"\")\n",
    "    count = count.replace(\"건\",\"\")\n",
    "    count = count.replace(\",\",\"\")\n",
    "    count_list.append(int(count.strip()))\n",
    "    \n",
    "print(count_list)\n",
    "len(count_list)"
   ]
  },
  {
   "cell_type": "code",
   "execution_count": 28,
   "metadata": {},
   "outputs": [
    {
     "ename": "NameError",
     "evalue": "name 'div' is not defined",
     "output_type": "error",
     "traceback": [
      "\u001b[1;31m---------------------------------------------------------------------------\u001b[0m",
      "\u001b[1;31mNameError\u001b[0m                                 Traceback (most recent call last)",
      "\u001b[1;32m<ipython-input-28-a899dcf5e240>\u001b[0m in \u001b[0;36m<module>\u001b[1;34m\u001b[0m\n\u001b[0;32m      1\u001b[0m \u001b[1;31m##구매수 (03.28)\u001b[0m\u001b[1;33m\u001b[0m\u001b[1;33m\u001b[0m\u001b[1;33m\u001b[0m\u001b[0m\n\u001b[0;32m      2\u001b[0m \u001b[1;31m#list-item list-item__pay-count\u001b[0m\u001b[1;33m\u001b[0m\u001b[1;33m\u001b[0m\u001b[1;33m\u001b[0m\u001b[0m\n\u001b[1;32m----> 3\u001b[1;33m \u001b[0mdiv\u001b[0m\u001b[1;33m.\u001b[0m\u001b[0mbox__information\u001b[0m\u001b[1;33m-\u001b[0m\u001b[0mscore\u001b[0m \u001b[1;33m>\u001b[0m \u001b[0mul\u001b[0m \u001b[1;33m>\u001b[0m \u001b[0mli\u001b[0m\u001b[1;33m.\u001b[0m\u001b[0mlist\u001b[0m\u001b[1;33m-\u001b[0m\u001b[0mitem\u001b[0m\u001b[1;33m.\u001b[0m\u001b[0mlist\u001b[0m\u001b[1;33m-\u001b[0m\u001b[0mitem__pay\u001b[0m\u001b[1;33m-\u001b[0m\u001b[0mcount\u001b[0m\u001b[1;33m\u001b[0m\u001b[1;33m\u001b[0m\u001b[0m\n\u001b[0m\u001b[0;32m      4\u001b[0m \u001b[0mcount_list\u001b[0m \u001b[1;33m=\u001b[0m \u001b[1;33m[\u001b[0m\u001b[1;33m]\u001b[0m\u001b[1;33m\u001b[0m\u001b[1;33m\u001b[0m\u001b[0m\n\u001b[0;32m      5\u001b[0m \u001b[1;32mfor\u001b[0m \u001b[0mcount\u001b[0m \u001b[1;32min\u001b[0m \u001b[0msoup\u001b[0m\u001b[1;33m.\u001b[0m\u001b[0mselect\u001b[0m\u001b[1;33m(\u001b[0m\u001b[1;34m'li.list-item.list-item__pay-count>span.text'\u001b[0m\u001b[1;33m)\u001b[0m\u001b[1;33m:\u001b[0m\u001b[1;33m\u001b[0m\u001b[1;33m\u001b[0m\u001b[0m\n",
      "\u001b[1;31mNameError\u001b[0m: name 'div' is not defined"
     ]
    }
   ],
   "source": [
    "# ##구매수 (03.28)\n",
    "# #list-item list-item__pay-count\n",
    "# div.box__information-score > ul > li.list-item.list-item__pay-count\n",
    "# count_list = []\n",
    "# for count in soup.select('li.list-item.list-item__pay-count>span.text'):\n",
    "#     count = count.text.replace(\"구매 \",\"\")\n",
    "#     count = count.replace(\",\",\"\")\n",
    "#     count_list.append(count.strip())\n",
    "# print(count_list)\n",
    "# print(len(count_list))"
   ]
  },
  {
   "cell_type": "code",
   "execution_count": 6,
   "metadata": {},
   "outputs": [
    {
     "name": "stdout",
     "output_type": "stream",
     "text": [
      "['http://item.gmarket.co.kr/Item?goodscode=1746228945', 'http://item.gmarket.co.kr/Item?goodscode=1827698445', 'http://item.gmarket.co.kr/Item?goodscode=1748327994', 'http://item.gmarket.co.kr/Item?goodscode=1147816313', 'http://item.gmarket.co.kr/Item?goodscode=1656073805', 'http://item.gmarket.co.kr/Item?goodscode=1812219402', 'http://item.gmarket.co.kr/Item?goodscode=1748467201', 'http://item.gmarket.co.kr/Item?goodscode=1748247829', 'http://item.gmarket.co.kr/Item?goodscode=1743485615', 'http://item.gmarket.co.kr/Item?goodscode=1598117455', 'http://item.gmarket.co.kr/Item?goodscode=1778863706', 'http://item.gmarket.co.kr/Item?goodscode=1797408989', 'http://item.gmarket.co.kr/Item?goodscode=1607616257', 'http://item.gmarket.co.kr/Item?goodscode=976008858', 'http://item.gmarket.co.kr/Item?goodscode=1730313093', 'http://item.gmarket.co.kr/Item?goodscode=1779547337', 'http://item.gmarket.co.kr/Item?goodscode=1816062151', 'http://item.gmarket.co.kr/Item?goodscode=1813491174', 'http://item.gmarket.co.kr/Item?goodscode=1764134107', 'http://item.gmarket.co.kr/Item?goodscode=1631464592', 'http://item.gmarket.co.kr/Item?goodscode=1462464005', 'http://item.gmarket.co.kr/Item?goodscode=1638457008', 'http://item.gmarket.co.kr/Item?goodscode=1806043887', 'http://item.gmarket.co.kr/Item?goodscode=1807168861', 'http://item.gmarket.co.kr/Item?goodscode=1766943987', 'http://item.gmarket.co.kr/Item?goodscode=1799160604', 'http://item.gmarket.co.kr/Item?goodscode=1789321313', 'http://item.gmarket.co.kr/Item?goodscode=1556105226', 'http://item.gmarket.co.kr/Item?goodscode=1556494077', 'http://item.gmarket.co.kr/Item?goodscode=1743442457', 'http://item.gmarket.co.kr/Item?goodscode=1691638455', 'http://item.gmarket.co.kr/Item?goodscode=1708982202', 'http://item.gmarket.co.kr/Item?goodscode=1820871022', 'http://item.gmarket.co.kr/Item?goodscode=1820872177', 'http://item.gmarket.co.kr/Item?goodscode=1718214366', 'http://item.gmarket.co.kr/Item?goodscode=1812259894', 'http://item.gmarket.co.kr/Item?goodscode=1637078841', 'http://item.gmarket.co.kr/Item?goodscode=1782927382', 'http://item.gmarket.co.kr/Item?goodscode=1524161804', 'http://item.gmarket.co.kr/Item?goodscode=1789105830', 'http://item.gmarket.co.kr/Item?goodscode=1779534047', 'http://item.gmarket.co.kr/Item?goodscode=942186195', 'http://item.gmarket.co.kr/Item?goodscode=1803757220', 'http://item.gmarket.co.kr/Item?goodscode=1523090159', 'http://item.gmarket.co.kr/Item?goodscode=1832530334', 'http://item.gmarket.co.kr/Item?goodscode=1813495115', 'http://item.gmarket.co.kr/Item?goodscode=1831785632', 'http://item.gmarket.co.kr/Item?goodscode=1770976840', 'http://item.gmarket.co.kr/Item?goodscode=1526766037', 'http://item.gmarket.co.kr/Item?goodscode=1825692126', 'http://item.gmarket.co.kr/Item?goodscode=1754797530', 'http://item.gmarket.co.kr/Item?goodscode=1824605632', 'http://item.gmarket.co.kr/Item?goodscode=1797409906', 'http://item.gmarket.co.kr/Item?goodscode=1578994420', 'http://item.gmarket.co.kr/Item?goodscode=1677283274', 'http://item.gmarket.co.kr/Item?goodscode=1548826420', 'http://item.gmarket.co.kr/Item?goodscode=1730375753', 'http://item.gmarket.co.kr/Item?goodscode=1743445450', 'http://item.gmarket.co.kr/Item?goodscode=1833969639', 'http://item.gmarket.co.kr/Item?goodscode=1660800819', 'http://item.gmarket.co.kr/Item?goodscode=1438294426', 'http://item.gmarket.co.kr/Item?goodscode=1555215740', 'http://item.gmarket.co.kr/Item?goodscode=1471394053', 'http://item.gmarket.co.kr/Item?goodscode=1687244469', 'http://item.gmarket.co.kr/Item?goodscode=1718859093', 'http://item.gmarket.co.kr/Item?goodscode=1676475490', 'http://item.gmarket.co.kr/Item?goodscode=1693663238', 'http://item.gmarket.co.kr/Item?goodscode=1833345124', 'http://item.gmarket.co.kr/Item?goodscode=1820870024', 'http://item.gmarket.co.kr/Item?goodscode=1756813388', 'http://item.gmarket.co.kr/Item?goodscode=1533958684', 'http://item.gmarket.co.kr/Item?goodscode=1822073753', 'http://item.gmarket.co.kr/Item?goodscode=1766949190', 'http://item.gmarket.co.kr/Item?goodscode=1779049278', 'http://item.gmarket.co.kr/Item?goodscode=1738190874', 'http://item.gmarket.co.kr/Item?goodscode=1806042963', 'http://item.gmarket.co.kr/Item?goodscode=1705083695', 'http://item.gmarket.co.kr/Item?goodscode=1743676156', 'http://item.gmarket.co.kr/Item?goodscode=1737605995', 'http://item.gmarket.co.kr/Item?goodscode=1704981395', 'http://item.gmarket.co.kr/Item?goodscode=1812578801', 'http://item.gmarket.co.kr/Item?goodscode=1737569834', 'http://item.gmarket.co.kr/Item?goodscode=1829945158', 'http://item.gmarket.co.kr/Item?goodscode=1764134793', 'http://item.gmarket.co.kr/Item?goodscode=1813457721', 'http://item.gmarket.co.kr/Item?goodscode=1822681451', 'http://item.gmarket.co.kr/Item?goodscode=1730251234', 'http://item.gmarket.co.kr/Item?goodscode=1591041156', 'http://item.gmarket.co.kr/Item?goodscode=1780848958', 'http://item.gmarket.co.kr/Item?goodscode=710673193', 'http://item.gmarket.co.kr/Item?goodscode=1703968476', 'http://item.gmarket.co.kr/Item?goodscode=1749099124', 'http://item.gmarket.co.kr/Item?goodscode=1594916512', 'http://item.gmarket.co.kr/Item?goodscode=1473907024', 'http://item.gmarket.co.kr/Item?goodscode=1679118581', 'http://item.gmarket.co.kr/Item?goodscode=1824618187', 'http://item.gmarket.co.kr/Item?goodscode=1806044489', 'http://item.gmarket.co.kr/Item?goodscode=1753035967', 'http://item.gmarket.co.kr/Item?goodscode=1797085253', 'http://item.gmarket.co.kr/Item?goodscode=1740328830']\n"
     ]
    },
    {
     "data": {
      "text/plain": [
       "100"
      ]
     },
     "execution_count": 6,
     "metadata": {},
     "output_type": "execute_result"
    }
   ],
   "source": [
    "##링크\n",
    "link_list = []\n",
    "for link in soup.find_all(\"div\", class_=\"box__item-title\"):\n",
    "    li = link.find('a')['href']\n",
    "    link_list.append(li)\n",
    "    \n",
    "print(link_list)\n",
    "len(link_list)"
   ]
  },
  {
   "cell_type": "code",
   "execution_count": 7,
   "metadata": {},
   "outputs": [
    {
     "name": "stdout",
     "output_type": "stream",
     "text": [
      "['', '', '삼성모바일액세서리', '피스넷', '피스넷', '', '', '신세계백화점', '', '신세계백화점', 'YOMI02', 'YOMI02', '와이엘인터내셔널', 'LG총판(주)이파트너스', '', 'fastcaige6', '', '', '', '삼성하만오디오인증점', '', '주식회사엠지텍', '', '컴퓨터-세상', '필립스TV', 'youchen019', '신세계TV쇼핑', '피스넷', 'LG총판_티앤티정보', '', '커네스트', '', '', '', '오랑주', '', '', '주식회사엠지텍', '오랑주', '주식회사잇서', '중국제조', '아이스카이', '컴퓨터-세상', '', '', '', 'youchen019', 'MPL', '얼리데이', '케이원디지털', '', '글로벌핫템', 'YOMI02', '피스넷', '에스엠퓨처스', '오랑주', 'Apple공식판매점', '', '', '액티브라이프', '에이투몰', '에이투몰', '', '', '바넥스', '와이엘인터내셔널', '역대급커먼스', '주식회사엠지텍', '', '하이마트쇼핑몰', '피스넷', '(주)컴퓨존', '필립스TV', 'YOMI02', '대한민국1번가', '', 'JAEWONCNC', '총각네다락방', 'LG공식판매점_한송', '피스넷', '', '비아컴퍼니', '신세계백화점', '', '오랑주', '국제전자통신', '피스넷', '라온스마트몰', '소니캐스트', '로즈비', '획기적인아이템', '', 'EZBUY_TRADE', '(주)코시', '와이엘인터내셔널', '글로벌핫템', '', '마일로114', '', '']\n"
     ]
    },
    {
     "data": {
      "text/plain": [
       "100"
      ]
     },
     "execution_count": 7,
     "metadata": {},
     "output_type": "execute_result"
    }
   ],
   "source": [
    "##판매처\n",
    "sellor_list = []\n",
    "for sellor in soup.select('div[class=box__information_seller]'):\n",
    "    sellor, *gar = tuple(sellor.text.split(\"판매자평가정보\"))\n",
    "    sellor = sellor[3:]\n",
    "    sellor_list.append(sellor.strip())\n",
    "\n",
    "print(sellor_list)\n",
    "len(sellor_list)"
   ]
  },
  {
   "cell_type": "code",
   "execution_count": 8,
   "metadata": {},
   "outputs": [
    {
     "name": "stdout",
     "output_type": "stream",
     "text": [
      "   brand                               title  purchased_count   price  \\\n",
      "0   삼성전자    SM-R175 갤럭시버즈 플러스 블루투스이어폰 AKG 튜닝            12166  145000   \n",
      "1     애플                    에어팟 프로 MWP22KH/A              349  269900   \n",
      "2   삼성전자      인증점 갤럭시 버즈 플러스 블루투스이어폰/SM-R175             2159  145000   \n",
      "3    피스넷           끊김없는 완전무선 블루투스이어폰 피스넷 프리고            31726   49900   \n",
      "4    피스넷         골전도 블루투스 이어폰 피스넷 프리본 / 청력보호             5490   39900   \n",
      "..   ...                                 ...              ...     ...   \n",
      "95  큐씨와이  QCY T5PRO 2020최신형 무선충전 블루투스 무선 이어폰               35   28500   \n",
      "96   로이체         무선 블루투스 이어폰 /자동페어링/BTW-4 핑크              113   24350   \n",
      "97  삼성전자    갤럭시 버즈 SM-R170 화이트 초특가/한정수량/당일발송               52  129000   \n",
      "98   바넥스              아이토닉 라이트 블루투스이어폰 무선이어폰               46   32900   \n",
      "99    펜톤  TSX 대용량 배터리 40M 연결 1번 충전 최대 40일 사용              657   39800   \n",
      "\n",
      "                                                  url     sellor  \n",
      "0   http://item.gmarket.co.kr/Item?goodscode=17462...             \n",
      "1   http://item.gmarket.co.kr/Item?goodscode=18276...             \n",
      "2   http://item.gmarket.co.kr/Item?goodscode=17483...  삼성모바일액세서리  \n",
      "3   http://item.gmarket.co.kr/Item?goodscode=11478...        피스넷  \n",
      "4   http://item.gmarket.co.kr/Item?goodscode=16560...        피스넷  \n",
      "..                                                ...        ...  \n",
      "95  http://item.gmarket.co.kr/Item?goodscode=18246...      글로벌핫템  \n",
      "96  http://item.gmarket.co.kr/Item?goodscode=18060...             \n",
      "97  http://item.gmarket.co.kr/Item?goodscode=17530...     마일로114  \n",
      "98  http://item.gmarket.co.kr/Item?goodscode=17970...             \n",
      "99  http://item.gmarket.co.kr/Item?goodscode=17403...             \n",
      "\n",
      "[100 rows x 6 columns]\n"
     ]
    }
   ],
   "source": [
    "from pandas import DataFrame\n",
    "\n",
    "df1 =  DataFrame({\"brand\": brand_list, \"title\": title_list, \"purchased_count\":count_list, \"price\": price_list,\n",
    "                 \"url\":link_list, \"sellor\":sellor_list})\n",
    "print(df1)\n",
    "                  #, \"c\": [11, 22, 33], \"c3\": [111, 222, 333]}, index=[\"i1\", \"i2\", \"i3\"]"
   ]
  },
  {
   "cell_type": "code",
   "execution_count": 9,
   "metadata": {},
   "outputs": [
    {
     "data": {
      "text/html": [
       "<div>\n",
       "<style scoped>\n",
       "    .dataframe tbody tr th:only-of-type {\n",
       "        vertical-align: middle;\n",
       "    }\n",
       "\n",
       "    .dataframe tbody tr th {\n",
       "        vertical-align: top;\n",
       "    }\n",
       "\n",
       "    .dataframe thead th {\n",
       "        text-align: right;\n",
       "    }\n",
       "</style>\n",
       "<table border=\"1\" class=\"dataframe\">\n",
       "  <thead>\n",
       "    <tr style=\"text-align: right;\">\n",
       "      <th></th>\n",
       "      <th>brand</th>\n",
       "      <th>title</th>\n",
       "      <th>purchased_count</th>\n",
       "      <th>price</th>\n",
       "      <th>url</th>\n",
       "      <th>sellor</th>\n",
       "    </tr>\n",
       "  </thead>\n",
       "  <tbody>\n",
       "    <tr>\n",
       "      <td>0</td>\n",
       "      <td>삼성전자</td>\n",
       "      <td>SM-R175 갤럭시버즈 플러스 블루투스이어폰 AKG 튜닝</td>\n",
       "      <td>12166</td>\n",
       "      <td>145000</td>\n",
       "      <td>http://item.gmarket.co.kr/Item?goodscode=17462...</td>\n",
       "      <td></td>\n",
       "    </tr>\n",
       "    <tr>\n",
       "      <td>1</td>\n",
       "      <td>애플</td>\n",
       "      <td>에어팟 프로 MWP22KH/A</td>\n",
       "      <td>349</td>\n",
       "      <td>269900</td>\n",
       "      <td>http://item.gmarket.co.kr/Item?goodscode=18276...</td>\n",
       "      <td></td>\n",
       "    </tr>\n",
       "    <tr>\n",
       "      <td>2</td>\n",
       "      <td>삼성전자</td>\n",
       "      <td>인증점 갤럭시 버즈 플러스 블루투스이어폰/SM-R175</td>\n",
       "      <td>2159</td>\n",
       "      <td>145000</td>\n",
       "      <td>http://item.gmarket.co.kr/Item?goodscode=17483...</td>\n",
       "      <td>삼성모바일액세서리</td>\n",
       "    </tr>\n",
       "    <tr>\n",
       "      <td>3</td>\n",
       "      <td>피스넷</td>\n",
       "      <td>끊김없는 완전무선 블루투스이어폰 피스넷 프리고</td>\n",
       "      <td>31726</td>\n",
       "      <td>49900</td>\n",
       "      <td>http://item.gmarket.co.kr/Item?goodscode=11478...</td>\n",
       "      <td>피스넷</td>\n",
       "    </tr>\n",
       "    <tr>\n",
       "      <td>4</td>\n",
       "      <td>피스넷</td>\n",
       "      <td>골전도 블루투스 이어폰 피스넷 프리본 / 청력보호</td>\n",
       "      <td>5490</td>\n",
       "      <td>39900</td>\n",
       "      <td>http://item.gmarket.co.kr/Item?goodscode=16560...</td>\n",
       "      <td>피스넷</td>\n",
       "    </tr>\n",
       "    <tr>\n",
       "      <td>...</td>\n",
       "      <td>...</td>\n",
       "      <td>...</td>\n",
       "      <td>...</td>\n",
       "      <td>...</td>\n",
       "      <td>...</td>\n",
       "      <td>...</td>\n",
       "    </tr>\n",
       "    <tr>\n",
       "      <td>95</td>\n",
       "      <td>큐씨와이</td>\n",
       "      <td>QCY T5PRO 2020최신형 무선충전 블루투스 무선 이어폰</td>\n",
       "      <td>35</td>\n",
       "      <td>28500</td>\n",
       "      <td>http://item.gmarket.co.kr/Item?goodscode=18246...</td>\n",
       "      <td>글로벌핫템</td>\n",
       "    </tr>\n",
       "    <tr>\n",
       "      <td>96</td>\n",
       "      <td>로이체</td>\n",
       "      <td>무선 블루투스 이어폰 /자동페어링/BTW-4 핑크</td>\n",
       "      <td>113</td>\n",
       "      <td>24350</td>\n",
       "      <td>http://item.gmarket.co.kr/Item?goodscode=18060...</td>\n",
       "      <td></td>\n",
       "    </tr>\n",
       "    <tr>\n",
       "      <td>97</td>\n",
       "      <td>삼성전자</td>\n",
       "      <td>갤럭시 버즈 SM-R170 화이트 초특가/한정수량/당일발송</td>\n",
       "      <td>52</td>\n",
       "      <td>129000</td>\n",
       "      <td>http://item.gmarket.co.kr/Item?goodscode=17530...</td>\n",
       "      <td>마일로114</td>\n",
       "    </tr>\n",
       "    <tr>\n",
       "      <td>98</td>\n",
       "      <td>바넥스</td>\n",
       "      <td>아이토닉 라이트 블루투스이어폰 무선이어폰</td>\n",
       "      <td>46</td>\n",
       "      <td>32900</td>\n",
       "      <td>http://item.gmarket.co.kr/Item?goodscode=17970...</td>\n",
       "      <td></td>\n",
       "    </tr>\n",
       "    <tr>\n",
       "      <td>99</td>\n",
       "      <td>펜톤</td>\n",
       "      <td>TSX 대용량 배터리 40M 연결 1번 충전 최대 40일 사용</td>\n",
       "      <td>657</td>\n",
       "      <td>39800</td>\n",
       "      <td>http://item.gmarket.co.kr/Item?goodscode=17403...</td>\n",
       "      <td></td>\n",
       "    </tr>\n",
       "  </tbody>\n",
       "</table>\n",
       "<p>100 rows × 6 columns</p>\n",
       "</div>"
      ],
      "text/plain": [
       "   brand                               title  purchased_count   price  \\\n",
       "0   삼성전자    SM-R175 갤럭시버즈 플러스 블루투스이어폰 AKG 튜닝            12166  145000   \n",
       "1     애플                    에어팟 프로 MWP22KH/A              349  269900   \n",
       "2   삼성전자      인증점 갤럭시 버즈 플러스 블루투스이어폰/SM-R175             2159  145000   \n",
       "3    피스넷           끊김없는 완전무선 블루투스이어폰 피스넷 프리고            31726   49900   \n",
       "4    피스넷         골전도 블루투스 이어폰 피스넷 프리본 / 청력보호             5490   39900   \n",
       "..   ...                                 ...              ...     ...   \n",
       "95  큐씨와이  QCY T5PRO 2020최신형 무선충전 블루투스 무선 이어폰               35   28500   \n",
       "96   로이체         무선 블루투스 이어폰 /자동페어링/BTW-4 핑크              113   24350   \n",
       "97  삼성전자    갤럭시 버즈 SM-R170 화이트 초특가/한정수량/당일발송               52  129000   \n",
       "98   바넥스              아이토닉 라이트 블루투스이어폰 무선이어폰               46   32900   \n",
       "99    펜톤  TSX 대용량 배터리 40M 연결 1번 충전 최대 40일 사용              657   39800   \n",
       "\n",
       "                                                  url     sellor  \n",
       "0   http://item.gmarket.co.kr/Item?goodscode=17462...             \n",
       "1   http://item.gmarket.co.kr/Item?goodscode=18276...             \n",
       "2   http://item.gmarket.co.kr/Item?goodscode=17483...  삼성모바일액세서리  \n",
       "3   http://item.gmarket.co.kr/Item?goodscode=11478...        피스넷  \n",
       "4   http://item.gmarket.co.kr/Item?goodscode=16560...        피스넷  \n",
       "..                                                ...        ...  \n",
       "95  http://item.gmarket.co.kr/Item?goodscode=18246...      글로벌핫템  \n",
       "96  http://item.gmarket.co.kr/Item?goodscode=18060...             \n",
       "97  http://item.gmarket.co.kr/Item?goodscode=17530...     마일로114  \n",
       "98  http://item.gmarket.co.kr/Item?goodscode=17970...             \n",
       "99  http://item.gmarket.co.kr/Item?goodscode=17403...             \n",
       "\n",
       "[100 rows x 6 columns]"
      ]
     },
     "execution_count": 9,
     "metadata": {},
     "output_type": "execute_result"
    }
   ],
   "source": [
    "df1\n"
   ]
  },
  {
   "cell_type": "code",
   "execution_count": 10,
   "metadata": {},
   "outputs": [],
   "source": [
    "df1.to_excel('gmarket_scrapping_06.30.xlsx', index=True)"
   ]
  },
  {
   "cell_type": "code",
   "execution_count": null,
   "metadata": {},
   "outputs": [],
   "source": []
  }
 ],
 "metadata": {
  "kernelspec": {
   "display_name": "Python 3",
   "language": "python",
   "name": "python3"
  },
  "language_info": {
   "codemirror_mode": {
    "name": "ipython",
    "version": 3
   },
   "file_extension": ".py",
   "mimetype": "text/x-python",
   "name": "python",
   "nbconvert_exporter": "python",
   "pygments_lexer": "ipython3",
   "version": "3.7.4"
  }
 },
 "nbformat": 4,
 "nbformat_minor": 2
}
