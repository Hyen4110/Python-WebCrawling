{
 "cells": [
  {
   "cell_type": "code",
   "execution_count": 1,
   "metadata": {},
   "outputs": [],
   "source": [
    "import requests\n",
    "from bs4 import BeautifulSoup"
   ]
  },
  {
   "cell_type": "code",
   "execution_count": 2,
   "metadata": {},
   "outputs": [],
   "source": [
    "req = requests.get('http://browse.gmarket.co.kr/list?category=300028561&s=8')\n",
    "html = req.text\n",
    "soup = BeautifulSoup(html, 'html.parser')\n",
    "## CSS Selector를 통해 html요소들을 찾아낸다.\n",
    "\n",
    "##브랜드\n",
    "\n",
    "#  brand_list = []\n",
    "# for brand in soup.select('span[class=text__brand]'):\n",
    "#     brand_list.append(brand.text.strip())\n",
    "# print(brand_list)\n",
    "# print(len(brand_list))\n"
   ]
  },
  {
   "cell_type": "code",
   "execution_count": 3,
   "metadata": {},
   "outputs": [
    {
     "name": "stdout",
     "output_type": "stream",
     "text": [
      "100\n",
      "100\n",
      "['스카이', '샤오미', '애플', '삼성전자', '삼성전자', '피스넷', '삼성전자', '피스넷', '삼성전자', '엠지텍', '큐씨와이', '애플', '삼성전자', '앱코', '', '삼성전자', '삼성전자', '큐씨와이', '엠지텍', '아크로', '브리츠', '삼성전자', '애플', '피스넷', '삼성전자', '펜톤', '', '', '애플', '삼성전자', '', '삼성전자', '삼성전자', '앱코', '', 'LG', '', '삼성전자', '스마텍', '삼성전자', '', 'LG', 'LG', '삼성전자', '브리츠', '브리츠', '펜톤', '삼성전자', '', '', '큐씨와이', '큐씨와이', '', '피스넷', '삼성전자', '엠지텍', '큐씨와이', '', '브리츠', 'LG', '엠지텍', '', '애플', '큐씨와이', '', 'LG', '브리츠', '큐씨와이', '엠지텍', '코시', '큐씨와이', '삼성전자', '', '펜톤', '삼성전자', '스카이', '스카이', '삼성전자', '삼성전자', '보스', '스마텍', '큐씨와이', '애플', '피스넷', '에이투', '스카이', 'LG', '', '피스넷', '애플', '피스넷', '삼성전자', '로즈비', '큐씨와이', 'LG', '피스넷', '', 'LG', '', '']\n",
      "['스카이 핏 엑스 무선 블루투스 5.0 이어폰 블랙', '정품 QCY T5 불루투스 이어폰 5.0 게임모드 가능버전', '애플 에어팟 프로 PRO 노이즈캔슬링 국내A/S +케이스', '갤럭시버즈 플러스 블루투스 이어폰 SM-R175 화이트', '갤럭시버즈 플러스 블루투스 이어폰 SM-R175 블랙', '골전도 블루투스 이어폰 피스넷 프리본 / 청력보호', '갤럭시 버즈 라이브 블루투스이어폰 SM-R180 화이트', '끊김없는 완전무선 블루투스이어폰 피스넷 프리고', '삼성정품 갤럭시버즈플러스 SM-R175 레드 당일발송', '블루투스이어폰 아이언V50 40시간재생/IPX7완전방수', 'QCY T10 블루투스 무선 이어폰 블랙 빠른출고 재고보유', 'Apple 정품 에어팟 프로 MWP22KH/A', '갤럭시 버즈 라이브 블루투스이어폰 SM-R180 블랙', 'ABKO 비토닉 E30 (다크그레이) 블루투스 이어폰', 'QCY T5 블루투스 이어폰 4세대 특가', '갤럭시버즈 라이브 ANC 블루투스 이어폰 SM-R180 블랙', '갤럭시 버즈 라이브 블루투스이어폰 SM-R180 브론즈', 'QCY T5 블루투스 이어폰 4세대 화이트 app 연동 특가', '골전도 블루투스이어폰 이어프리G2 무선/IPX8완전방수/', '(최종가19980) ACRO i11 블루투스 무선 이어폰 5.0', 'Storm TWS5 완전 무선 블루투스 이어폰 IPx5 초경량', '갤럭시버즈 플러스 블루투스 이어폰 SM-R175 블루', '애플공식정품ㅣ국내정품 에어팟 프로  당일출고 찰스', '초경량 골전도이어폰 피스넷 프리본에어 /통화품질우수', '갤럭시버즈 플러스 SM-R175 레드 무선블루투스이어폰w', 'TSX 다이아팟 블루투스5.1로 업그레이드 2021년 최신형', 'EER 프리 블루투스 무선 이어폰', '끊김없는 블루투스이어폰/78시간재생/LED표시/ 뱅퀴시', '정품 에어팟 2세대 유선충전 우체국택배 당일발송', '갤럭시버즈 라이브 ANC 블루투스이어폰 SM-R180화이트', '1+1 QCY T5 블루투스 이어폰 4세대 현물 재고 충분', '갤럭시버즈 라이브 ANC 블루투스이어폰 SM-R180브론즈', '삼성 갤럭시 버즈 플러스 BUDS+ SM-R175 2세대 화이트', 'ABKO 비토닉 E30 (골드) 블루투스 이어폰', '삼성전자 갤럭시 버즈 라이브 온라인 정품 판매시스템', 'LG전자 톤플러스 HBS-830 블루투스 이어폰 블랙(A094)', '블린즈 블루투스이어폰 차이팟프로 파워상품', '(빠른직구)갤럭시 버즈 라이브 SM-R180 미스틱 블랙', 'STBT-2100 (블랙) 블루투스 넥밴드 이어폰 이어셋', '삼성 레벨유2 넥밴드 블루투스 이어폰 EO-B3300', '애플 정품 에어팟 2세대 유선충전(MV7N2KH/A) 블루투스', 'LG전자 톤플러스 HBS-1500 블루투스이어폰 골드(A092)', 'LG톤프리 HBS-TFN7 화이트 무선 블루투스 이어폰 ANC', '갤럭시 버즈 플러스 블루투스이어폰 SM-R175 화이트', 'BE-Vtalk7 무통증/듀얼마이크/블루투스/이어폰/이어셋', 'LUXTWS5 오픈형 블루투스 코드리스 이어폰 24시간사용', 'TSX 대용량 배터리 40M 연결 블루투스 5.1 최신형 2021', '갤럭시 버즈 라이브 SM-R180 미스틱 블랙 2020 최신', '샤오미 Haylou T16 블루투스 무선 이어폰', 'QCY T5S 블루투스 무선 이어폰 블랙 최신판', 'QCY T8 블루투스 무선 이어폰 빠른출고/재고O', 'QCY T5s 블루투스 무선 이어폰 빠른출고/재고O', 'ABKO 앱코 BEATONIC EF01 블루투스 이어폰 (블랙)', 'MP3플레이어 골전도 블루투스이어폰 피스넷 프리본MP3', 'SM-R175 갤럭시버즈 플러스 블루투스이어폰 화이트', '블루투스이어폰 아이언V60 162시간재생/IPX8', 'QCY T2C 무선이어폰 블루투스이어폰 화이트', '포데모스 PS1      200시간이상재생 보조배터리포함', '브리츠 StormTWS5Plus 무선 블루투스이어폰 C타입', 'LG 톤플러스 HBS-PL5 블루투스이어폰 화이트 포토후기', '아이언V70 블루투스이어폰 7월신제품/듀얼DAC/180시간', '큐씨와이QCY-T7 블루투스5.0 이어폰 메인호환', 'Apple 에어팟 1세대 (MMEF2KH/A) 우체국택배 당일출고', '신상품QCY T5S 블루투스 무선 이어폰 재고보유', '가성비 최고 블린즈 블루투스이어폰 차이팟2세대kc인증', 'LG톤프리 HBS-TFN6 화이트 무선 TWS 블루투스 이어폰', 'Lunatws3 무선 블루투스 이어폰 1+1 무선이어폰증정', 'QCY T10 블루투스 무선 이어폰 그린 빠른출고/재고O', '선없는완전무선블루투스이어폰 MB-W1500 케이스1+1행사', '블루투스 이어폰 릴타입 클립형 EP3292BT', '공식판매점 QCY T5 블루투스이어폰 정식수입 APP 블랙', '갤럭시 버즈 플러스 블루투스이어폰 SM-R175 블루', '펜톤 TSX 다이아팟 블루투스 무선 이어폰 블루투스 5.1', 'TSX QCC 퀄컴 aptX 무선 블루투스 이어폰 13시간 재생', '삼성 갤럭시 버즈 플러스 BUDS+ SM-R175 2세대 블랙', '스카이 핏 블루밍 블루투스이어폰 IM-S200 핑크', '스카이 핏 블루밍 블루투스이어폰 IM-S200 블루', '갤럭시 버즈 플러스 블루투스이어폰 SM-R175 블랙', '갤럭시 버즈 라이브 SM-R180 미스틱 화이트 2020 최신', 'BOSE 정품 QC Eabuds 노이즈 캔슬링 이어폰 소프스톤', 'STBT-N1 블루투스 무선 모노 이어폰 이어셋 핸즈프리', '공식판매점 QCY T5 APP 블루투스 이어폰 6개월 AS 블랙', '애플 에어팟 2세대 / 유선충전케이스모델 케이스 증정', '끊김없는 블루투스이어폰 피스넷 프리사운드 / 화이트', '끊김없는 가성비 무선블루투스이어폰 에이투픽 화이트', '스카이 핏 블루밍 블루투스이어폰 IM-S200 그레이', 'LG톤프리 HBS-TFN6 블랙 무선 TWS 블루투스 이어폰', '공식 QCY T5 APP 무선이어폰 블루투스이어폰 블랙', '무선 블루투스 이어폰 피스넷 프리고C CVC노이즈캔슬링', '애플 에어팟 프로 PRO 노이즈캔슬링 케이스증정', '끊김없는 블루투스이어폰 피스넷 프리슬림 블랙', '삼성 갤럭시 버즈 라이브 SM-R180 브론즈 정품 IF', '무선 블루투스이어폰 넥밴드 헤드셋헤드폰 삼성LG애플', 'QCY T1S 블루투스5.0 무선 이어폰 재고보유/당일출고', 'LG 톤플러스 HBS-PL5 블루투스이어폰 네이비 포토후기', '노이즈캔슬링 블루투스이어폰 피스넷 프리고ANC', '차이팟 프로 무선 블루투스 이어폰 베티팟 프로 2020', 'LG 톤플러스 HBS-PL5 블루투스이어폰 블랙', '정식수입 QCY T1C APP 블루투스이어폰 6개월 AS', 'QCY T10 블루투스 5.0 무선 이어폰 USB C타입 블랙']\n"
     ]
    }
   ],
   "source": [
    "##타이틀\n",
    "li_list = []\n",
    "brand_list = []\n",
    "title_list = []\n",
    "for li in soup.select('div[class=box__item-title]'):\n",
    "    li_list.append(li.text.strip())\n",
    "\n",
    "for li in li_list:\n",
    "    brand,title=tuple(li.split(\"상품명 \"))\n",
    "    brand = brand.replace(\"브랜드명 \",\"\").strip()\n",
    "    title = title.strip()\n",
    "    \n",
    "    brand_list.append(brand)\n",
    "    title_list.append(title)\n",
    "\n",
    "print(len(brand_list))\n",
    "print(len(title_list))\n",
    "\n",
    "print(brand_list)\n",
    "print(title_list)"
   ]
  },
  {
   "cell_type": "code",
   "execution_count": 4,
   "metadata": {},
   "outputs": [
    {
     "name": "stdout",
     "output_type": "stream",
     "text": [
      "['31470', '16400', '239000', '125000', '125000', '39900', '188100', '45900', '118900', '49900', '31000', '258540', '188100', '33430', '16630', '156000', '188100', '16550', '59800', '23290', '31550', '125000', '279890', '49900', '112810', '34800', '19800', '29900', '168690', '156000', '28500', '156000', '117900', '33900', '169850', '69890', '33440', '159000', '29800', '52200', '167640', '124740', '212430', '125000', '36900', '50920', '39800', '159000', '52500', '24800', '18700', '24400', '37110', '49900', '125000', '79000', '17180', '67710', '32150', '84670', '97000', '18900', '173530', '25800', '31680', '139000', '39900', '31100', '59900', '20360', '19900', '125000', '34800', '49800', '117900', '19950', '19950', '125000', '159000', '329000', '21800', '19900', '163900', '27900', '89900', '19950', '139000', '18920', '44900', '257900', '33900', '177000', '29900', '26900', '84670', '59900', '59000', '84670', '13900', '31900']\n"
     ]
    },
    {
     "data": {
      "text/plain": [
       "100"
      ]
     },
     "execution_count": 4,
     "metadata": {},
     "output_type": "execute_result"
    }
   ],
   "source": [
    "##가격\n",
    "price_list = []\n",
    "for price in soup.select('div[class=box__price-seller]'):\n",
    "    price = price.text.replace(\"할인적용금액 \",\"\")\n",
    "    price = price.replace(\"상품금액 \",\"\")\n",
    "    price = price.replace(\",\",\"\")\n",
    "    price = price.replace(\"원\",\"\")\n",
    "    price_list.append(price.strip())\n",
    "\n",
    "print(price_list)\n",
    "len(price_list)"
   ]
  },
  {
   "cell_type": "code",
   "execution_count": 5,
   "metadata": {
    "scrolled": true
   },
   "outputs": [
    {
     "name": "stdout",
     "output_type": "stream",
     "text": [
      "[3033, 421, 858, 5346, 1149, 11510, 2036, 35745, 1412, 4198, 75, 2264, 1580, 956, 965, 421, 1801, 44, 2612, 1949, 3284, 866, 129, 1791, 425, 2550, 32, 237, 102, 164, 113, 168, 242, 397, 78, 1983, 349, 134, 3717, 41, 4025, 31, 36, 94, 5376, 1491, 979, 126, 52, 242, 303, 124, 148, 649, 15328, 470, 1554, 440, 204, 84, 197, 2862, 59, 2877, 892, 199, 63, 28, 7407, 1540, 3209, 630, 720, 849, 187, 18, 23, 56, 30, 7, 2626, 12, 2666, 13710, 10, 18, 161, 194, 2160, 326, 16081, 22, 6398, 127, 175, 1316, 139, 406, 100, 33]\n"
     ]
    },
    {
     "data": {
      "text/plain": [
       "100"
      ]
     },
     "execution_count": 5,
     "metadata": {},
     "output_type": "execute_result"
    }
   ],
   "source": [
    "##구매수(04.10)\n",
    "count_list = []\n",
    "for link in soup.find_all(\"ul\", class_=\"list__score\"):\n",
    "    li = link.find(\"li\",class_=\"list-item list-item__pay-count\")\n",
    "    #print(li)\n",
    "    count = li.text.replace(\"구매 \",\"\")\n",
    "    count = count.replace(\"건\",\"\")\n",
    "    count = count.replace(\",\",\"\")\n",
    "    count_list.append(int(count.strip()))\n",
    "    \n",
    "print(count_list)\n",
    "len(count_list)"
   ]
  },
  {
   "cell_type": "code",
   "execution_count": 6,
   "metadata": {},
   "outputs": [],
   "source": [
    "# ##구매수 (03.28)\n",
    "# #list-item list-item__pay-count\n",
    "# div.box__information-score > ul > li.list-item.list-item__pay-count\n",
    "# count_list = []\n",
    "# for count in soup.select('li.list-item.list-item__pay-count>span.text'):\n",
    "#     count = count.text.replace(\"구매 \",\"\")\n",
    "#     count = count.replace(\",\",\"\")\n",
    "#     count_list.append(count.strip())\n",
    "# print(count_list)\n",
    "# print(len(count_list))"
   ]
  },
  {
   "cell_type": "code",
   "execution_count": 7,
   "metadata": {},
   "outputs": [
    {
     "name": "stdout",
     "output_type": "stream",
     "text": [
      "['http://item.gmarket.co.kr/Item?goodscode=1715399624', 'http://item.gmarket.co.kr/Item?goodscode=1719568344', 'http://item.gmarket.co.kr/Item?goodscode=1808782749', 'http://item.gmarket.co.kr/Item?goodscode=1748467201', 'http://item.gmarket.co.kr/Item?goodscode=1746183732', 'http://item.gmarket.co.kr/Item?goodscode=1656073805', 'http://item.gmarket.co.kr/Item?goodscode=1853129396', 'http://item.gmarket.co.kr/Item?goodscode=1147816313', 'http://item.gmarket.co.kr/Item?goodscode=1854953762', 'http://item.gmarket.co.kr/Item?goodscode=1636358422', 'http://item.gmarket.co.kr/Item?goodscode=1947071083', 'http://item.gmarket.co.kr/Item?goodscode=1760826797', 'http://item.gmarket.co.kr/Item?goodscode=1853131877', 'http://item.gmarket.co.kr/Item?goodscode=1870613531', 'http://item.gmarket.co.kr/Item?goodscode=1679516766', 'http://item.gmarket.co.kr/Item?goodscode=1861690403', 'http://item.gmarket.co.kr/Item?goodscode=1853135022', 'http://item.gmarket.co.kr/Item?goodscode=1957376736', 'http://item.gmarket.co.kr/Item?goodscode=1638457008', 'http://item.gmarket.co.kr/Item?goodscode=1812219402', 'http://item.gmarket.co.kr/Item?goodscode=1743485615', 'http://item.gmarket.co.kr/Item?goodscode=1746201901', 'http://item.gmarket.co.kr/Item?goodscode=1708304441', 'http://item.gmarket.co.kr/Item?goodscode=1841462820', 'http://item.gmarket.co.kr/Item?goodscode=1765381741', 'http://item.gmarket.co.kr/Item?goodscode=1708982202', 'http://item.gmarket.co.kr/Item?goodscode=1943673141', 'http://item.gmarket.co.kr/Item?goodscode=1925879375', 'http://item.gmarket.co.kr/Item?goodscode=1682800905', 'http://item.gmarket.co.kr/Item?goodscode=1861691165', 'http://item.gmarket.co.kr/Item?goodscode=1729864639', 'http://item.gmarket.co.kr/Item?goodscode=1861692014', 'http://item.gmarket.co.kr/Item?goodscode=1758648842', 'http://item.gmarket.co.kr/Item?goodscode=1870616788', 'http://item.gmarket.co.kr/Item?goodscode=1881909633', 'http://item.gmarket.co.kr/Item?goodscode=868886705', 'http://item.gmarket.co.kr/Item?goodscode=1882969687', 'http://item.gmarket.co.kr/Item?goodscode=1862701407', 'http://item.gmarket.co.kr/Item?goodscode=1523090159', 'http://item.gmarket.co.kr/Item?goodscode=1947841301', 'http://item.gmarket.co.kr/Item?goodscode=1677283274', 'http://item.gmarket.co.kr/Item?goodscode=1885147389', 'http://item.gmarket.co.kr/Item?goodscode=1942674372', 'http://item.gmarket.co.kr/Item?goodscode=1852997978', 'http://item.gmarket.co.kr/Item?goodscode=1462464005', 'http://item.gmarket.co.kr/Item?goodscode=1730313093', 'http://item.gmarket.co.kr/Item?goodscode=1740328830', 'http://item.gmarket.co.kr/Item?goodscode=1899731047', 'http://item.gmarket.co.kr/Item?goodscode=1932946828', 'http://item.gmarket.co.kr/Item?goodscode=1892632143', 'http://item.gmarket.co.kr/Item?goodscode=1854116500', 'http://item.gmarket.co.kr/Item?goodscode=1854120790', 'http://item.gmarket.co.kr/Item?goodscode=1789398857', 'http://item.gmarket.co.kr/Item?goodscode=1842031753', 'http://item.gmarket.co.kr/Item?goodscode=1746228945', 'http://item.gmarket.co.kr/Item?goodscode=1816062151', 'http://item.gmarket.co.kr/Item?goodscode=1645446713', 'http://item.gmarket.co.kr/Item?goodscode=1700787053', 'http://item.gmarket.co.kr/Item?goodscode=1893212423', 'http://item.gmarket.co.kr/Item?goodscode=1669389120', 'http://item.gmarket.co.kr/Item?goodscode=1833345124', 'http://item.gmarket.co.kr/Item?goodscode=1832043934', 'http://item.gmarket.co.kr/Item?goodscode=1826471378', 'http://item.gmarket.co.kr/Item?goodscode=1778863706', 'http://item.gmarket.co.kr/Item?goodscode=1841596679', 'http://item.gmarket.co.kr/Item?goodscode=1845919348', 'http://item.gmarket.co.kr/Item?goodscode=1943165177', 'http://item.gmarket.co.kr/Item?goodscode=1924910822', 'http://item.gmarket.co.kr/Item?goodscode=982960417', 'http://item.gmarket.co.kr/Item?goodscode=1473907024', 'http://item.gmarket.co.kr/Item?goodscode=1718214366', 'http://item.gmarket.co.kr/Item?goodscode=1852995661', 'http://item.gmarket.co.kr/Item?goodscode=1703968476', 'http://item.gmarket.co.kr/Item?goodscode=1743824183', 'http://item.gmarket.co.kr/Item?goodscode=1758650419', 'http://item.gmarket.co.kr/Item?goodscode=1942950000', 'http://item.gmarket.co.kr/Item?goodscode=1942923153', 'http://item.gmarket.co.kr/Item?goodscode=1852996962', 'http://item.gmarket.co.kr/Item?goodscode=1899730125', 'http://item.gmarket.co.kr/Item?goodscode=1956737111', 'http://item.gmarket.co.kr/Item?goodscode=1471394053', 'http://item.gmarket.co.kr/Item?goodscode=1958153813', 'http://item.gmarket.co.kr/Item?goodscode=1594916512', 'http://item.gmarket.co.kr/Item?goodscode=1556105226', 'http://item.gmarket.co.kr/Item?goodscode=1942618752', 'http://item.gmarket.co.kr/Item?goodscode=1942956478', 'http://item.gmarket.co.kr/Item?goodscode=1845914002', 'http://item.gmarket.co.kr/Item?goodscode=1945398600', 'http://item.gmarket.co.kr/Item?goodscode=1704981395', 'http://item.gmarket.co.kr/Item?goodscode=1779777881', 'http://item.gmarket.co.kr/Item?goodscode=1533958684', 'http://item.gmarket.co.kr/Item?goodscode=1868505636', 'http://item.gmarket.co.kr/Item?goodscode=710673193', 'http://item.gmarket.co.kr/Item?goodscode=1591041156', 'http://item.gmarket.co.kr/Item?goodscode=1669380956', 'http://item.gmarket.co.kr/Item?goodscode=1743002547', 'http://item.gmarket.co.kr/Item?goodscode=1848064041', 'http://item.gmarket.co.kr/Item?goodscode=1669382421', 'http://item.gmarket.co.kr/Item?goodscode=1925843279', 'http://item.gmarket.co.kr/Item?goodscode=1948004421']\n"
     ]
    },
    {
     "data": {
      "text/plain": [
       "100"
      ]
     },
     "execution_count": 7,
     "metadata": {},
     "output_type": "execute_result"
    }
   ],
   "source": [
    "##링크\n",
    "link_list = []\n",
    "for link in soup.find_all(\"div\", class_=\"box__item-title\"):\n",
    "    li = link.find('a')['href']\n",
    "    link_list.append(li)\n",
    "    \n",
    "print(link_list)\n",
    "len(link_list)"
   ]
  },
  {
   "cell_type": "code",
   "execution_count": 8,
   "metadata": {},
   "outputs": [
    {
     "name": "stdout",
     "output_type": "stream",
     "text": [
      "['SKY공식온라인몰', 'q370011183', 'EZBUY_TRADE', '', '', '피스넷', '삼성모바일액세서리', '피스넷', '주식회사잇서', '주식회사엠지텍', 'QuickYOMI', 'Apple공식판매점', '삼성모바일액세서리', '', 'zhixin2019', '', '삼성모바일액세서리', 'q370011183', '주식회사엠지텍', '', '', '', '찰스컴퍼니', '피스넷', '우승글로벌', '', '쇼핑엔티', 'MpgioStore', '타메몰', '', 'zhixin2019', '', 'EZBUY_TRADE', '', '케이원디지털', '블루원스토어', '블린즈', 'FastEzbuy', '', '', '에스엠퓨처스', '블루원스토어', 'LG총판_티앤티정보', '삼성모바일액세서리', '', '', '', 'EZBUY_TRADE', 'gshopper11', 'EZBUY_TRADE', 'QuickYOMI', 'QuickYOMI', '아이텐츠', '피스넷', '', '', '컴퓨터-세상', '포데모스', '', 'LG총판(주)이파트너스', '주식회사엠지텍', 'MC해외직구샵', '케이원디지털', 'YOMI02', '블린즈', '', '서로서로샵', 'QuickYOMI', '주식회사엠지텍', '(주)코시', '오랑주', '삼성모바일액세서리', '획기적인아이템', '획기적인아이템', 'EZBUY_TRADE', 'SKY공식온라인몰', 'SKY공식온라인몰', '삼성모바일액세서리', 'EZBUY_TRADE', '', '', '', 'EZBUY_TRADE', '피스넷', '에이투몰', 'SKY공식온라인몰', '', '컴퓨터-세상', '피스넷', 'EZBUY_TRADE', '피스넷', '주)아이템팩토리', '로즈비', '라온스마트몰', 'LG총판(주)이파트너스', '피스넷', '베티홈', 'LG총판(주)이파트너스', '', 'EZBUY_TRADE']\n"
     ]
    },
    {
     "data": {
      "text/plain": [
       "100"
      ]
     },
     "execution_count": 8,
     "metadata": {},
     "output_type": "execute_result"
    }
   ],
   "source": [
    "##판매처\n",
    "sellor_list = []\n",
    "for sellor in soup.select('div[class=box__information_seller]'):\n",
    "    sellor, *gar = tuple(sellor.text.split(\"판매자평가정보\"))\n",
    "    sellor = sellor[3:]\n",
    "    sellor_list.append(sellor.strip())\n",
    "\n",
    "print(sellor_list)\n",
    "len(sellor_list)"
   ]
  },
  {
   "cell_type": "code",
   "execution_count": 9,
   "metadata": {},
   "outputs": [
    {
     "name": "stdout",
     "output_type": "stream",
     "text": [
      "   brand                               title  purchased_count   price  \\\n",
      "0    스카이         스카이 핏 엑스 무선 블루투스 5.0 이어폰 블랙             3033   31470   \n",
      "1    샤오미    정품 QCY T5 불루투스 이어폰 5.0 게임모드 가능버전              421   16400   \n",
      "2     애플     애플 에어팟 프로 PRO 노이즈캔슬링 국내A/S +케이스              858  239000   \n",
      "3   삼성전자      갤럭시버즈 플러스 블루투스 이어폰 SM-R175 화이트             5346  125000   \n",
      "4   삼성전자       갤럭시버즈 플러스 블루투스 이어폰 SM-R175 블랙             1149  125000   \n",
      "..   ...                                 ...              ...     ...   \n",
      "95   피스넷           노이즈캔슬링 블루투스이어폰 피스넷 프리고ANC             1316   59900   \n",
      "96            차이팟 프로 무선 블루투스 이어폰 베티팟 프로 2020              139   59000   \n",
      "97    LG          LG 톤플러스 HBS-PL5 블루투스이어폰 블랙              406   84670   \n",
      "98           정식수입 QCY T1C APP 블루투스이어폰 6개월 AS              100   13900   \n",
      "99        QCY T10 블루투스 5.0 무선 이어폰 USB C타입 블랙               33   31900   \n",
      "\n",
      "                                                  url        sellor  \n",
      "0   http://item.gmarket.co.kr/Item?goodscode=17153...     SKY공식온라인몰  \n",
      "1   http://item.gmarket.co.kr/Item?goodscode=17195...    q370011183  \n",
      "2   http://item.gmarket.co.kr/Item?goodscode=18087...   EZBUY_TRADE  \n",
      "3   http://item.gmarket.co.kr/Item?goodscode=17484...                \n",
      "4   http://item.gmarket.co.kr/Item?goodscode=17461...                \n",
      "..                                                ...           ...  \n",
      "95  http://item.gmarket.co.kr/Item?goodscode=17430...           피스넷  \n",
      "96  http://item.gmarket.co.kr/Item?goodscode=18480...           베티홈  \n",
      "97  http://item.gmarket.co.kr/Item?goodscode=16693...  LG총판(주)이파트너스  \n",
      "98  http://item.gmarket.co.kr/Item?goodscode=19258...                \n",
      "99  http://item.gmarket.co.kr/Item?goodscode=19480...   EZBUY_TRADE  \n",
      "\n",
      "[100 rows x 6 columns]\n"
     ]
    }
   ],
   "source": [
    "from pandas import DataFrame\n",
    "\n",
    "df1 =  DataFrame({\"brand\": brand_list, \"title\": title_list, \"purchased_count\":count_list, \"price\": price_list,\n",
    "                 \"url\":link_list, \"sellor\":sellor_list})\n",
    "print(df1)\n",
    "                  #, \"c\": [11, 22, 33], \"c3\": [111, 222, 333]}, index=[\"i1\", \"i2\", \"i3\"]"
   ]
  },
  {
   "cell_type": "code",
   "execution_count": 10,
   "metadata": {
    "scrolled": false
   },
   "outputs": [
    {
     "data": {
      "text/html": [
       "<div>\n",
       "<style scoped>\n",
       "    .dataframe tbody tr th:only-of-type {\n",
       "        vertical-align: middle;\n",
       "    }\n",
       "\n",
       "    .dataframe tbody tr th {\n",
       "        vertical-align: top;\n",
       "    }\n",
       "\n",
       "    .dataframe thead th {\n",
       "        text-align: right;\n",
       "    }\n",
       "</style>\n",
       "<table border=\"1\" class=\"dataframe\">\n",
       "  <thead>\n",
       "    <tr style=\"text-align: right;\">\n",
       "      <th></th>\n",
       "      <th>brand</th>\n",
       "      <th>title</th>\n",
       "      <th>purchased_count</th>\n",
       "      <th>price</th>\n",
       "      <th>url</th>\n",
       "      <th>sellor</th>\n",
       "    </tr>\n",
       "  </thead>\n",
       "  <tbody>\n",
       "    <tr>\n",
       "      <th>0</th>\n",
       "      <td>스카이</td>\n",
       "      <td>스카이 핏 엑스 무선 블루투스 5.0 이어폰 블랙</td>\n",
       "      <td>3033</td>\n",
       "      <td>31470</td>\n",
       "      <td>http://item.gmarket.co.kr/Item?goodscode=17153...</td>\n",
       "      <td>SKY공식온라인몰</td>\n",
       "    </tr>\n",
       "    <tr>\n",
       "      <th>1</th>\n",
       "      <td>샤오미</td>\n",
       "      <td>정품 QCY T5 불루투스 이어폰 5.0 게임모드 가능버전</td>\n",
       "      <td>421</td>\n",
       "      <td>16400</td>\n",
       "      <td>http://item.gmarket.co.kr/Item?goodscode=17195...</td>\n",
       "      <td>q370011183</td>\n",
       "    </tr>\n",
       "    <tr>\n",
       "      <th>2</th>\n",
       "      <td>애플</td>\n",
       "      <td>애플 에어팟 프로 PRO 노이즈캔슬링 국내A/S +케이스</td>\n",
       "      <td>858</td>\n",
       "      <td>239000</td>\n",
       "      <td>http://item.gmarket.co.kr/Item?goodscode=18087...</td>\n",
       "      <td>EZBUY_TRADE</td>\n",
       "    </tr>\n",
       "    <tr>\n",
       "      <th>3</th>\n",
       "      <td>삼성전자</td>\n",
       "      <td>갤럭시버즈 플러스 블루투스 이어폰 SM-R175 화이트</td>\n",
       "      <td>5346</td>\n",
       "      <td>125000</td>\n",
       "      <td>http://item.gmarket.co.kr/Item?goodscode=17484...</td>\n",
       "      <td></td>\n",
       "    </tr>\n",
       "    <tr>\n",
       "      <th>4</th>\n",
       "      <td>삼성전자</td>\n",
       "      <td>갤럭시버즈 플러스 블루투스 이어폰 SM-R175 블랙</td>\n",
       "      <td>1149</td>\n",
       "      <td>125000</td>\n",
       "      <td>http://item.gmarket.co.kr/Item?goodscode=17461...</td>\n",
       "      <td></td>\n",
       "    </tr>\n",
       "    <tr>\n",
       "      <th>...</th>\n",
       "      <td>...</td>\n",
       "      <td>...</td>\n",
       "      <td>...</td>\n",
       "      <td>...</td>\n",
       "      <td>...</td>\n",
       "      <td>...</td>\n",
       "    </tr>\n",
       "    <tr>\n",
       "      <th>95</th>\n",
       "      <td>피스넷</td>\n",
       "      <td>노이즈캔슬링 블루투스이어폰 피스넷 프리고ANC</td>\n",
       "      <td>1316</td>\n",
       "      <td>59900</td>\n",
       "      <td>http://item.gmarket.co.kr/Item?goodscode=17430...</td>\n",
       "      <td>피스넷</td>\n",
       "    </tr>\n",
       "    <tr>\n",
       "      <th>96</th>\n",
       "      <td></td>\n",
       "      <td>차이팟 프로 무선 블루투스 이어폰 베티팟 프로 2020</td>\n",
       "      <td>139</td>\n",
       "      <td>59000</td>\n",
       "      <td>http://item.gmarket.co.kr/Item?goodscode=18480...</td>\n",
       "      <td>베티홈</td>\n",
       "    </tr>\n",
       "    <tr>\n",
       "      <th>97</th>\n",
       "      <td>LG</td>\n",
       "      <td>LG 톤플러스 HBS-PL5 블루투스이어폰 블랙</td>\n",
       "      <td>406</td>\n",
       "      <td>84670</td>\n",
       "      <td>http://item.gmarket.co.kr/Item?goodscode=16693...</td>\n",
       "      <td>LG총판(주)이파트너스</td>\n",
       "    </tr>\n",
       "    <tr>\n",
       "      <th>98</th>\n",
       "      <td></td>\n",
       "      <td>정식수입 QCY T1C APP 블루투스이어폰 6개월 AS</td>\n",
       "      <td>100</td>\n",
       "      <td>13900</td>\n",
       "      <td>http://item.gmarket.co.kr/Item?goodscode=19258...</td>\n",
       "      <td></td>\n",
       "    </tr>\n",
       "    <tr>\n",
       "      <th>99</th>\n",
       "      <td></td>\n",
       "      <td>QCY T10 블루투스 5.0 무선 이어폰 USB C타입 블랙</td>\n",
       "      <td>33</td>\n",
       "      <td>31900</td>\n",
       "      <td>http://item.gmarket.co.kr/Item?goodscode=19480...</td>\n",
       "      <td>EZBUY_TRADE</td>\n",
       "    </tr>\n",
       "  </tbody>\n",
       "</table>\n",
       "<p>100 rows × 6 columns</p>\n",
       "</div>"
      ],
      "text/plain": [
       "   brand                               title  purchased_count   price  \\\n",
       "0    스카이         스카이 핏 엑스 무선 블루투스 5.0 이어폰 블랙             3033   31470   \n",
       "1    샤오미    정품 QCY T5 불루투스 이어폰 5.0 게임모드 가능버전              421   16400   \n",
       "2     애플     애플 에어팟 프로 PRO 노이즈캔슬링 국내A/S +케이스              858  239000   \n",
       "3   삼성전자      갤럭시버즈 플러스 블루투스 이어폰 SM-R175 화이트             5346  125000   \n",
       "4   삼성전자       갤럭시버즈 플러스 블루투스 이어폰 SM-R175 블랙             1149  125000   \n",
       "..   ...                                 ...              ...     ...   \n",
       "95   피스넷           노이즈캔슬링 블루투스이어폰 피스넷 프리고ANC             1316   59900   \n",
       "96            차이팟 프로 무선 블루투스 이어폰 베티팟 프로 2020              139   59000   \n",
       "97    LG          LG 톤플러스 HBS-PL5 블루투스이어폰 블랙              406   84670   \n",
       "98           정식수입 QCY T1C APP 블루투스이어폰 6개월 AS              100   13900   \n",
       "99        QCY T10 블루투스 5.0 무선 이어폰 USB C타입 블랙               33   31900   \n",
       "\n",
       "                                                  url        sellor  \n",
       "0   http://item.gmarket.co.kr/Item?goodscode=17153...     SKY공식온라인몰  \n",
       "1   http://item.gmarket.co.kr/Item?goodscode=17195...    q370011183  \n",
       "2   http://item.gmarket.co.kr/Item?goodscode=18087...   EZBUY_TRADE  \n",
       "3   http://item.gmarket.co.kr/Item?goodscode=17484...                \n",
       "4   http://item.gmarket.co.kr/Item?goodscode=17461...                \n",
       "..                                                ...           ...  \n",
       "95  http://item.gmarket.co.kr/Item?goodscode=17430...           피스넷  \n",
       "96  http://item.gmarket.co.kr/Item?goodscode=18480...           베티홈  \n",
       "97  http://item.gmarket.co.kr/Item?goodscode=16693...  LG총판(주)이파트너스  \n",
       "98  http://item.gmarket.co.kr/Item?goodscode=19258...                \n",
       "99  http://item.gmarket.co.kr/Item?goodscode=19480...   EZBUY_TRADE  \n",
       "\n",
       "[100 rows x 6 columns]"
      ]
     },
     "execution_count": 10,
     "metadata": {},
     "output_type": "execute_result"
    }
   ],
   "source": [
    "df1\n"
   ]
  },
  {
   "cell_type": "code",
   "execution_count": 12,
   "metadata": {},
   "outputs": [],
   "source": [
    "df1.to_excel('gmarket_scrapping_11.30.xlsx', index=True)"
   ]
  },
  {
   "cell_type": "code",
   "execution_count": null,
   "metadata": {},
   "outputs": [],
   "source": []
  }
 ],
 "metadata": {
  "kernelspec": {
   "display_name": "Python 3",
   "language": "python",
   "name": "python3"
  },
  "language_info": {
   "codemirror_mode": {
    "name": "ipython",
    "version": 3
   },
   "file_extension": ".py",
   "mimetype": "text/x-python",
   "name": "python",
   "nbconvert_exporter": "python",
   "pygments_lexer": "ipython3",
   "version": "3.7.4"
  }
 },
 "nbformat": 4,
 "nbformat_minor": 2
}
