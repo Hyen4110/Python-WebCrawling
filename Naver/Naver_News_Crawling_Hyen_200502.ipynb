{
 "cells": [
  {
   "cell_type": "markdown",
   "metadata": {},
   "source": [
    "#### 개정 일자: 2020.11.02\n",
    "\n",
    "\n",
    "#### 2020.11.02\n",
    "\n",
    "1) 뉴스검색결과 전체 건수 항목 사라져서 삭제\n",
    "\n",
    "#### 2020.05.02\n",
    "1) 시작날짜, 종료날짜 입력하여 실행하도록 설정\n",
    "\n",
    "2) column단위 병합에서 row 단위 개별 추가로 변경"
   ]
  },
  {
   "cell_type": "code",
   "execution_count": 1,
   "metadata": {},
   "outputs": [],
   "source": [
    "import re\n",
    "import time\n",
    "import requests\n",
    "import pandas as pd\n",
    "from pandas import DataFrame\n",
    "from bs4 import BeautifulSoup\n",
    "from datetime import datetime, timedelta"
   ]
  },
  {
   "cell_type": "code",
   "execution_count": 2,
   "metadata": {},
   "outputs": [],
   "source": [
    "#수집 : keyword(키워드, sortNo(정렬기준)\n",
    "def searchNewsExtractor1(keyword,sortNo): #수동\n",
    "    global soup\n",
    "    #pageNcnt = soup.find('div', {'class' : 'title_desc all_my'}).text\n",
    "    #match = re.search('\\d*,*\\d*건',pageNcnt)\n",
    "    news_count = int(str(match.group())[:-1].replace(\",\",\"\"))\n",
    "    \n",
    "    for i in range(news_count//10+1): #4,000건이 최대    \n",
    "        pageNo= 10*i+1\n",
    "        url = \"https://search.naver.com/search.naver?&where=news&query=\"+keyword+\"&sm=tab_pge&sort=\"+str(sortNo)+\"&photo=0&field=0&reporter_article=&pd=0&ds=&de=&docid=&nso=so:da,p:all,a:all&mynews=0&start=\"+str(pageNo)+\"&refresh_start=0\"\n",
    "        req = requests.get(url)\n",
    "        html = req.text\n",
    "        soup = BeautifulSoup(html, 'lxml')\n",
    "        newsParser()\n",
    "        \n",
    "        if req.status_code==200:\n",
    "            print(\"뉴스 \",pageNo,\"번째 수집 완료\")"
   ]
  },
  {
   "cell_type": "code",
   "execution_count": 3,
   "metadata": {},
   "outputs": [],
   "source": [
    "#수집 : keyword/ 정렬순서(최신/과거)/ 날짜 지정 \n",
    "def searchNewsExtractor2(keyword,sortNo,sdate,edate): #자동\n",
    "    global soup\n",
    "    dot_sdate = sdate[0:4]+\".\"+sdate[4:6]+\".\"+sdate[6:8]\n",
    "    dot_edate = edate[0:4]+\".\"+edate[4:6]+\".\"+edate[6:8]\n",
    "    \n",
    "    url1 = \"https://search.naver.com/search.naver?&where=news&query=\"+keyword+\"&sm=tab_pge&sort=\"+str(sortNo)+\"&photo=0&field=0&reporter_article=&pd=3&ds=\"+dot_sdate+\"&de=\"+dot_edate+\"&docid=&nso=so:dd,p:from\"+sdate+\"to\"+edate+\"%2Ca%3Aall&mynews=0&start=1+&refresh_start=0\"\n",
    "    req1 = requests.get(url1)\n",
    "    html1 = req1.text\n",
    "    soup1 = BeautifulSoup(html1, 'lxml')\n",
    "    \n",
    "    pageNcnt = soup1.find('div', {'class' : 'title_desc all_my'}).text\n",
    "    match = re.search('\\d*,*\\d*건',pageNcnt)\n",
    "    news_count = int(str(match.group())[:-1].replace(\",\",\"\"))\n",
    "    \n",
    "    for i in range(news_count//10+1): #4,000건이 최대\n",
    "        pageNo= 10*i+1\n",
    "        url = \"https://search.naver.com/search.naver?&where=news&query=\"+keyword+\"&sm=tab_pge&sort=\"+str(sortNo)+\"&photo=0&field=0&reporter_article=&pd=3&ds=\"+dot_sdate+\"&de=\"+dot_edate+\"&docid=&nso=so:dd,p:from\"+sdate+\"to\"+edate+\"%2Ca%3Aall&mynews=0&start=\"+str(pageNo)+\"&refresh_start=0\"\n",
    "        req = requests.get(url)\n",
    "        html = req.text\n",
    "        soup = BeautifulSoup(html, 'lxml')\n",
    "        newsParser()\n",
    "        \n",
    "        if req.status_code==200:\n",
    "            print(keyword,\"/\",sdate,\"~\",edate,\"--> \" ,pageNo,\"/\",news_count)\n",
    "            #print(url)"
   ]
  },
  {
   "cell_type": "code",
   "execution_count": 4,
   "metadata": {},
   "outputs": [],
   "source": [
    "def newsParser():\n",
    "    global href_list\n",
    "    global title_list\n",
    "    global press_list\n",
    "    global date_list\n",
    "    global content_list\n",
    "\n",
    "    #1. 링크, 2. 타이틀\n",
    "    hrefNtitle = soup.find_all(class_=[\" _sp_each_title\",\"_sp_each_url _sp_each_title\"])    \n",
    "    for i in hrefNtitle:\n",
    "        href_list.append(i['href']) \n",
    "        title_list.append(i['title'])\n",
    "        \n",
    "    #3. 언론사\n",
    "    press = soup.find_all(\"span\",{\"class\":\"_sp_each_source\"})\n",
    "    for i in press:\n",
    "        press_list.append(i.text)\n",
    "\n",
    "    #4. 날짜(3가지 유형 - 날짜/일 전/ 시간 전)\n",
    "    sourceNdate= soup.find_all(\"dd\",{\"class\":\"txt_inline\"})\n",
    "\n",
    "    for i in sourceNdate:\n",
    "        try: \n",
    "            match = re.search(r'\\d{4}.\\d{2}.\\d{2}', i.text)\n",
    "            date_list.append(str(match.group()))\n",
    "        except AttributeError:\n",
    "            try: \n",
    "                if \"일\" in i.text:\n",
    "                    match = re.search('\\d+일 전', i.text)\n",
    "                    date_list.append(str(match.group())) \n",
    "                elif \"시간\" in i.text:\n",
    "                    match = re.search('\\d+시간 전', i.text)\n",
    "                    date_list.append(str(match.group()))\n",
    "                else: pass\n",
    "            except AttributeError: \n",
    "                date_list.append(i.text)\n",
    "            \n",
    "    # 5. 본문\n",
    "    articles = soup.select('.type01 > li')\n",
    "    for i in range(len(articles)):\n",
    "        content_list.append(articles[i].select('dl > dd')[1].text)"
   ]
  },
  {
   "cell_type": "code",
   "execution_count": 5,
   "metadata": {},
   "outputs": [],
   "source": [
    "def to_excel(filenm):\n",
    "    global df1   \n",
    "    df1 =  DataFrame({\"date\":date_list,\n",
    "                      \"press\": press_list, \n",
    "                      \"title\": title_list,  \n",
    "                      \"content\": content_list,\n",
    "                      \"url\":href_list})\n",
    "    \n",
    "    for i in range(len(df1)):\n",
    "        #print(df1.date[i])\n",
    "\n",
    "        #최신날짜 \"-일전/-시간 전\" 정제하기 \n",
    "        if \"일\" in df1.date[i]:\n",
    "            match = re.search('\\d+', df1.date[i])\n",
    "            now = datetime.now() #현재 시간(수집 시간)\n",
    "            diff = int(match.group()) #몇일 전/몇시간 전인지\n",
    "            date = now - timedelta(days=diff)\n",
    "            df1.date[i] = date.strftime(\"%Y.%m.%d\")\n",
    "\n",
    "        elif \"시간\" in df1.date[i]:\n",
    "            match = re.search('\\d+', df1.date[i])\n",
    "            now = datetime.now() #현재 시간(수집 시간)\n",
    "            diff = int(match.group()) #몇일 전/몇시간 전인지\n",
    "            date = now - timedelta(hours=diff)\n",
    "            \n",
    "            df1.date[i] = date.strftime(\"%Y.%m.%d\")\n",
    "            #print(\"몇시간전? :\",diff,\"\\n현재시각: \",now, \"\\n바뀐 시간: \", date)\n",
    "            #print(\"입력시간: \",date.strftime(\"%Y.%m.%d\"))\n",
    "        else: pass\n",
    "    \n",
    "    df1.to_excel(filenm, index=True)\n",
    "    return df1"
   ]
  },
  {
   "cell_type": "code",
   "execution_count": 6,
   "metadata": {
    "scrolled": true
   },
   "outputs": [
    {
     "ename": "AttributeError",
     "evalue": "'NoneType' object has no attribute 'text'",
     "output_type": "error",
     "traceback": [
      "\u001b[1;31m---------------------------------------------------------------------------\u001b[0m",
      "\u001b[1;31mAttributeError\u001b[0m                            Traceback (most recent call last)",
      "\u001b[1;32m<ipython-input-6-4840be872d2f>\u001b[0m in \u001b[0;36m<module>\u001b[1;34m\u001b[0m\n\u001b[0;32m     16\u001b[0m \u001b[1;33m\u001b[0m\u001b[0m\n\u001b[0;32m     17\u001b[0m \u001b[1;31m#2. 날짜지정\u001b[0m\u001b[1;33m\u001b[0m\u001b[1;33m\u001b[0m\u001b[1;33m\u001b[0m\u001b[0m\n\u001b[1;32m---> 18\u001b[1;33m \u001b[0msearchNewsExtractor2\u001b[0m\u001b[1;33m(\u001b[0m\u001b[0mkeyword\u001b[0m\u001b[1;33m,\u001b[0m\u001b[0msortNo\u001b[0m\u001b[1;33m,\u001b[0m\u001b[0msdate\u001b[0m\u001b[1;33m,\u001b[0m\u001b[0medate\u001b[0m\u001b[1;33m)\u001b[0m\u001b[1;33m\u001b[0m\u001b[1;33m\u001b[0m\u001b[0m\n\u001b[0m\u001b[0;32m     19\u001b[0m \u001b[0mto_excel\u001b[0m\u001b[1;33m(\u001b[0m\u001b[0mfilenm\u001b[0m\u001b[1;33m)\u001b[0m\u001b[1;33m\u001b[0m\u001b[1;33m\u001b[0m\u001b[0m\n",
      "\u001b[1;32m<ipython-input-3-7198ba95952f>\u001b[0m in \u001b[0;36msearchNewsExtractor2\u001b[1;34m(keyword, sortNo, sdate, edate)\u001b[0m\n\u001b[0;32m     10\u001b[0m     \u001b[0msoup1\u001b[0m \u001b[1;33m=\u001b[0m \u001b[0mBeautifulSoup\u001b[0m\u001b[1;33m(\u001b[0m\u001b[0mhtml1\u001b[0m\u001b[1;33m,\u001b[0m \u001b[1;34m'lxml'\u001b[0m\u001b[1;33m)\u001b[0m\u001b[1;33m\u001b[0m\u001b[1;33m\u001b[0m\u001b[0m\n\u001b[0;32m     11\u001b[0m \u001b[1;33m\u001b[0m\u001b[0m\n\u001b[1;32m---> 12\u001b[1;33m     \u001b[0mpageNcnt\u001b[0m \u001b[1;33m=\u001b[0m \u001b[0msoup1\u001b[0m\u001b[1;33m.\u001b[0m\u001b[0mfind\u001b[0m\u001b[1;33m(\u001b[0m\u001b[1;34m'div'\u001b[0m\u001b[1;33m,\u001b[0m \u001b[1;33m{\u001b[0m\u001b[1;34m'class'\u001b[0m \u001b[1;33m:\u001b[0m \u001b[1;34m'title_desc all_my'\u001b[0m\u001b[1;33m}\u001b[0m\u001b[1;33m)\u001b[0m\u001b[1;33m.\u001b[0m\u001b[0mtext\u001b[0m\u001b[1;33m\u001b[0m\u001b[1;33m\u001b[0m\u001b[0m\n\u001b[0m\u001b[0;32m     13\u001b[0m     \u001b[0mmatch\u001b[0m \u001b[1;33m=\u001b[0m \u001b[0mre\u001b[0m\u001b[1;33m.\u001b[0m\u001b[0msearch\u001b[0m\u001b[1;33m(\u001b[0m\u001b[1;34m'\\d*,*\\d*건'\u001b[0m\u001b[1;33m,\u001b[0m\u001b[0mpageNcnt\u001b[0m\u001b[1;33m)\u001b[0m\u001b[1;33m\u001b[0m\u001b[1;33m\u001b[0m\u001b[0m\n\u001b[0;32m     14\u001b[0m     \u001b[0mnews_count\u001b[0m \u001b[1;33m=\u001b[0m \u001b[0mint\u001b[0m\u001b[1;33m(\u001b[0m\u001b[0mstr\u001b[0m\u001b[1;33m(\u001b[0m\u001b[0mmatch\u001b[0m\u001b[1;33m.\u001b[0m\u001b[0mgroup\u001b[0m\u001b[1;33m(\u001b[0m\u001b[1;33m)\u001b[0m\u001b[1;33m)\u001b[0m\u001b[1;33m[\u001b[0m\u001b[1;33m:\u001b[0m\u001b[1;33m-\u001b[0m\u001b[1;36m1\u001b[0m\u001b[1;33m]\u001b[0m\u001b[1;33m.\u001b[0m\u001b[0mreplace\u001b[0m\u001b[1;33m(\u001b[0m\u001b[1;34m\",\"\u001b[0m\u001b[1;33m,\u001b[0m\u001b[1;34m\"\"\u001b[0m\u001b[1;33m)\u001b[0m\u001b[1;33m)\u001b[0m\u001b[1;33m\u001b[0m\u001b[1;33m\u001b[0m\u001b[0m\n",
      "\u001b[1;31mAttributeError\u001b[0m: 'NoneType' object has no attribute 'text'"
     ]
    }
   ],
   "source": [
    "#####-------------main-----------------#####\n",
    "href_list = []\n",
    "title_list = []\n",
    "press_list = []\n",
    "date_list = []\n",
    "content_list = []\n",
    "\n",
    "keyword = \"카운터포인트리서치\" #카운터포인트리서치/스트래티지애널리틱스\n",
    "sortNo = 1 #1:최신순, 2: 과거순\n",
    "sdate = \"20201001\" #시작 날짜\n",
    "edate = \"20201030\" #종료 날짜 \n",
    "filenm = keyword+\"_\"+sdate+\"_\"+edate+\".xlsx\" #저장할 파일명\n",
    "\n",
    "#1. 최신순/과거순\n",
    "#searchNewsExtractor1(keyword,sortNo)\n",
    "\n",
    "#2. 날짜지정\n",
    "searchNewsExtractor2(keyword,sortNo,sdate,edate)\n",
    "to_excel(filenm)"
   ]
  }
 ],
 "metadata": {
  "kernelspec": {
   "display_name": "Python 3",
   "language": "python",
   "name": "python3"
  },
  "language_info": {
   "codemirror_mode": {
    "name": "ipython",
    "version": 3
   },
   "file_extension": ".py",
   "mimetype": "text/x-python",
   "name": "python",
   "nbconvert_exporter": "python",
   "pygments_lexer": "ipython3",
   "version": "3.7.4"
  }
 },
 "nbformat": 4,
 "nbformat_minor": 2
}
