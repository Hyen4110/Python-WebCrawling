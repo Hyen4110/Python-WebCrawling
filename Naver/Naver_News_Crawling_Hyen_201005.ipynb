{
 "cells": [
  {
   "cell_type": "code",
   "execution_count": 23,
   "metadata": {},
   "outputs": [],
   "source": [
    "import requests\n",
    "from bs4 import BeautifulSoup\n",
    "import re"
   ]
  },
  {
   "cell_type": "code",
   "execution_count": 3,
   "metadata": {},
   "outputs": [],
   "source": [
    "keyword = \"카운터포인트리서치\"\n",
    "url = \"https://search.naver.com/search.naver?where=news&query=\"+keyword+\"&sm=tab_srt&sort=2&photo=0&field=0&reporter_article=&pd=0&ds=&de=&docid=&nso=so%3Ada%2Cp%3Aall%2Ca%3Aall&mynews=0&refresh_start=0&related=0\"\n",
    "\n",
    "req = requests.get(url)\n",
    "html = req.text\n",
    "soup = BeautifulSoup(html, 'lxml')\n",
    "\n",
    "url\n",
    "news_count=soup.find('div', {'class' : 'title_desc all_my'})\n"
   ]
  },
  {
   "cell_type": "code",
   "execution_count": 125,
   "metadata": {},
   "outputs": [
    {
     "name": "stdout",
     "output_type": "stream",
     "text": [
      "href건수: 10\n",
      "['http://www.etnews.com/news/home_mobile/information/2643126_1483.html', 'https://news.naver.com/main/read.nhn?mode=LSD&mid=sec&sid1=105&oid=001&aid=0005842711', 'http://view.heraldcorp.com/view.php?ud=20120928000028', 'http://news.kukinews.com/article/view.asp?page=1&gCode=all&arcid=0006483751&cp=nv', 'http://www.segyefn.com/articles/article.asp?aid=20120928020360&cid=0501010000000&OutUrl=naver', 'http://www.asiae.co.kr/news/view.htm?idxno=2012092808220069159', 'http://www.cstimes.com/news/articleView.html?idxno=80490', 'http://www.bbsi.co.kr/news/news_view.asp?nIdx=576078', 'http://www.ajunews.com/common/redirect.jsp?newsId=20120928000073', 'http://www.dailian.co.kr/news/news_view.htm?id=308230&sc=naver&kind=menu_code&keys=2']\n",
      "title건수: 10\n",
      "['잘나가던 휴대폰 시장도 불황 그림자', '삼성, 8월 글로벌 고가·중가 휴대전화시장 석권', '삼성, 세계휴대전화시장 23% 점유...아이폰은 지속적 하락', '“애플? 흥!” 삼성, 8월 세계 휴대전화시장 석권', '삼성, 8월 전세계 휴대전화 시장 석권', '삼성, 8월 글로벌 휴대폰 시장 1위.. 중·고가 모두 휩쓸어', '삼성전자, 글로벌 휴대전화시장 1위 유지', '삼성전자, 8월 전세계 휴대전화시장 1위', \"삼성전자, 8월 세계시장서 애플 제치고 '1위'\", '삼성전자, 8월 휴대전화 시장 석권']\n"
     ]
    }
   ],
   "source": [
    "title = soup.find_all(class_=[\" _sp_each_title\",\"_sp_each_url _sp_each_title\"])\n",
    "\n",
    "href_list=[]\n",
    "title_list=[]\n",
    "\n",
    "for i in title:\n",
    "    href_list.append(i['href'])\n",
    "    #print(i['href'])\n",
    "    \n",
    "    title_list.append(i['title'])\n",
    "    #print(i['title'])\n",
    "\n",
    "print(\"href건수:\", len(href_list))\n",
    "print(href_list)\n",
    "\n",
    "print(\"title건수:\",len(title_list))\n",
    "print(title_list)\n",
    "\n"
   ]
  },
  {
   "cell_type": "code",
   "execution_count": 46,
   "metadata": {
    "scrolled": true
   },
   "outputs": [
    {
     "name": "stdout",
     "output_type": "stream",
     "text": [
      "언론사 수집건수: 10\n",
      "['전자신문', '연합뉴스', '헤럴드POP', '쿠키뉴스', '세계일보', '아시아경제', '컨슈머타임스', 'BBS NEWS', '아주경제', '데일리안']\n"
     ]
    }
   ],
   "source": [
    "press = soup.find_all(\"span\",{\"class\":\"_sp_each_source\"})\n",
    "press_list = []\n",
    "\n",
    "for i in press:\n",
    "    press_list.append(i.text)\n",
    "    #print(i.text)\n",
    "    \n",
    "print(\"언론사 수집건수:\",len(press_list))\n",
    "print(press_list)"
   ]
  },
  {
   "cell_type": "code",
   "execution_count": 48,
   "metadata": {},
   "outputs": [
    {
     "name": "stdout",
     "output_type": "stream",
     "text": [
      "날짜 수집건수:  10\n",
      "['2012.09.06', '2012.09.28', '2012.09.28', '2012.09.28', '2012.09.28', '2012.09.28', '2012.09.28', '2012.09.28', '2012.09.28', '2012.09.28']\n"
     ]
    }
   ],
   "source": [
    "sourceNdate= soup.find_all(\"dd\",{\"class\":\"txt_inline\"})\n",
    "source_list = []\n",
    "date_list = []\n",
    "\n",
    "#날짜 정규표현식으로 추출\n",
    "\n",
    "for i in sourceNdate:\n",
    "    match = re.search(r'\\d{4}.\\d{2}.\\d{2}', i.text)\n",
    "    date_list.append(str(match.group()))\n",
    "    #print(str(match.group()))\n",
    "\n",
    "print(\"날짜 수집건수: \",len(date_list))\n",
    "print(date_list)"
   ]
  },
  {
   "cell_type": "code",
   "execution_count": 90,
   "metadata": {},
   "outputs": [
    {
     "ename": "TypeError",
     "evalue": "'NoneType' object is not callable",
     "output_type": "error",
     "traceback": [
      "\u001b[1;31m---------------------------------------------------------------------------\u001b[0m",
      "\u001b[1;31mTypeError\u001b[0m                                 Traceback (most recent call last)",
      "\u001b[1;32m<ipython-input-90-5e3a25d13c64>\u001b[0m in \u001b[0;36m<module>\u001b[1;34m\u001b[0m\n\u001b[0;32m      4\u001b[0m \u001b[1;31m#\u001b[0m\u001b[1;33m\u001b[0m\u001b[1;33m\u001b[0m\u001b[1;33m\u001b[0m\u001b[0m\n\u001b[0;32m      5\u001b[0m     \u001b[1;31m#print(i.select('sp_nws3 > dl > dd:nth-child(3)'))\u001b[0m\u001b[1;33m\u001b[0m\u001b[1;33m\u001b[0m\u001b[1;33m\u001b[0m\u001b[0m\n\u001b[1;32m----> 6\u001b[1;33m     \u001b[0mprint\u001b[0m\u001b[1;33m(\u001b[0m\u001b[0mi\u001b[0m\u001b[1;33m.\u001b[0m\u001b[0mxpath\u001b[0m\u001b[1;33m(\u001b[0m\u001b[1;34m'//*[@id=\"sp_nws3\"]/dl/dd[2]'\u001b[0m\u001b[1;33m)\u001b[0m\u001b[1;33m)\u001b[0m\u001b[1;33m\u001b[0m\u001b[1;33m\u001b[0m\u001b[0m\n\u001b[0m",
      "\u001b[1;31mTypeError\u001b[0m: 'NoneType' object is not callable"
     ]
    }
   ],
   "source": [
    "# contentc = soup.find_all(\"li\",{\"id\":\"sp_nws1\"})\n",
    "# #print(contentc[0])\n",
    "# for i in contentc:\n",
    "# #\n",
    "#     #print(i.select('sp_nws3 > dl > dd:nth-child(3)'))\n",
    "#     print(i.xpath('//*[@id=\"sp_nws3\"]/dl/dd[2]'))"
   ]
  },
  {
   "cell_type": "code",
   "execution_count": 118,
   "metadata": {},
   "outputs": [
    {
     "name": "stdout",
     "output_type": "stream",
     "text": [
      "본문 건수:  10\n",
      "['6일 시장 조사기관 카운터포인트 테크놀로지 마켓 리서치(TMR)에 따르면 7월 글로벌 휴대폰 시장은 약 1억2900만대 규모로 지난 3월 1억3700만대로 정점을 찍은 뒤 감소세로 돌아섰다. 휴대폰 시장 감소세는 2분기 시작돼...', '28일홍콩의 시장조사기관인 카운터포인트 리서치에 따르면 삼성전자는 8월 세계 휴대전화 시장에서 23%의 점유율로 1위를 유지했다. 사진은 서울 서초구 삼성전자 딜라이트 홍보관의 모습.(자료사진) 삼성전자가 8월...', '홍콩 시장조사기관인 카운터포인트 리서치(Counterpoint TMR)는 28일 삼성전자가 8월 세계 휴대전화 시장에서 23%의 점유율로 부동의 1위를 차지했다고 밝혔다. 또 미국과 중국 뿐 아니라 인도, 러시아, 브라질 등 다양한...', '28일 홍콩의 시장조사기관인 카운터포인트 리서치(Counterpoint TMR)에 따르면 삼성전자는 8월 세계 휴대전화 시장에서 23%의 점유율로 1위를 차지했다. 이 기관은 삼성전자의 시장 선두 유지 비결에 대해 여러 세부시장...', '28일 홍콩의 시장조사기관인 카운터포인트 리서치(Counterpoint TMR)에 따르면 삼성전자는 8월 세계 휴대전화 시장에서 23%의 점유율로 1위를 유지했다고 연합뉴스가 전했다. 삼성전자의 시장 선두 유지 비결은 여러...', '28일 홍콩의 시장조사기관인 카운터포인트 리서치(Counterpoint TMR)에 따르면 삼성전자는 8월 세계 휴대전화 시장에서 23%의 점유율로 1위를 유지했다. 이 기관 관계자는 삼성전자의 시장 선두 유지 비결에 대해 여러...', '28일 홍콩의 시장조사기관인 카운터포인트 리서치(Counterpoint TMR)에 따르면 삼성전자는 지난달 세계 휴대전화 시장에서 23%의 점유율로 1위를 유지했다. 카운터포인트는 삼성전자의 시장 선두 유지 비결에 대해 여러...', '홍콩의 시장조사기관인 카운터포인트 리서치는삼성전자가 8월 세계 휴대전화 시장에서 23%의 점유율로 1위를 유지했다고 밝혔습니다. 삼성전자는 400달러 이상 고가 제품 시장에서 35%를 차지해 32%를 차지한 애플을...', '홍콩의 시장조사기관인 카운터포인트 리서치(Counterpoint TMR)은 28일 삼성전자가 8월 세계 휴대전화 시장에서 23%의 점유율로 1위로 집계됐다고 밝혔다. 카운터포인트 리서치 관계자는 이에 대해 삼성전자가 여러...', '28일 홍콩의 시장조사기관인 카운터포인트 리서치(Counterpoint TMR)에 따르면 삼성전자는 8월 세계 휴대전화 시장에서 23%의 점유율로 1위를 유지했다. 이 기관 관계자는 삼성전자의 시장 선두 유지 비결에 대해 여러...']\n"
     ]
    }
   ],
   "source": [
    "articles = soup.select('.type01 > li')\n",
    "len(articles)\n",
    "content_list = []\n",
    "\n",
    "for i in range(10):\n",
    "    content_list.append(articles[i].select('dl > dd')[1].text)\n",
    "    #print(articles[i].select('dl > dd')[1].text)\n",
    "\n",
    "print(\"본문 건수: \",len(content_list))\n",
    "print(content_list)"
   ]
  },
  {
   "cell_type": "code",
   "execution_count": 122,
   "metadata": {},
   "outputs": [
    {
     "name": "stdout",
     "output_type": "stream",
     "text": [
      "10\n",
      "10\n",
      "10\n",
      "10\n",
      "10\n"
     ]
    }
   ],
   "source": [
    "print(len(press_list))\n",
    "print(len(title_list))\n",
    "print(len(date_list))\n",
    "print(len(content_list))\n",
    "print(len(href_list))"
   ]
  },
  {
   "cell_type": "code",
   "execution_count": 123,
   "metadata": {},
   "outputs": [
    {
     "name": "stdout",
     "output_type": "stream",
     "text": [
      "      press                               title        date  \\\n",
      "0      전자신문                 잘나가던 휴대폰 시장도 불황 그림자  2012.09.06   \n",
      "1      연합뉴스          삼성, 8월 글로벌 고가·중가 휴대전화시장 석권  2012.09.28   \n",
      "2    헤럴드POP   삼성, 세계휴대전화시장 23% 점유...아이폰은 지속적 하락  2012.09.28   \n",
      "3      쿠키뉴스        “애플? 흥!” 삼성, 8월 세계 휴대전화시장 석권  2012.09.28   \n",
      "4      세계일보               삼성, 8월 전세계 휴대전화 시장 석권  2012.09.28   \n",
      "5     아시아경제  삼성, 8월 글로벌 휴대폰 시장 1위.. 중·고가 모두 휩쓸어  2012.09.28   \n",
      "6    컨슈머타임스              삼성전자, 글로벌 휴대전화시장 1위 유지  2012.09.28   \n",
      "7  BBS NEWS              삼성전자, 8월 전세계 휴대전화시장 1위  2012.09.28   \n",
      "8      아주경제          삼성전자, 8월 세계시장서 애플 제치고 '1위'  2012.09.28   \n",
      "9      데일리안                 삼성전자, 8월 휴대전화 시장 석권  2012.09.28   \n",
      "\n",
      "                                             content  \\\n",
      "0  6일 시장 조사기관 카운터포인트 테크놀로지 마켓 리서치(TMR)에 따르면 7월 글로...   \n",
      "1  28일홍콩의 시장조사기관인 카운터포인트 리서치에 따르면 삼성전자는 8월 세계 휴대전...   \n",
      "2  홍콩 시장조사기관인 카운터포인트 리서치(Counterpoint TMR)는 28일 삼...   \n",
      "3  28일 홍콩의 시장조사기관인 카운터포인트 리서치(Counterpoint TMR)에 ...   \n",
      "4  28일 홍콩의 시장조사기관인 카운터포인트 리서치(Counterpoint TMR)에 ...   \n",
      "5  28일 홍콩의 시장조사기관인 카운터포인트 리서치(Counterpoint TMR)에 ...   \n",
      "6  28일 홍콩의 시장조사기관인 카운터포인트 리서치(Counterpoint TMR)에 ...   \n",
      "7  홍콩의 시장조사기관인 카운터포인트 리서치는삼성전자가 8월 세계 휴대전화 시장에서 2...   \n",
      "8  홍콩의 시장조사기관인 카운터포인트 리서치(Counterpoint TMR)은 28일 ...   \n",
      "9  28일 홍콩의 시장조사기관인 카운터포인트 리서치(Counterpoint TMR)에 ...   \n",
      "\n",
      "                                                 url  \n",
      "0  http://www.etnews.com/news/home_mobile/informa...  \n",
      "1  https://news.naver.com/main/read.nhn?mode=LSD&...  \n",
      "2  http://view.heraldcorp.com/view.php?ud=2012092...  \n",
      "3  http://news.kukinews.com/article/view.asp?page...  \n",
      "4  http://www.segyefn.com/articles/article.asp?ai...  \n",
      "5  http://www.asiae.co.kr/news/view.htm?idxno=201...  \n",
      "6  http://www.cstimes.com/news/articleView.html?i...  \n",
      "7  http://www.bbsi.co.kr/news/news_view.asp?nIdx=...  \n",
      "8  http://www.ajunews.com/common/redirect.jsp?new...  \n",
      "9  http://www.dailian.co.kr/news/news_view.htm?id...  \n"
     ]
    }
   ],
   "source": [
    "from pandas import DataFrame\n",
    "\n",
    "df1 =  DataFrame({\"press\": press_list, \"title\": title_list, \"date\":date_list, \"content\": content_list,\n",
    "                 \"url\":href_list})\n",
    "print(df1)\n",
    "                  #, \"c\": [11, 22, 33], \"c3\": [111, 222, 333]}, index=[\"i1\", \"i2\", \"i3\"]"
   ]
  },
  {
   "cell_type": "code",
   "execution_count": 124,
   "metadata": {},
   "outputs": [
    {
     "data": {
      "text/html": [
       "<div>\n",
       "<style scoped>\n",
       "    .dataframe tbody tr th:only-of-type {\n",
       "        vertical-align: middle;\n",
       "    }\n",
       "\n",
       "    .dataframe tbody tr th {\n",
       "        vertical-align: top;\n",
       "    }\n",
       "\n",
       "    .dataframe thead th {\n",
       "        text-align: right;\n",
       "    }\n",
       "</style>\n",
       "<table border=\"1\" class=\"dataframe\">\n",
       "  <thead>\n",
       "    <tr style=\"text-align: right;\">\n",
       "      <th></th>\n",
       "      <th>press</th>\n",
       "      <th>title</th>\n",
       "      <th>date</th>\n",
       "      <th>content</th>\n",
       "      <th>url</th>\n",
       "    </tr>\n",
       "  </thead>\n",
       "  <tbody>\n",
       "    <tr>\n",
       "      <td>0</td>\n",
       "      <td>전자신문</td>\n",
       "      <td>잘나가던 휴대폰 시장도 불황 그림자</td>\n",
       "      <td>2012.09.06</td>\n",
       "      <td>6일 시장 조사기관 카운터포인트 테크놀로지 마켓 리서치(TMR)에 따르면 7월 글로...</td>\n",
       "      <td>http://www.etnews.com/news/home_mobile/informa...</td>\n",
       "    </tr>\n",
       "    <tr>\n",
       "      <td>1</td>\n",
       "      <td>연합뉴스</td>\n",
       "      <td>삼성, 8월 글로벌 고가·중가 휴대전화시장 석권</td>\n",
       "      <td>2012.09.28</td>\n",
       "      <td>28일홍콩의 시장조사기관인 카운터포인트 리서치에 따르면 삼성전자는 8월 세계 휴대전...</td>\n",
       "      <td>https://news.naver.com/main/read.nhn?mode=LSD&amp;...</td>\n",
       "    </tr>\n",
       "    <tr>\n",
       "      <td>2</td>\n",
       "      <td>헤럴드POP</td>\n",
       "      <td>삼성, 세계휴대전화시장 23% 점유...아이폰은 지속적 하락</td>\n",
       "      <td>2012.09.28</td>\n",
       "      <td>홍콩 시장조사기관인 카운터포인트 리서치(Counterpoint TMR)는 28일 삼...</td>\n",
       "      <td>http://view.heraldcorp.com/view.php?ud=2012092...</td>\n",
       "    </tr>\n",
       "    <tr>\n",
       "      <td>3</td>\n",
       "      <td>쿠키뉴스</td>\n",
       "      <td>“애플? 흥!” 삼성, 8월 세계 휴대전화시장 석권</td>\n",
       "      <td>2012.09.28</td>\n",
       "      <td>28일 홍콩의 시장조사기관인 카운터포인트 리서치(Counterpoint TMR)에 ...</td>\n",
       "      <td>http://news.kukinews.com/article/view.asp?page...</td>\n",
       "    </tr>\n",
       "    <tr>\n",
       "      <td>4</td>\n",
       "      <td>세계일보</td>\n",
       "      <td>삼성, 8월 전세계 휴대전화 시장 석권</td>\n",
       "      <td>2012.09.28</td>\n",
       "      <td>28일 홍콩의 시장조사기관인 카운터포인트 리서치(Counterpoint TMR)에 ...</td>\n",
       "      <td>http://www.segyefn.com/articles/article.asp?ai...</td>\n",
       "    </tr>\n",
       "    <tr>\n",
       "      <td>5</td>\n",
       "      <td>아시아경제</td>\n",
       "      <td>삼성, 8월 글로벌 휴대폰 시장 1위.. 중·고가 모두 휩쓸어</td>\n",
       "      <td>2012.09.28</td>\n",
       "      <td>28일 홍콩의 시장조사기관인 카운터포인트 리서치(Counterpoint TMR)에 ...</td>\n",
       "      <td>http://www.asiae.co.kr/news/view.htm?idxno=201...</td>\n",
       "    </tr>\n",
       "    <tr>\n",
       "      <td>6</td>\n",
       "      <td>컨슈머타임스</td>\n",
       "      <td>삼성전자, 글로벌 휴대전화시장 1위 유지</td>\n",
       "      <td>2012.09.28</td>\n",
       "      <td>28일 홍콩의 시장조사기관인 카운터포인트 리서치(Counterpoint TMR)에 ...</td>\n",
       "      <td>http://www.cstimes.com/news/articleView.html?i...</td>\n",
       "    </tr>\n",
       "    <tr>\n",
       "      <td>7</td>\n",
       "      <td>BBS NEWS</td>\n",
       "      <td>삼성전자, 8월 전세계 휴대전화시장 1위</td>\n",
       "      <td>2012.09.28</td>\n",
       "      <td>홍콩의 시장조사기관인 카운터포인트 리서치는삼성전자가 8월 세계 휴대전화 시장에서 2...</td>\n",
       "      <td>http://www.bbsi.co.kr/news/news_view.asp?nIdx=...</td>\n",
       "    </tr>\n",
       "    <tr>\n",
       "      <td>8</td>\n",
       "      <td>아주경제</td>\n",
       "      <td>삼성전자, 8월 세계시장서 애플 제치고 '1위'</td>\n",
       "      <td>2012.09.28</td>\n",
       "      <td>홍콩의 시장조사기관인 카운터포인트 리서치(Counterpoint TMR)은 28일 ...</td>\n",
       "      <td>http://www.ajunews.com/common/redirect.jsp?new...</td>\n",
       "    </tr>\n",
       "    <tr>\n",
       "      <td>9</td>\n",
       "      <td>데일리안</td>\n",
       "      <td>삼성전자, 8월 휴대전화 시장 석권</td>\n",
       "      <td>2012.09.28</td>\n",
       "      <td>28일 홍콩의 시장조사기관인 카운터포인트 리서치(Counterpoint TMR)에 ...</td>\n",
       "      <td>http://www.dailian.co.kr/news/news_view.htm?id...</td>\n",
       "    </tr>\n",
       "  </tbody>\n",
       "</table>\n",
       "</div>"
      ],
      "text/plain": [
       "      press                               title        date  \\\n",
       "0      전자신문                 잘나가던 휴대폰 시장도 불황 그림자  2012.09.06   \n",
       "1      연합뉴스          삼성, 8월 글로벌 고가·중가 휴대전화시장 석권  2012.09.28   \n",
       "2    헤럴드POP   삼성, 세계휴대전화시장 23% 점유...아이폰은 지속적 하락  2012.09.28   \n",
       "3      쿠키뉴스        “애플? 흥!” 삼성, 8월 세계 휴대전화시장 석권  2012.09.28   \n",
       "4      세계일보               삼성, 8월 전세계 휴대전화 시장 석권  2012.09.28   \n",
       "5     아시아경제  삼성, 8월 글로벌 휴대폰 시장 1위.. 중·고가 모두 휩쓸어  2012.09.28   \n",
       "6    컨슈머타임스              삼성전자, 글로벌 휴대전화시장 1위 유지  2012.09.28   \n",
       "7  BBS NEWS              삼성전자, 8월 전세계 휴대전화시장 1위  2012.09.28   \n",
       "8      아주경제          삼성전자, 8월 세계시장서 애플 제치고 '1위'  2012.09.28   \n",
       "9      데일리안                 삼성전자, 8월 휴대전화 시장 석권  2012.09.28   \n",
       "\n",
       "                                             content  \\\n",
       "0  6일 시장 조사기관 카운터포인트 테크놀로지 마켓 리서치(TMR)에 따르면 7월 글로...   \n",
       "1  28일홍콩의 시장조사기관인 카운터포인트 리서치에 따르면 삼성전자는 8월 세계 휴대전...   \n",
       "2  홍콩 시장조사기관인 카운터포인트 리서치(Counterpoint TMR)는 28일 삼...   \n",
       "3  28일 홍콩의 시장조사기관인 카운터포인트 리서치(Counterpoint TMR)에 ...   \n",
       "4  28일 홍콩의 시장조사기관인 카운터포인트 리서치(Counterpoint TMR)에 ...   \n",
       "5  28일 홍콩의 시장조사기관인 카운터포인트 리서치(Counterpoint TMR)에 ...   \n",
       "6  28일 홍콩의 시장조사기관인 카운터포인트 리서치(Counterpoint TMR)에 ...   \n",
       "7  홍콩의 시장조사기관인 카운터포인트 리서치는삼성전자가 8월 세계 휴대전화 시장에서 2...   \n",
       "8  홍콩의 시장조사기관인 카운터포인트 리서치(Counterpoint TMR)은 28일 ...   \n",
       "9  28일 홍콩의 시장조사기관인 카운터포인트 리서치(Counterpoint TMR)에 ...   \n",
       "\n",
       "                                                 url  \n",
       "0  http://www.etnews.com/news/home_mobile/informa...  \n",
       "1  https://news.naver.com/main/read.nhn?mode=LSD&...  \n",
       "2  http://view.heraldcorp.com/view.php?ud=2012092...  \n",
       "3  http://news.kukinews.com/article/view.asp?page...  \n",
       "4  http://www.segyefn.com/articles/article.asp?ai...  \n",
       "5  http://www.asiae.co.kr/news/view.htm?idxno=201...  \n",
       "6  http://www.cstimes.com/news/articleView.html?i...  \n",
       "7  http://www.bbsi.co.kr/news/news_view.asp?nIdx=...  \n",
       "8  http://www.ajunews.com/common/redirect.jsp?new...  \n",
       "9  http://www.dailian.co.kr/news/news_view.htm?id...  "
      ]
     },
     "execution_count": 124,
     "metadata": {},
     "output_type": "execute_result"
    }
   ],
   "source": [
    "df1"
   ]
  }
 ],
 "metadata": {
  "kernelspec": {
   "display_name": "Python 3",
   "language": "python",
   "name": "python3"
  },
  "language_info": {
   "codemirror_mode": {
    "name": "ipython",
    "version": 3
   },
   "file_extension": ".py",
   "mimetype": "text/x-python",
   "name": "python",
   "nbconvert_exporter": "python",
   "pygments_lexer": "ipython3",
   "version": "3.7.4"
  }
 },
 "nbformat": 4,
 "nbformat_minor": 2
}
