{
 "cells": [
  {
   "cell_type": "markdown",
   "metadata": {},
   "source": [
    "#### 개정 일자: 2020.11.02\n",
    "\n",
    "\n",
    "#### 2020.11.02\n",
    "\n",
    "1) 뉴스검색결과 전체 건수 항목 사라져서 삭제\n",
    "\n",
    "#### 2020.05.02\n",
    "1) 시작날짜, 종료날짜 입력하여 실행하도록 설정\n",
    "\n",
    "2) column단위 병합에서 row 단위 개별 추가로 변경"
   ]
  },
  {
   "cell_type": "code",
   "execution_count": 1,
   "metadata": {},
   "outputs": [],
   "source": [
    "import re\n",
    "import time\n",
    "import requests\n",
    "import pandas as pd\n",
    "from pandas import DataFrame\n",
    "from bs4 import BeautifulSoup\n",
    "from datetime import datetime, timedelta\n",
    "from tqdm import tqdm_notebook"
   ]
  },
  {
   "cell_type": "code",
   "execution_count": 4,
   "metadata": {},
   "outputs": [],
   "source": [
    "#수집 : keyword/ 정렬순서(최신/과거)/ 날짜 지정 \n",
    "def searchNewsExtractor(keyword,sdate,edate): #자동\n",
    "    df = pd.DataFrame(columns = [\"날짜\", \"언론사\", \"제목\", \"본문\", \"url\"])\n",
    "    error_cnt= 0\n",
    "    \n",
    "    dot_sdate = sdate[0:4]+\".\"+sdate[4:6]+\".\"+sdate[6:8]\n",
    "    dot_edate = edate[0:4]+\".\"+edate[4:6]+\".\"+edate[6:8]\n",
    "    \n",
    "    for i in tqdm_notebook(range(28)): #4,000건이 최대\n",
    "        pageNo= 10*i+1\n",
    "        url = \"https://search.naver.com/search.naver?&where=news&query=\"+keyword+\"&sm=tab_pge&sort=1&photo=0&field=0&reporter_article=&pd=3&ds=\"+dot_sdate+\"&de=\"+dot_edate+\"&docid=&nso=so:dd,p:from\"+sdate+\"to\"+edate+\",a:all&mynews=0&start=\"+str(pageNo)+\"&refresh_start=0\"\n",
    "        req = requests.get(url)\n",
    "        html = req.text\n",
    "        soup = BeautifulSoup(html, 'lxml')\n",
    "\n",
    "        if soup.find(\"div\",{\"class\":\"not_found02\"}):\n",
    "            print(pageNo,\"페이지  ->\",soup.find(\"div\",{\"class\":\"not_found02\"}))\n",
    "            break \n",
    "        else:\n",
    "            print(pageNo,\"페이지  ->\",soup.find(\"div\",{\"class\":\"not_found02\"}))\n",
    "            df = pd.concat([df, newsParser(soup, df)], ignore_index=True)\n",
    "            \n",
    "    return df\n",
    "\n",
    "\n",
    "def newsParser(soup,df):\n",
    "    news_boxs = soup.find_all(\"div\",{\"class\":\"news_area\"})\n",
    "   \n",
    "    for box in news_boxs:\n",
    "        press = box.find(\"a\", {\"class\": \"info press\"}).text.replace(\"언론사 선정\",\"\").strip() #언론사\n",
    "        url = box.find(\"a\", {\"class\":\"news_tit\"})['href'] #url\n",
    "        title = box.find(\"a\", {\"class\":\"news_tit\"}).text.strip() #제목\n",
    "        date = box.find_all(\"span\", {\"class\": \"info\"}) #날짜\n",
    "        content = box.find(\"div\", {\"class\":\"news_dsc\"}).text.strip() #내용\n",
    "    \n",
    "        #-시간/-일 전 정제하기\n",
    "        if len(date) ==1: \n",
    "            date = date[0].text\n",
    "        else: \n",
    "            date = date[1].text\n",
    "            \n",
    "        try:\n",
    "            match = re.search(r'\\d{4}.\\d{2}.\\d{2}', date)\n",
    "            date = str(match.group())\n",
    "        except AttributeError:\n",
    "            try: \n",
    "                if \"일\" in date:\n",
    "                    match = re.search('\\d+일 전', date)\n",
    "                    date = str(match.group())\n",
    "                elif \"시간\" in date:\n",
    "                    match = re.search('\\d+시간 전', date)\n",
    "                    date = str(match.group())\n",
    "                else: pass\n",
    "            except AttributeError: \n",
    "                pass\n",
    "            \n",
    "        print(\"press:{} \\n \\n href:{} \\n \\n title:{} \\n \\n date:{} \\n \\n content:{}\".format(press,url, title, date, content))\n",
    "        row = pd.Series([date, press, title, content, url], index = [\"날짜\", \"언론사\", \"제목\", \"본문\", \"url\"])\n",
    "        df = df.append(row, ignore_index=True)\n",
    "        \n",
    "    return df\n",
    "    \n",
    "def to_excel(filenm):\n",
    "\n",
    "    for i in range(len(df)):\n",
    "        #최신날짜 \"-일전/-시간 전\" 정제하기 \n",
    "        if \"일\" in df['날짜'][i]:\n",
    "            match = re.search('\\d+', df['날짜'][i])\n",
    "            now = datetime.now() #현재 시간(수집 시간)\n",
    "            diff = int(match.group()) #몇일 전/몇시간 전인지\n",
    "            date = now - timedelta(days=diff)\n",
    "            df['날짜'][i] = date.strftime(\"%Y.%m.%d\")\n",
    "\n",
    "        elif \"시간\" in df['날짜'][i]:\n",
    "            match = re.search('\\d+', df['날짜'][i])\n",
    "            now = datetime.now() #현재 시간(수집 시간)\n",
    "            diff = int(match.group()) #몇일 전/몇시간 전인지\n",
    "            date = now - timedelta(hours=diff)\n",
    "            df['날짜'][i] = date.strftime(\"%Y.%m.%d\")\n",
    "            #print(\"몇시간전? :\",diff,\"\\n현재시각: \",now, \"\\n바뀐 시간: \", date)\n",
    "            #print(\"입력시간: \",date.strftime(\"%Y.%m.%d\"))\n",
    "        else: pass\n",
    "    \n",
    "    df.to_excel(filenm, index=True)\n",
    "    return df"
   ]
  },
  {
   "cell_type": "code",
   "execution_count": 5,
   "metadata": {
    "scrolled": false
   },
   "outputs": [
    {
     "data": {
      "application/vnd.jupyter.widget-view+json": {
       "model_id": "a41dfe6eaba949e687e8dfc972449e17",
       "version_major": 2,
       "version_minor": 0
      },
      "text/plain": [
       "HBox(children=(IntProgress(value=0, max=28), HTML(value='')))"
      ]
     },
     "metadata": {},
     "output_type": "display_data"
    },
    {
     "name": "stdout",
     "output_type": "stream",
     "text": [
      "1 페이지  -> None\n"
     ]
    },
    {
     "ename": "UnboundLocalError",
     "evalue": "local variable 'df' referenced before assignment",
     "output_type": "error",
     "traceback": [
      "\u001b[1;31m---------------------------------------------------------------------------\u001b[0m",
      "\u001b[1;31mUnboundLocalError\u001b[0m                         Traceback (most recent call last)",
      "\u001b[1;32m<ipython-input-5-e625f7c889ff>\u001b[0m in \u001b[0;36m<module>\u001b[1;34m\u001b[0m\n\u001b[0;32m     10\u001b[0m \u001b[1;33m\u001b[0m\u001b[0m\n\u001b[0;32m     11\u001b[0m \u001b[1;31m#2. 날짜지정\u001b[0m\u001b[1;33m\u001b[0m\u001b[1;33m\u001b[0m\u001b[1;33m\u001b[0m\u001b[0m\n\u001b[1;32m---> 12\u001b[1;33m \u001b[0mdf\u001b[0m \u001b[1;33m=\u001b[0m \u001b[0msearchNewsExtractor\u001b[0m\u001b[1;33m(\u001b[0m\u001b[0mkeyword\u001b[0m\u001b[1;33m,\u001b[0m\u001b[0msdate\u001b[0m\u001b[1;33m,\u001b[0m\u001b[0medate\u001b[0m\u001b[1;33m)\u001b[0m\u001b[1;33m\u001b[0m\u001b[1;33m\u001b[0m\u001b[0m\n\u001b[0m\u001b[0;32m     13\u001b[0m \u001b[0mto_excel\u001b[0m\u001b[1;33m(\u001b[0m\u001b[0mfilenm\u001b[0m\u001b[1;33m)\u001b[0m\u001b[1;33m\u001b[0m\u001b[1;33m\u001b[0m\u001b[0m\n",
      "\u001b[1;32m<ipython-input-4-a037770145fb>\u001b[0m in \u001b[0;36msearchNewsExtractor\u001b[1;34m(keyword, sdate, edate)\u001b[0m\n\u001b[0;32m     21\u001b[0m         \u001b[1;32melse\u001b[0m\u001b[1;33m:\u001b[0m\u001b[1;33m\u001b[0m\u001b[1;33m\u001b[0m\u001b[0m\n\u001b[0;32m     22\u001b[0m             \u001b[0mprint\u001b[0m\u001b[1;33m(\u001b[0m\u001b[0mpageNo\u001b[0m\u001b[1;33m,\u001b[0m\u001b[1;34m\"페이지  ->\"\u001b[0m\u001b[1;33m,\u001b[0m\u001b[0msoup\u001b[0m\u001b[1;33m.\u001b[0m\u001b[0mfind\u001b[0m\u001b[1;33m(\u001b[0m\u001b[1;34m\"div\"\u001b[0m\u001b[1;33m,\u001b[0m\u001b[1;33m{\u001b[0m\u001b[1;34m\"class\"\u001b[0m\u001b[1;33m:\u001b[0m\u001b[1;34m\"not_found02\"\u001b[0m\u001b[1;33m}\u001b[0m\u001b[1;33m)\u001b[0m\u001b[1;33m)\u001b[0m\u001b[1;33m\u001b[0m\u001b[1;33m\u001b[0m\u001b[0m\n\u001b[1;32m---> 23\u001b[1;33m             \u001b[0mdf\u001b[0m \u001b[1;33m=\u001b[0m \u001b[0mpd\u001b[0m\u001b[1;33m.\u001b[0m\u001b[0mconcat\u001b[0m\u001b[1;33m(\u001b[0m\u001b[1;33m[\u001b[0m\u001b[0mdf\u001b[0m\u001b[1;33m,\u001b[0m \u001b[0mnewsParser\u001b[0m\u001b[1;33m(\u001b[0m\u001b[0msoup\u001b[0m\u001b[1;33m,\u001b[0m \u001b[0mdf\u001b[0m\u001b[1;33m)\u001b[0m\u001b[1;33m]\u001b[0m\u001b[1;33m,\u001b[0m \u001b[0mignore_index\u001b[0m\u001b[1;33m=\u001b[0m\u001b[1;32mTrue\u001b[0m\u001b[1;33m)\u001b[0m\u001b[1;33m\u001b[0m\u001b[1;33m\u001b[0m\u001b[0m\n\u001b[0m\u001b[0;32m     24\u001b[0m \u001b[1;33m\u001b[0m\u001b[0m\n\u001b[0;32m     25\u001b[0m     \u001b[1;32mreturn\u001b[0m \u001b[0mdf\u001b[0m\u001b[1;33m\u001b[0m\u001b[1;33m\u001b[0m\u001b[0m\n",
      "\u001b[1;31mUnboundLocalError\u001b[0m: local variable 'df' referenced before assignment"
     ]
    }
   ],
   "source": [
    "#####-------------main-----------------#####\n",
    "keyword = \"카운터포인트리서치\" #카운터포인트리서치/스트래티지애널리틱스\n",
    "sortNo = 1 #1:최신순, 2: 과거순\n",
    "sdate = \"20201001\" #시작 날짜\n",
    "edate = \"20201030\" #종료 날짜 \n",
    "filenm = keyword+\"_\"+sdate+\"_\"+edate+\".xlsx\" #저장할 파일명\n",
    "\n",
    "#1. 최신순/과거순\n",
    "#searchNewsExtractor1(keyword,sortNo)\n",
    "\n",
    "#2. 날짜지정\n",
    "df = searchNewsExtractor(keyword,sdate,edate)\n",
    "to_excel(filenm)"
   ]
  },
  {
   "cell_type": "code",
   "execution_count": 4,
   "metadata": {},
   "outputs": [
    {
     "ename": "NameError",
     "evalue": "name 'df' is not defined",
     "output_type": "error",
     "traceback": [
      "\u001b[1;31m---------------------------------------------------------------------------\u001b[0m",
      "\u001b[1;31mNameError\u001b[0m                                 Traceback (most recent call last)",
      "\u001b[1;32m<ipython-input-4-00cf07b74dcd>\u001b[0m in \u001b[0;36m<module>\u001b[1;34m\u001b[0m\n\u001b[1;32m----> 1\u001b[1;33m \u001b[0mdf\u001b[0m\u001b[1;33m\u001b[0m\u001b[1;33m\u001b[0m\u001b[0m\n\u001b[0m",
      "\u001b[1;31mNameError\u001b[0m: name 'df' is not defined"
     ]
    }
   ],
   "source": [
    "df"
   ]
  }
 ],
 "metadata": {
  "kernelspec": {
   "display_name": "Python 3",
   "language": "python",
   "name": "python3"
  }
 },
 "nbformat": 4,
 "nbformat_minor": 2
}
