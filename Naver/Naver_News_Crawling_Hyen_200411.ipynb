{
 "cells": [
  {
   "cell_type": "code",
   "execution_count": 27,
   "metadata": {},
   "outputs": [],
   "source": [
    "import requests\n",
    "from bs4 import BeautifulSoup\n",
    "import re\n",
    "from pandas import DataFrame"
   ]
  },
  {
   "cell_type": "code",
   "execution_count": 23,
   "metadata": {},
   "outputs": [],
   "source": [
    "def searchNewsExtractor(keyword):\n",
    "    print(keyword)\n",
    "    for i in range(1): #100\n",
    "        pageNo= str(10*i+1)\n",
    "        url = \"https://search.naver.com/search.naver?&where=news&query=\"+keyword+\"&sm=tab_pge&sort=2&photo=0&field=0&reporter_article=&pd=0&ds=&de=&docid=&nso=so:da,p:all,a:all&mynews=0&start=\"+pageNo+\"&refresh_start=0\"\n",
    "        req = requests.get(url)\n",
    "        html = req.text\n",
    "        soup = BeautifulSoup(html, 'lxml')"
   ]
  },
  {
   "cell_type": "code",
   "execution_count": 18,
   "metadata": {},
   "outputs": [],
   "source": [
    "def newsParser():\n",
    "    #1. 링크, 2. 타이틀\n",
    "    hrefNtitle = soup.find_all(class_=[\" _sp_each_title\",\"_sp_each_url _sp_each_title\"])\n",
    "    href_list=[]\n",
    "    title_list=[]\n",
    "\n",
    "    for i in hrefNtitle:\n",
    "        href_list.append(i['href']) \n",
    "        title_list.append(i['title'])\n",
    "\n",
    "    #3. 언론사\n",
    "    press = soup.find_all(\"span\",{\"class\":\"_sp_each_source\"})\n",
    "    press_list = []\n",
    "\n",
    "    for i in press:\n",
    "        press_list.append(i.text)\n",
    "\n",
    "    #4. 날짜\n",
    "    sourceNdate= soup.find_all(\"dd\",{\"class\":\"txt_inline\"})\n",
    "    date_list = []\n",
    "\n",
    "    for i in sourceNdate:\n",
    "        match = re.search(r'\\d{4}.\\d{2}.\\d{2}', i.text)\n",
    "        date_list.append(str(match.group()))\n",
    "\n",
    "    # 5. 본문\n",
    "    articles = soup.select('.type01 > li')\n",
    "    content_list = []\n",
    "\n",
    "    for i in range(10):\n",
    "        content_list.append(articles[i].select('dl > dd')[1].text)"
   ]
  },
  {
   "cell_type": "code",
   "execution_count": 28,
   "metadata": {},
   "outputs": [],
   "source": [
    "def collect2Excel():\n",
    "\n",
    "    df1 =  DataFrame({\"press\": press_list, \n",
    "                      \"title\": title_list, \n",
    "                      \"date\":date_list, \n",
    "                      \"content\": content_list,\n",
    "                      \"url\":href_list})\n"
   ]
  },
  {
   "cell_type": "code",
   "execution_count": 31,
   "metadata": {},
   "outputs": [
    {
     "name": "stdout",
     "output_type": "stream",
     "text": [
      "카운터포인트리서치\n"
     ]
    }
   ],
   "source": [
    "keyword = \"카운터포인트리서치\"\n",
    "\n",
    "searchNewsExtractor(keyword)\n",
    "newsParser()\n",
    "collect2Excel()"
   ]
  },
  {
   "cell_type": "code",
   "execution_count": 32,
   "metadata": {},
   "outputs": [
    {
     "data": {
      "text/html": [
       "<div>\n",
       "<style scoped>\n",
       "    .dataframe tbody tr th:only-of-type {\n",
       "        vertical-align: middle;\n",
       "    }\n",
       "\n",
       "    .dataframe tbody tr th {\n",
       "        vertical-align: top;\n",
       "    }\n",
       "\n",
       "    .dataframe thead th {\n",
       "        text-align: right;\n",
       "    }\n",
       "</style>\n",
       "<table border=\"1\" class=\"dataframe\">\n",
       "  <thead>\n",
       "    <tr style=\"text-align: right;\">\n",
       "      <th></th>\n",
       "      <th>press</th>\n",
       "      <th>title</th>\n",
       "      <th>date</th>\n",
       "      <th>content</th>\n",
       "      <th>url</th>\n",
       "    </tr>\n",
       "  </thead>\n",
       "  <tbody>\n",
       "    <tr>\n",
       "      <td>0</td>\n",
       "      <td>전자신문</td>\n",
       "      <td>잘나가던 휴대폰 시장도 불황 그림자</td>\n",
       "      <td>2012.09.06</td>\n",
       "      <td>6일 시장 조사기관 카운터포인트 테크놀로지 마켓 리서치(TMR)에 따르면 7월 글로...</td>\n",
       "      <td>http://www.etnews.com/news/home_mobile/informa...</td>\n",
       "    </tr>\n",
       "    <tr>\n",
       "      <td>1</td>\n",
       "      <td>연합뉴스</td>\n",
       "      <td>삼성, 8월 글로벌 고가·중가 휴대전화시장 석권</td>\n",
       "      <td>2012.09.28</td>\n",
       "      <td>28일홍콩의 시장조사기관인 카운터포인트 리서치에 따르면 삼성전자는 8월 세계 휴대전...</td>\n",
       "      <td>https://news.naver.com/main/read.nhn?mode=LSD&amp;...</td>\n",
       "    </tr>\n",
       "    <tr>\n",
       "      <td>2</td>\n",
       "      <td>헤럴드POP</td>\n",
       "      <td>삼성, 세계휴대전화시장 23% 점유...아이폰은 지속적 하락</td>\n",
       "      <td>2012.09.28</td>\n",
       "      <td>홍콩 시장조사기관인 카운터포인트 리서치(Counterpoint TMR)는 28일 삼...</td>\n",
       "      <td>http://view.heraldcorp.com/view.php?ud=2012092...</td>\n",
       "    </tr>\n",
       "    <tr>\n",
       "      <td>3</td>\n",
       "      <td>쿠키뉴스</td>\n",
       "      <td>“애플? 흥!” 삼성, 8월 세계 휴대전화시장 석권</td>\n",
       "      <td>2012.09.28</td>\n",
       "      <td>28일 홍콩의 시장조사기관인 카운터포인트 리서치(Counterpoint TMR)에 ...</td>\n",
       "      <td>http://news.kukinews.com/article/view.asp?page...</td>\n",
       "    </tr>\n",
       "    <tr>\n",
       "      <td>4</td>\n",
       "      <td>세계일보</td>\n",
       "      <td>삼성, 8월 전세계 휴대전화 시장 석권</td>\n",
       "      <td>2012.09.28</td>\n",
       "      <td>28일 홍콩의 시장조사기관인 카운터포인트 리서치(Counterpoint TMR)에 ...</td>\n",
       "      <td>http://www.segyefn.com/articles/article.asp?ai...</td>\n",
       "    </tr>\n",
       "    <tr>\n",
       "      <td>5</td>\n",
       "      <td>아시아경제</td>\n",
       "      <td>삼성, 8월 글로벌 휴대폰 시장 1위.. 중·고가 모두 휩쓸어</td>\n",
       "      <td>2012.09.28</td>\n",
       "      <td>28일 홍콩의 시장조사기관인 카운터포인트 리서치(Counterpoint TMR)에 ...</td>\n",
       "      <td>http://www.asiae.co.kr/news/view.htm?idxno=201...</td>\n",
       "    </tr>\n",
       "    <tr>\n",
       "      <td>6</td>\n",
       "      <td>컨슈머타임스</td>\n",
       "      <td>삼성전자, 글로벌 휴대전화시장 1위 유지</td>\n",
       "      <td>2012.09.28</td>\n",
       "      <td>28일 홍콩의 시장조사기관인 카운터포인트 리서치(Counterpoint TMR)에 ...</td>\n",
       "      <td>http://www.cstimes.com/news/articleView.html?i...</td>\n",
       "    </tr>\n",
       "    <tr>\n",
       "      <td>7</td>\n",
       "      <td>BBS NEWS</td>\n",
       "      <td>삼성전자, 8월 전세계 휴대전화시장 1위</td>\n",
       "      <td>2012.09.28</td>\n",
       "      <td>홍콩의 시장조사기관인 카운터포인트 리서치는삼성전자가 8월 세계 휴대전화 시장에서 2...</td>\n",
       "      <td>http://www.bbsi.co.kr/news/news_view.asp?nIdx=...</td>\n",
       "    </tr>\n",
       "    <tr>\n",
       "      <td>8</td>\n",
       "      <td>아주경제</td>\n",
       "      <td>삼성전자, 8월 세계시장서 애플 제치고 '1위'</td>\n",
       "      <td>2012.09.28</td>\n",
       "      <td>홍콩의 시장조사기관인 카운터포인트 리서치(Counterpoint TMR)은 28일 ...</td>\n",
       "      <td>http://www.ajunews.com/common/redirect.jsp?new...</td>\n",
       "    </tr>\n",
       "    <tr>\n",
       "      <td>9</td>\n",
       "      <td>데일리안</td>\n",
       "      <td>삼성전자, 8월 휴대전화 시장 석권</td>\n",
       "      <td>2012.09.28</td>\n",
       "      <td>28일 홍콩의 시장조사기관인 카운터포인트 리서치(Counterpoint TMR)에 ...</td>\n",
       "      <td>http://www.dailian.co.kr/news/news_view.htm?id...</td>\n",
       "    </tr>\n",
       "  </tbody>\n",
       "</table>\n",
       "</div>"
      ],
      "text/plain": [
       "      press                               title        date  \\\n",
       "0      전자신문                 잘나가던 휴대폰 시장도 불황 그림자  2012.09.06   \n",
       "1      연합뉴스          삼성, 8월 글로벌 고가·중가 휴대전화시장 석권  2012.09.28   \n",
       "2    헤럴드POP   삼성, 세계휴대전화시장 23% 점유...아이폰은 지속적 하락  2012.09.28   \n",
       "3      쿠키뉴스        “애플? 흥!” 삼성, 8월 세계 휴대전화시장 석권  2012.09.28   \n",
       "4      세계일보               삼성, 8월 전세계 휴대전화 시장 석권  2012.09.28   \n",
       "5     아시아경제  삼성, 8월 글로벌 휴대폰 시장 1위.. 중·고가 모두 휩쓸어  2012.09.28   \n",
       "6    컨슈머타임스              삼성전자, 글로벌 휴대전화시장 1위 유지  2012.09.28   \n",
       "7  BBS NEWS              삼성전자, 8월 전세계 휴대전화시장 1위  2012.09.28   \n",
       "8      아주경제          삼성전자, 8월 세계시장서 애플 제치고 '1위'  2012.09.28   \n",
       "9      데일리안                 삼성전자, 8월 휴대전화 시장 석권  2012.09.28   \n",
       "\n",
       "                                             content  \\\n",
       "0  6일 시장 조사기관 카운터포인트 테크놀로지 마켓 리서치(TMR)에 따르면 7월 글로...   \n",
       "1  28일홍콩의 시장조사기관인 카운터포인트 리서치에 따르면 삼성전자는 8월 세계 휴대전...   \n",
       "2  홍콩 시장조사기관인 카운터포인트 리서치(Counterpoint TMR)는 28일 삼...   \n",
       "3  28일 홍콩의 시장조사기관인 카운터포인트 리서치(Counterpoint TMR)에 ...   \n",
       "4  28일 홍콩의 시장조사기관인 카운터포인트 리서치(Counterpoint TMR)에 ...   \n",
       "5  28일 홍콩의 시장조사기관인 카운터포인트 리서치(Counterpoint TMR)에 ...   \n",
       "6  28일 홍콩의 시장조사기관인 카운터포인트 리서치(Counterpoint TMR)에 ...   \n",
       "7  홍콩의 시장조사기관인 카운터포인트 리서치는삼성전자가 8월 세계 휴대전화 시장에서 2...   \n",
       "8  홍콩의 시장조사기관인 카운터포인트 리서치(Counterpoint TMR)은 28일 ...   \n",
       "9  28일 홍콩의 시장조사기관인 카운터포인트 리서치(Counterpoint TMR)에 ...   \n",
       "\n",
       "                                                 url  \n",
       "0  http://www.etnews.com/news/home_mobile/informa...  \n",
       "1  https://news.naver.com/main/read.nhn?mode=LSD&...  \n",
       "2  http://view.heraldcorp.com/view.php?ud=2012092...  \n",
       "3  http://news.kukinews.com/article/view.asp?page...  \n",
       "4  http://www.segyefn.com/articles/article.asp?ai...  \n",
       "5  http://www.asiae.co.kr/news/view.htm?idxno=201...  \n",
       "6  http://www.cstimes.com/news/articleView.html?i...  \n",
       "7  http://www.bbsi.co.kr/news/news_view.asp?nIdx=...  \n",
       "8  http://www.ajunews.com/common/redirect.jsp?new...  \n",
       "9  http://www.dailian.co.kr/news/news_view.htm?id...  "
      ]
     },
     "execution_count": 32,
     "metadata": {},
     "output_type": "execute_result"
    }
   ],
   "source": [
    "df1"
   ]
  },
  {
   "cell_type": "code",
   "execution_count": null,
   "metadata": {},
   "outputs": [],
   "source": [
    "df1.to_excel('gmarket_scrapping_04.10.xlsx', index=True)"
   ]
  },
  {
   "cell_type": "code",
   "execution_count": 25,
   "metadata": {},
   "outputs": [
    {
     "name": "stdout",
     "output_type": "stream",
     "text": [
      "10\n",
      "10\n",
      "10\n",
      "10\n",
      "10\n"
     ]
    }
   ],
   "source": [
    "print(len(press_list))\n",
    "print(len(title_list))\n",
    "print(len(date_list))\n",
    "print(len(content_list))\n",
    "print(len(href_list))"
   ]
  }
 ],
 "metadata": {
  "kernelspec": {
   "display_name": "Python 3",
   "language": "python",
   "name": "python3"
  },
  "language_info": {
   "codemirror_mode": {
    "name": "ipython",
    "version": 3
   },
   "file_extension": ".py",
   "mimetype": "text/x-python",
   "name": "python",
   "nbconvert_exporter": "python",
   "pygments_lexer": "ipython3",
   "version": "3.7.4"
  }
 },
 "nbformat": 4,
 "nbformat_minor": 2
}
