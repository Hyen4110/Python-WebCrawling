{
 "cells": [
  {
   "cell_type": "code",
   "execution_count": 1,
   "metadata": {},
   "outputs": [],
   "source": [
    "import requests\n",
    "from bs4 import BeautifulSoup\n",
    "import pandas as pd\n",
    "import time"
   ]
  },
  {
   "cell_type": "code",
   "execution_count": 2,
   "metadata": {},
   "outputs": [],
   "source": [
    "#href만 추출\n",
    "def hrefGetter(url):\n",
    "    url = url\n",
    "    #print(url)\n",
    "    req = requests.get(url)\n",
    "    html = req.text\n",
    "    soup = BeautifulSoup(html, 'lxml')\n",
    "\n",
    "    #\n",
    "    a_list = soup.find_all(\"div\", {\"class\":\"cb-mask cb-img-fw\"})\n",
    "    href_list= []\n",
    "    \n",
    "    for i in a_list:\n",
    "        a = i.find(\"a\")\n",
    "        href= a.get(\"href\")\n",
    "        if href.endswith(\"review/\") and \"TRUE WIRELESS\" in href:\n",
    "            href_list.append(href)\n",
    "        else: pass\n",
    "    #print(href_list)\n",
    "    return href_list"
   ]
  },
  {
   "cell_type": "code",
   "execution_count": 3,
   "metadata": {},
   "outputs": [],
   "source": [
    "#href만 추출\n",
    "def hrefGetter(url):\n",
    "    url = url\n",
    "    #print(url)\n",
    "    req = requests.get(url)\n",
    "    html = req.text\n",
    "    soup = BeautifulSoup(html, 'lxml')\n",
    "\n",
    "    #\n",
    "    a_list = soup.find_all(\"h2\", {\"class\":\"cb-post-title\"})\n",
    "    href_list= []\n",
    "    title_list = []\n",
    "    for i in a_list:\n",
    "        a = i.find(\"a\")\n",
    "        title = i.text\n",
    "        #print(title)\n",
    "        href= a.get(\"href\")\n",
    "        if href.endswith(\"review/\") and \"true wireless\" in title:\n",
    "            href_list.append(href)\n",
    "            title_list.append(title)\n",
    "        else: pass\n",
    "    #print(href_list)\n",
    "    return (title_list, href_list)"
   ]
  },
  {
   "cell_type": "code",
   "execution_count": 11,
   "metadata": {},
   "outputs": [
    {
     "name": "stdout",
     "output_type": "stream",
     "text": [
      "1 페이지 하는 중\n",
      "2 페이지 하는 중\n",
      "3 페이지 하는 중\n",
      "4 페이지 하는 중\n",
      "5 페이지 하는 중\n",
      "6 페이지 하는 중\n",
      "7 페이지 하는 중\n",
      "8 페이지 하는 중\n",
      "9 페이지 하는 중\n",
      "10 페이지 하는 중\n",
      "11 페이지 하는 중\n",
      "12 페이지 하는 중\n",
      "13 페이지 하는 중\n",
      "14 페이지 하는 중\n",
      "15 페이지 하는 중\n",
      "16 페이지 하는 중\n",
      "17 페이지 하는 중\n",
      "18 페이지 하는 중\n",
      "19 페이지 하는 중\n"
     ]
    }
   ],
   "source": [
    "total_href = []\n",
    "total_title =[]\n",
    "\n",
    "for i in range(1,20):\n",
    "    print(i,\"페이지 하는 중\")\n",
    "    url = 'https://headphonereview.com/category/in-ear/page/'+str(i)+\"/\"\n",
    "    title_list = hrefGetter(url)[0]\n",
    "    href_list = hrefGetter(url)[1]\n",
    "    \n",
    "    total_title.extend(title_list)\n",
    "    total_href.extend(href_list)"
   ]
  },
  {
   "cell_type": "code",
   "execution_count": 12,
   "metadata": {},
   "outputs": [
    {
     "data": {
      "text/plain": [
       "['https://headphonereview.com/in-ear/x-mini-liberty-true-wireless-headphone-review/',\n",
       " 'https://headphonereview.com/in-ear/audio-technica-ath-ck3tw-true-wireless-headphones-review/',\n",
       " 'https://headphonereview.com/in-ear/wicked-audio-gnar-true-wireless-headphones-review/',\n",
       " 'https://headphonereview.com/in-ear/master-dynamic-mw07-go-review/',\n",
       " 'https://headphonereview.com/in-ear/master-dynamic-mw07-plus-review/',\n",
       " 'https://headphonereview.com/in-ear/beats-powerbeats-pro-true-wireless-headphones-review/',\n",
       " 'https://headphonereview.com/in-ear/house-of-marley-liberate-air-review/',\n",
       " 'https://headphonereview.com/in-ear/cambridge-audio-melomania-1-review/',\n",
       " 'https://headphonereview.com/in-ear/soundpeats-truefree-true-wireless-headphones-review/',\n",
       " 'https://headphonereview.com/in-ear/jlab-audio-jbuds-air-sport-review/',\n",
       " 'https://headphonereview.com/in-ear/back-bay-duet-50-true-wireless-headphones-review/',\n",
       " 'https://headphonereview.com/in-ear/jlab-audio-epic-air-sport-review/',\n",
       " 'https://headphonereview.com/in-ear/cleer-ally-true-wireless-earbuds-review/',\n",
       " 'https://headphonereview.com/in-ear/xfyro-xs2-review/',\n",
       " 'https://headphonereview.com/in-ear/skullcandy-indy-true-wireless-review/',\n",
       " 'https://headphonereview.com/in-ear/sudio-tolv-true-wireless-headphones-review/',\n",
       " 'https://headphonereview.com/in-ear/soundpeats-truefree-true-wireless-headphones-review/',\n",
       " 'https://headphonereview.com/in-ear/jbl-endurance-peak-review/',\n",
       " 'https://headphonereview.com/in-ear/phiaton-bolt-bt-700-review/',\n",
       " 'https://headphonereview.com/in-ear/skullcandy-push-review/',\n",
       " 'https://headphonereview.com/in-ear/linpa-world-t2-review/',\n",
       " 'https://headphonereview.com/in-ear/soundpeats-truefree-true-wireless-headphones-review/',\n",
       " 'https://headphonereview.com/in-ear/sudio-tolv-true-wireless-headphones-review/',\n",
       " 'https://headphonereview.com/in-ear/kuaifit-k-review/',\n",
       " 'https://headphonereview.com/in-ear/jlab-jbuds-air-review/',\n",
       " 'https://headphonereview.com/in-ear/phiaton-bolt-bt-700-review/',\n",
       " 'https://headphonereview.com/in-ear/rowkin-ascent-micro-review/',\n",
       " 'https://headphonereview.com/in-ear/jlab-epic-air-elite-true-wireless-headphones-review/',\n",
       " 'https://headphonereview.com/in-ear/savfy-true-wireless-review/']"
      ]
     },
     "execution_count": 12,
     "metadata": {},
     "output_type": "execute_result"
    }
   ],
   "source": [
    "total_href"
   ]
  },
  {
   "cell_type": "code",
   "execution_count": 14,
   "metadata": {},
   "outputs": [
    {
     "data": {
      "text/plain": [
       "29"
      ]
     },
     "execution_count": 14,
     "metadata": {},
     "output_type": "execute_result"
    }
   ],
   "source": [
    "len(total_href)"
   ]
  },
  {
   "cell_type": "code",
   "execution_count": 9,
   "metadata": {},
   "outputs": [
    {
     "data": {
      "text/plain": [
       "['Sony WF-1000XM3 true wireless headphones review',\n",
       " 'Treblab xFit true wireless headphones review',\n",
       " 'Urbanista Athens true wireless headphones review',\n",
       " 'Cleer Ally Plus true wireless earbuds review',\n",
       " 'Shure Aonic 215 true wireless headphones review',\n",
       " 'Sol Amps Air+ true wireless headphones review',\n",
       " 'X-Mini Liberty+ true wireless headphone review',\n",
       " 'Audio Technica ATH-CK3TW true wireless headphones review',\n",
       " 'Wicked Audio Gnar true wireless headphones review',\n",
       " 'Master & Dynamic MW07 Go true wireless headphones review',\n",
       " 'SoundPeats TrueFree true wireless headphones review',\n",
       " 'Sudio Tolv true wireless headphones review',\n",
       " 'Master & Dynamic MW07 Plus true wireless headphones review',\n",
       " 'Beats Powerbeats Pro true wireless headphones review',\n",
       " 'House of Marley Liberate Air true wireless headphones review',\n",
       " 'Cambridge Audio Melomania 1 true wireless earbuds review',\n",
       " 'SoundPeats TrueFree true wireless headphones review',\n",
       " 'JLab Audio JBuds Air Sport true wireless headphones review',\n",
       " 'Back Bay Duet 50 true wireless headphones review',\n",
       " 'JLab Audio Epic Air Sport true wireless headphones review',\n",
       " 'Cleer Ally true wireless earbuds review',\n",
       " 'xFyro xS2 true wireless earbuds review',\n",
       " 'SoundPeats TrueFree true wireless headphones review',\n",
       " 'Skullcandy Indy true wireless earbuds review',\n",
       " 'Sudio Tolv true wireless headphones review',\n",
       " 'SoundPeats TrueFree true wireless headphones review',\n",
       " 'JBL Endurance Peak true wireless headphones review',\n",
       " 'SoundPeats TrueFree true wireless headphones review',\n",
       " 'Skullcandy Push true wireless headphones review',\n",
       " 'Linpa World T2 true wireless earbuds review',\n",
       " 'Optoma NuForce Be Free8 true wireless headphones review',\n",
       " 'Erato Verse true wireless headphones review',\n",
       " 'JLab Epic Air true wireless sports headphones review',\n",
       " 'GoNovate Gemini true wireless earbuds review',\n",
       " 'Savfy true wireless in-ear headphones review']"
      ]
     },
     "execution_count": 9,
     "metadata": {},
     "output_type": "execute_result"
    }
   ],
   "source": [
    "total_title"
   ]
  },
  {
   "cell_type": "code",
   "execution_count": null,
   "metadata": {},
   "outputs": [],
   "source": []
  },
  {
   "cell_type": "code",
   "execution_count": 81,
   "metadata": {},
   "outputs": [
    {
     "data": {
      "text/html": [
       "<div>\n",
       "<style scoped>\n",
       "    .dataframe tbody tr th:only-of-type {\n",
       "        vertical-align: middle;\n",
       "    }\n",
       "\n",
       "    .dataframe tbody tr th {\n",
       "        vertical-align: top;\n",
       "    }\n",
       "\n",
       "    .dataframe thead th {\n",
       "        text-align: right;\n",
       "    }\n",
       "</style>\n",
       "<table border=\"1\" class=\"dataframe\">\n",
       "  <thead>\n",
       "    <tr style=\"text-align: right;\">\n",
       "      <th></th>\n",
       "      <th>url</th>\n",
       "      <th>spec</th>\n",
       "      <th>data</th>\n",
       "    </tr>\n",
       "  </thead>\n",
       "  <tbody>\n",
       "  </tbody>\n",
       "</table>\n",
       "</div>"
      ],
      "text/plain": [
       "Empty DataFrame\n",
       "Columns: [url, spec, data]\n",
       "Index: []"
      ]
     },
     "execution_count": 81,
     "metadata": {},
     "output_type": "execute_result"
    }
   ],
   "source": [
    "df1 = pd.DataFrame(columns = ['url', 'spec', 'data'])\n",
    "df2 = pd.DataFrame(columns = ['url', 'spec', 'data'])\n",
    "\n",
    "pd.merge(df1,df2)"
   ]
  },
  {
   "cell_type": "code",
   "execution_count": 10,
   "metadata": {
    "scrolled": true
   },
   "outputs": [
    {
     "data": {
      "text/plain": [
       "35"
      ]
     },
     "execution_count": 10,
     "metadata": {},
     "output_type": "execute_result"
    }
   ],
   "source": [
    "len(total_title)"
   ]
  },
  {
   "cell_type": "code",
   "execution_count": 73,
   "metadata": {},
   "outputs": [],
   "source": [
    "url = 'https://headphonereview.com/in-ear/master-dynamic-mw07-plus-review/'\n",
    "    #print(url)\n",
    "req = requests.get(url)\n",
    "html = req.text\n",
    "soup = BeautifulSoup(html, 'lxml')\n",
    "table = soup.select(\"table\")[1]\n",
    "table_html = str(table)\n",
    "\n",
    "table_df_list = pd.read_html(table_html)"
   ]
  },
  {
   "cell_type": "code",
   "execution_count": 75,
   "metadata": {},
   "outputs": [
    {
     "data": {
      "text/html": [
       "<div>\n",
       "<style scoped>\n",
       "    .dataframe tbody tr th:only-of-type {\n",
       "        vertical-align: middle;\n",
       "    }\n",
       "\n",
       "    .dataframe tbody tr th {\n",
       "        vertical-align: top;\n",
       "    }\n",
       "\n",
       "    .dataframe thead th {\n",
       "        text-align: right;\n",
       "    }\n",
       "</style>\n",
       "<table border=\"1\" class=\"dataframe\">\n",
       "  <thead>\n",
       "    <tr style=\"text-align: right;\">\n",
       "      <th></th>\n",
       "      <th>0</th>\n",
       "      <th>1</th>\n",
       "      <th>2</th>\n",
       "      <th>3</th>\n",
       "    </tr>\n",
       "  </thead>\n",
       "  <tbody>\n",
       "    <tr>\n",
       "      <td>0</td>\n",
       "      <td>Frequency response</td>\n",
       "      <td>Unknown</td>\n",
       "      <td>Active noise cancellation</td>\n",
       "      <td>Yes</td>\n",
       "    </tr>\n",
       "    <tr>\n",
       "      <td>1</td>\n",
       "      <td>Driver size</td>\n",
       "      <td>10mm</td>\n",
       "      <td>Noise attenuation</td>\n",
       "      <td>Unknown</td>\n",
       "    </tr>\n",
       "    <tr>\n",
       "      <td>2</td>\n",
       "      <td>Driver type</td>\n",
       "      <td>Dynamic</td>\n",
       "      <td>On-ear controls</td>\n",
       "      <td>Yes</td>\n",
       "    </tr>\n",
       "    <tr>\n",
       "      <td>3</td>\n",
       "      <td>Design</td>\n",
       "      <td>Closed</td>\n",
       "      <td>Microphone</td>\n",
       "      <td>Yes</td>\n",
       "    </tr>\n",
       "    <tr>\n",
       "      <td>4</td>\n",
       "      <td>Sensitivity</td>\n",
       "      <td>Unknown</td>\n",
       "      <td>Eartip material</td>\n",
       "      <td>Gel</td>\n",
       "    </tr>\n",
       "    <tr>\n",
       "      <td>5</td>\n",
       "      <td>Rated impedance</td>\n",
       "      <td>Unknown</td>\n",
       "      <td>Magnet material</td>\n",
       "      <td>Beryllium</td>\n",
       "    </tr>\n",
       "    <tr>\n",
       "      <td>6</td>\n",
       "      <td>Total harmonic distortion</td>\n",
       "      <td>Unknown</td>\n",
       "      <td>Water resistance</td>\n",
       "      <td>Unknown</td>\n",
       "    </tr>\n",
       "    <tr>\n",
       "      <td>7</td>\n",
       "      <td>Rated input power</td>\n",
       "      <td>Unknown</td>\n",
       "      <td>Battery life</td>\n",
       "      <td>10 hours (+30 Hours)</td>\n",
       "    </tr>\n",
       "    <tr>\n",
       "      <td>8</td>\n",
       "      <td>Maximum input power</td>\n",
       "      <td>Unknown</td>\n",
       "      <td>Wireless distance</td>\n",
       "      <td>100ft (30m)</td>\n",
       "    </tr>\n",
       "    <tr>\n",
       "      <td>9</td>\n",
       "      <td>Wireless connection</td>\n",
       "      <td>Bluetooth 5.0</td>\n",
       "      <td>Cable length</td>\n",
       "      <td>Unknown</td>\n",
       "    </tr>\n",
       "    <tr>\n",
       "      <td>10</td>\n",
       "      <td>Wired connection</td>\n",
       "      <td>No</td>\n",
       "      <td>Case type</td>\n",
       "      <td>Charging case</td>\n",
       "    </tr>\n",
       "    <tr>\n",
       "      <td>11</td>\n",
       "      <td>Detachable cable</td>\n",
       "      <td>NaN</td>\n",
       "      <td>In-the-box</td>\n",
       "      <td>Headphones Charging case Carry pouch USB-C cha...</td>\n",
       "    </tr>\n",
       "    <tr>\n",
       "      <td>12</td>\n",
       "      <td>Weight</td>\n",
       "      <td>102g (3.6oz)</td>\n",
       "      <td>Colors</td>\n",
       "      <td>Black Quartz, Steel Blue, White Marble, Tortoi...</td>\n",
       "    </tr>\n",
       "  </tbody>\n",
       "</table>\n",
       "</div>"
      ],
      "text/plain": [
       "                            0              1                          2  \\\n",
       "0          Frequency response        Unknown  Active noise cancellation   \n",
       "1                 Driver size           10mm          Noise attenuation   \n",
       "2                 Driver type        Dynamic            On-ear controls   \n",
       "3                      Design         Closed                 Microphone   \n",
       "4                 Sensitivity        Unknown            Eartip material   \n",
       "5             Rated impedance        Unknown            Magnet material   \n",
       "6   Total harmonic distortion        Unknown           Water resistance   \n",
       "7           Rated input power        Unknown               Battery life   \n",
       "8         Maximum input power        Unknown          Wireless distance   \n",
       "9         Wireless connection  Bluetooth 5.0               Cable length   \n",
       "10           Wired connection             No                  Case type   \n",
       "11           Detachable cable            NaN                 In-the-box   \n",
       "12                     Weight   102g (3.6oz)                     Colors   \n",
       "\n",
       "                                                    3  \n",
       "0                                                 Yes  \n",
       "1                                             Unknown  \n",
       "2                                                 Yes  \n",
       "3                                                 Yes  \n",
       "4                                                 Gel  \n",
       "5                                           Beryllium  \n",
       "6                                             Unknown  \n",
       "7                                10 hours (+30 Hours)  \n",
       "8                                         100ft (30m)  \n",
       "9                                             Unknown  \n",
       "10                                      Charging case  \n",
       "11  Headphones Charging case Carry pouch USB-C cha...  \n",
       "12  Black Quartz, Steel Blue, White Marble, Tortoi...  "
      ]
     },
     "execution_count": 75,
     "metadata": {},
     "output_type": "execute_result"
    }
   ],
   "source": [
    "table_df = table_df_list[0]\n",
    "table_df"
   ]
  },
  {
   "cell_type": "code",
   "execution_count": 79,
   "metadata": {},
   "outputs": [
    {
     "data": {
      "text/plain": [
       "1"
      ]
     },
     "execution_count": 79,
     "metadata": {},
     "output_type": "execute_result"
    }
   ],
   "source": [
    "len(table_df_list)"
   ]
  },
  {
   "cell_type": "markdown",
   "metadata": {},
   "source": [
    "#### TWS 인 reveiw가 크롤링 할때마다 줄어들어서 맨 처음 한 데이터를 list로 박아서 추출하기로함 "
   ]
  },
  {
   "cell_type": "code",
   "execution_count": 113,
   "metadata": {},
   "outputs": [],
   "source": [
    "#url리스트를 받아서 하나씩 들어가서 spec_list 테이블을 추출해서 df로 넘겨줌 \n",
    "\n",
    "def urltableGet(total_urlli):\n",
    "    spec_total = pd.DataFrame(columns = ['url', 'spec', 'data'])\n",
    "    \n",
    "    #url별로 진행\n",
    "    for url in total_urlli:\n",
    "        req = requests.get(url)\n",
    "        html = req.text\n",
    "        soup = BeautifulSoup(html, 'lxml')\n",
    "        \n",
    "        try:\n",
    "            table = soup.select(\"table\")[1]\n",
    "            table_html = str(table)\n",
    "            table_df_list = pd.read_html(table_html)[0]\n",
    "        except: \n",
    "            table_df_list = pd.DataFrame(columns =[0,1,2,3])\n",
    "\n",
    "        spec_df = tableExtractor(url, table_df_list)\n",
    "        spec_total = spec_total.append(spec_df)\n",
    "               \n",
    "    return spec_total"
   ]
  },
  {
   "cell_type": "code",
   "execution_count": 114,
   "metadata": {},
   "outputs": [],
   "source": [
    "def tableExtractor(url, table_df_list):\n",
    "    url_i = url\n",
    "    spec_df = pd.DataFrame()\n",
    "\n",
    "    for i in range(len(table_df_list)):\n",
    "        spec_df.loc[i,\"url\"] = url_i\n",
    "        spec_df.loc[i,\"spec\"] = table_df_list.loc[i,0]\n",
    "        spec_df.loc[i,\"data\"] = table_df_list.loc[i,1]\n",
    "\n",
    "        spec_df.loc[i+len(table_df_list),\"url\"] = url\n",
    "        spec_df.loc[i+len(table_df_list),\"spec\"] = table_df_list.loc[i,2]\n",
    "        spec_df.loc[i+len(table_df_list),\"data\"] = table_df_list.loc[i,3]\n",
    "\n",
    "    spec_df = spec_df.sort_index()\n",
    "    \n",
    "    return spec_df"
   ]
  },
  {
   "cell_type": "code",
   "execution_count": 115,
   "metadata": {},
   "outputs": [],
   "source": [
    "### Main ###3\n",
    "total_urlli = ['https://headphonereview.com/in-ear/sony-wf-1000xm3-review/', 'https://headphonereview.com/in-ear/treblab-xfit-headphones-review/', 'https://headphonereview.com/in-ear/urbanista-athens-true-wireless-headphones-review/', 'https://headphonereview.com/in-ear/cleer-ally-plus-earbuds-review/', 'https://headphonereview.com/in-ear/shure-aonic-215-true-wireless-headphones-review/', 'https://headphonereview.com/in-ear/sol-amps-air-true-wireless-headphones-review/', 'https://headphonereview.com/in-ear/x-mini-liberty-true-wireless-headphone-review/', 'https://headphonereview.com/in-ear/audio-technica-ath-ck3tw-true-wireless-headphones-review/', 'https://headphonereview.com/in-ear/wicked-audio-gnar-true-wireless-headphones-review/', 'https://headphonereview.com/in-ear/master-dynamic-mw07-go-review/', 'https://headphonereview.com/in-ear/master-dynamic-mw07-plus-review/', 'https://headphonereview.com/in-ear/beats-powerbeats-pro-true-wireless-headphones-review/', 'https://headphonereview.com/in-ear/house-of-marley-liberate-air-review/', 'https://headphonereview.com/in-ear/cambridge-audio-melomania-1-review/', 'https://headphonereview.com/in-ear/jlab-audio-jbuds-air-sport-review/', 'https://headphonereview.com/in-ear/back-bay-duet-50-true-wireless-headphones-review/', 'https://headphonereview.com/in-ear/jlab-audio-epic-air-sport-review/', 'https://headphonereview.com/in-ear/cleer-ally-true-wireless-earbuds-review/', 'https://headphonereview.com/in-ear/xfyro-xs2-review/', 'https://headphonereview.com/in-ear/skullcandy-indy-true-wireless-review/', 'https://headphonereview.com/in-ear/sudio-tolv-true-wireless-headphones-review/', 'https://headphonereview.com/in-ear/soundpeats-truefree-true-wireless-headphones-review/', 'https://headphonereview.com/in-ear/jbl-endurance-peak-review/', 'https://headphonereview.com/in-ear/phiaton-bolt-bt-700-review/', 'https://headphonereview.com/in-ear/skullcandy-push-review/', 'https://headphonereview.com/in-ear/linpa-world-t2-review/', 'https://headphonereview.com/in-ear/kuaifit-k-review/', 'https://headphonereview.com/in-ear/jlab-jbuds-air-review/', 'https://headphonereview.com/in-ear/phiaton-bolt-bt-700-review/', 'https://headphonereview.com/in-ear/rowkin-ascent-micro-review/', 'https://headphonereview.com/in-ear/jlab-epic-air-elite-true-wireless-headphones-review/', 'https://headphonereview.com/in-ear/rowkin-ascent-charge-review/', 'https://headphonereview.com/in-ear/wicked-audio-arq-true-wireless-headphones-review/', 'https://headphonereview.com/in-ear/master-dynamic-mw07-review/', 'https://headphonereview.com/in-ear/jam-live-true-review/', 'https://headphonereview.com/in-ear/yevo-air-review/', 'https://headphonereview.com/in-ear/soul-x-shock-review/', 'https://headphonereview.com/in-ear/optoma-nuforce-be-free8-review/', 'https://headphonereview.com/in-ear/erato-verse-review/', 'https://headphonereview.com/in-ear/jlab-epic-air-review/', 'https://headphonereview.com/in-ear/gonovate-gemini-review/', 'https://headphonereview.com/in-ear/b-o-beoplay-e8-review/', 'https://headphonereview.com/in-ear/jaybird-run-review/', 'https://headphonereview.com/in-ear/winnergear-hero-review/', 'https://headphonereview.com/in-ear/bragi-dash-pro-review/', 'https://headphonereview.com/in-ear/soundpeats-q29-review/', 'https://headphonereview.com/in-ear/savfy-true-wireless-review/', \n",
    "              ]\n",
    "\n",
    "spec_total = urltableGet(total_urlli)\n"
   ]
  },
  {
   "cell_type": "code",
   "execution_count": 118,
   "metadata": {},
   "outputs": [],
   "source": [
    "spec_total.to_excel('headphonereview_spec_list.xlsx')"
   ]
  },
  {
   "cell_type": "code",
   "execution_count": 112,
   "metadata": {},
   "outputs": [
    {
     "data": {
      "text/plain": [
       "https://headphonereview.com/in-ear/sony-wf-1000xm3-review/    260\n",
       "Name: url, dtype: int64"
      ]
     },
     "execution_count": 112,
     "metadata": {},
     "output_type": "execute_result"
    }
   ],
   "source": [
    "spec_total.url.value_counts()\n"
   ]
  }
 ],
 "metadata": {
  "kernelspec": {
   "display_name": "Python 3",
   "language": "python",
   "name": "python3"
  },
  "language_info": {
   "codemirror_mode": {
    "name": "ipython",
    "version": 3
   },
   "file_extension": ".py",
   "mimetype": "text/x-python",
   "name": "python",
   "nbconvert_exporter": "python",
   "pygments_lexer": "ipython3",
   "version": "3.7.4"
  }
 },
 "nbformat": 4,
 "nbformat_minor": 2
}
