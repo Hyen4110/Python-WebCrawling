{
 "cells": [
  {
   "cell_type": "code",
   "execution_count": 1,
   "metadata": {},
   "outputs": [],
   "source": [
    "import pandas as pd\n",
    "import numpy as np\n",
    "import re\n",
    "import time\n",
    "from urllib import parse\n",
    "from selenium import webdriver\n",
    "from selenium.webdriver.common.keys import Keys\n",
    "import warnings\n",
    "warnings.filterwarnings(action='ignore')"
   ]
  },
  {
   "cell_type": "markdown",
   "metadata": {},
   "source": [
    "### data 불러오기"
   ]
  },
  {
   "cell_type": "code",
   "execution_count": 2,
   "metadata": {},
   "outputs": [
    {
     "data": {
      "text/html": [
       "<div>\n",
       "<style scoped>\n",
       "    .dataframe tbody tr th:only-of-type {\n",
       "        vertical-align: middle;\n",
       "    }\n",
       "\n",
       "    .dataframe tbody tr th {\n",
       "        vertical-align: top;\n",
       "    }\n",
       "\n",
       "    .dataframe thead th {\n",
       "        text-align: right;\n",
       "    }\n",
       "</style>\n",
       "<table border=\"1\" class=\"dataframe\">\n",
       "  <thead>\n",
       "    <tr style=\"text-align: right;\">\n",
       "      <th></th>\n",
       "      <th>url</th>\n",
       "      <th>url_modified</th>\n",
       "    </tr>\n",
       "  </thead>\n",
       "  <tbody>\n",
       "    <tr>\n",
       "      <th>0</th>\n",
       "      <td>m.elandmall.com/goods/initGoodsDetail.action?g...</td>\n",
       "      <td>http://m.elandmall.com/goods/initGoodsDetail.a...</td>\n",
       "    </tr>\n",
       "    <tr>\n",
       "      <th>1</th>\n",
       "      <td>/m.elandmall.com/goods/initGoodsDetail.action?...</td>\n",
       "      <td>http:///m.elandmall.com/goods/initGoodsDetail....</td>\n",
       "    </tr>\n",
       "    <tr>\n",
       "      <th>2</th>\n",
       "      <td>m-lloyd.elandmall.com/goods/initGoodsDetail.ac...</td>\n",
       "      <td>http://m-lloyd.elandmall.com/goods/initGoodsDe...</td>\n",
       "    </tr>\n",
       "    <tr>\n",
       "      <th>3</th>\n",
       "      <td>m-roem.elandmall.com/goods/initGoodsDetail.act...</td>\n",
       "      <td>http://m-roem.elandmall.com/goods/initGoodsDet...</td>\n",
       "    </tr>\n",
       "    <tr>\n",
       "      <th>4</th>\n",
       "      <td>m.elandmall.com/goods/initGoodsDetail.action?g...</td>\n",
       "      <td>http://m.elandmall.com/goods/initGoodsDetail.a...</td>\n",
       "    </tr>\n",
       "  </tbody>\n",
       "</table>\n",
       "</div>"
      ],
      "text/plain": [
       "                                                 url  \\\n",
       "0  m.elandmall.com/goods/initGoodsDetail.action?g...   \n",
       "1  /m.elandmall.com/goods/initGoodsDetail.action?...   \n",
       "2  m-lloyd.elandmall.com/goods/initGoodsDetail.ac...   \n",
       "3  m-roem.elandmall.com/goods/initGoodsDetail.act...   \n",
       "4  m.elandmall.com/goods/initGoodsDetail.action?g...   \n",
       "\n",
       "                                        url_modified  \n",
       "0  http://m.elandmall.com/goods/initGoodsDetail.a...  \n",
       "1  http:///m.elandmall.com/goods/initGoodsDetail....  \n",
       "2  http://m-lloyd.elandmall.com/goods/initGoodsDe...  \n",
       "3  http://m-roem.elandmall.com/goods/initGoodsDet...  \n",
       "4  http://m.elandmall.com/goods/initGoodsDetail.a...  "
      ]
     },
     "execution_count": 2,
     "metadata": {},
     "output_type": "execute_result"
    }
   ],
   "source": [
    "data = pd.read_csv('url_data.csv', index_col = 0)\n",
    "data.columns =['url']\n",
    "data['url_modified'] = data['url'].apply(lambda x:\"http://\"+x)\n",
    "data.head()"
   ]
  },
  {
   "cell_type": "markdown",
   "metadata": {},
   "source": [
    "### Category 추출"
   ]
  },
  {
   "cell_type": "code",
   "execution_count": 6,
   "metadata": {},
   "outputs": [],
   "source": [
    "def get_category(url):\n",
    "    # 1. 페이지로 이동\n",
    "    driver.get(url) \n",
    "    time.sleep(0.5)\n",
    "    \n",
    "    try:\n",
    "        # 2. 카테고리 버튼 클릭\n",
    "        get_category_button = driver.find_elements_by_xpath('//*[@id=\"ctab\"]')\n",
    "        get_category_button[0].click()\n",
    "\n",
    "        # 3. 카테고리 내용 긁기\n",
    "        category = driver.find_elements_by_xpath('//*[@id=\"catg_nav\"]')\n",
    "        category_text = (category[0].text).replace(\"\\n\",\"|\")\n",
    "    \n",
    "    except:\n",
    "        category_text = \"\"\n",
    "\n",
    "    return category_text"
   ]
  },
  {
   "cell_type": "code",
   "execution_count": 7,
   "metadata": {},
   "outputs": [
    {
     "data": {
      "text/html": [
       "<div>\n",
       "<style scoped>\n",
       "    .dataframe tbody tr th:only-of-type {\n",
       "        vertical-align: middle;\n",
       "    }\n",
       "\n",
       "    .dataframe tbody tr th {\n",
       "        vertical-align: top;\n",
       "    }\n",
       "\n",
       "    .dataframe thead th {\n",
       "        text-align: right;\n",
       "    }\n",
       "</style>\n",
       "<table border=\"1\" class=\"dataframe\">\n",
       "  <thead>\n",
       "    <tr style=\"text-align: right;\">\n",
       "      <th></th>\n",
       "      <th>url</th>\n",
       "      <th>url_modified</th>\n",
       "      <th>category</th>\n",
       "    </tr>\n",
       "  </thead>\n",
       "  <tbody>\n",
       "    <tr>\n",
       "      <th>0</th>\n",
       "      <td>m.elandmall.com/goods/initGoodsDetail.action?g...</td>\n",
       "      <td>http://m.elandmall.com/goods/initGoodsDetail.a...</td>\n",
       "      <td></td>\n",
       "    </tr>\n",
       "    <tr>\n",
       "      <th>1</th>\n",
       "      <td>/m.elandmall.com/goods/initGoodsDetail.action?...</td>\n",
       "      <td>http:///m.elandmall.com/goods/initGoodsDetail....</td>\n",
       "      <td>스토어쇼핑|고잔점|유아동</td>\n",
       "    </tr>\n",
       "    <tr>\n",
       "      <th>2</th>\n",
       "      <td>m-lloyd.elandmall.com/goods/initGoodsDetail.ac...</td>\n",
       "      <td>http://m-lloyd.elandmall.com/goods/initGoodsDe...</td>\n",
       "      <td>JEWELRY|RING</td>\n",
       "    </tr>\n",
       "    <tr>\n",
       "      <th>3</th>\n",
       "      <td>m-roem.elandmall.com/goods/initGoodsDetail.act...</td>\n",
       "      <td>http://m-roem.elandmall.com/goods/initGoodsDet...</td>\n",
       "      <td>CLOTHING|OUTER|ALL</td>\n",
       "    </tr>\n",
       "    <tr>\n",
       "      <th>4</th>\n",
       "      <td>m.elandmall.com/goods/initGoodsDetail.action?g...</td>\n",
       "      <td>http://m.elandmall.com/goods/initGoodsDetail.a...</td>\n",
       "      <td>유아동/출산|유아동의류|아동의류(4~8세)|원피스/스커트</td>\n",
       "    </tr>\n",
       "  </tbody>\n",
       "</table>\n",
       "</div>"
      ],
      "text/plain": [
       "                                                 url  \\\n",
       "0  m.elandmall.com/goods/initGoodsDetail.action?g...   \n",
       "1  /m.elandmall.com/goods/initGoodsDetail.action?...   \n",
       "2  m-lloyd.elandmall.com/goods/initGoodsDetail.ac...   \n",
       "3  m-roem.elandmall.com/goods/initGoodsDetail.act...   \n",
       "4  m.elandmall.com/goods/initGoodsDetail.action?g...   \n",
       "\n",
       "                                        url_modified  \\\n",
       "0  http://m.elandmall.com/goods/initGoodsDetail.a...   \n",
       "1  http:///m.elandmall.com/goods/initGoodsDetail....   \n",
       "2  http://m-lloyd.elandmall.com/goods/initGoodsDe...   \n",
       "3  http://m-roem.elandmall.com/goods/initGoodsDet...   \n",
       "4  http://m.elandmall.com/goods/initGoodsDetail.a...   \n",
       "\n",
       "                          category  \n",
       "0                                   \n",
       "1                    스토어쇼핑|고잔점|유아동  \n",
       "2                     JEWELRY|RING  \n",
       "3               CLOTHING|OUTER|ALL  \n",
       "4  유아동/출산|유아동의류|아동의류(4~8세)|원피스/스커트  "
      ]
     },
     "execution_count": 7,
     "metadata": {},
     "output_type": "execute_result"
    }
   ],
   "source": [
    "# 브라우저 열기\n",
    "driver = webdriver.Chrome()\n",
    "\n",
    "# 빈 Category 컬럼 생성\n",
    "data['category']=\"\"\n",
    "\n",
    "# catagory 뽑기!\n",
    "for i in range(len(data[:10])):\n",
    "    time.sleep(0.5)\n",
    "    data['category'][i] = get_category(data['url_modified'][i])\n",
    "    \n",
    "data.head()"
   ]
  }
 ],
 "metadata": {
  "kernelspec": {
   "display_name": "Python 3",
   "language": "python",
   "name": "python3"
  },
  "language_info": {
   "codemirror_mode": {
    "name": "ipython",
    "version": 3
   },
   "file_extension": ".py",
   "mimetype": "text/x-python",
   "name": "python",
   "nbconvert_exporter": "python",
   "pygments_lexer": "ipython3",
   "version": "3.7.4"
  }
 },
 "nbformat": 4,
 "nbformat_minor": 2
}
