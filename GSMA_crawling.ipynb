{
 "cells": [
  {
   "cell_type": "code",
   "execution_count": 2,
   "metadata": {},
   "outputs": [],
   "source": [
    "import pandas as pd\n",
    "import numpy as np\n",
    "import re\n",
    "import time\n",
    "from urllib import parse\n",
    "from selenium import webdriver\n",
    "from selenium.webdriver.common.keys import Keys\n",
    "import warnings\n",
    "warnings.filterwarnings(action='ignore')\n",
    "\n",
    "import os\n",
    "import sys\n",
    "import urllib.request\n",
    "import json\n",
    "from datetime import datetime\n",
    "from tqdm.notebook import tqdm"
   ]
  },
  {
   "cell_type": "markdown",
   "metadata": {},
   "source": [
    "## 1. 다운로드 진행 (약 2시간 30분)\n",
    "1) 수동 로그인을 한다.\n",
    "\n",
    "2) 원하는 위치까지 클릭하여 이동한다"
   ]
  },
  {
   "cell_type": "code",
   "execution_count": 2,
   "metadata": {},
   "outputs": [],
   "source": [
    "def nation_to_csv(driver, country_element):\n",
    "    #start! geography 버튼 클릭\n",
    "    geography_button = driver.find_element_by_xpath('//*[@id=\"content\"]/div[2]/div/div/div/div[1]/div[2]/span')\n",
    "    try:\n",
    "        geography_button.click()\n",
    "    except:\n",
    "        geography_button.send_keys(Keys.ENTER)\n",
    "    time.sleep(1)\n",
    "    \n",
    "    country_element.click() #국가 결정\n",
    "    time.sleep(2)\n",
    "    \n",
    "    apply_button = driver.find_element_by_xpath('//*[@id=\"content\"]/div[2]/div/div/div/div[1]/div[12]/section[2]/header/span[1]')\n",
    "    apply_button.click() #apply 버튼 클릭\n",
    "    time.sleep(2)\n",
    "    \n",
    "    try:\n",
    "        csv_button = driver.find_element_by_xpath('//*[@id=\"modalBody\"]/div[2]/div[2]/div')\n",
    "        csv_button.click() #csv 버튼 클릭\n",
    "    except:\n",
    "        download_button = driver.find_element_by_xpath('//*[@id=\"content\"]/div[2]/div/div/div/div[1]/div[10]/div/div/span')\n",
    "        download_button.click()\n",
    "        time.sleep(0.1)\n",
    "        \n",
    "        csv_button_2 = driver.find_element_by_xpath('//*[@id=\"content\"]/div[2]/div/div/div/div[1]/div[10]/div/div/div/ul/li[2]')\n",
    "        csv_button_2.click()"
   ]
  },
  {
   "cell_type": "markdown",
   "metadata": {},
   "source": [
    "### 수동으로 로그인 후, 원하는 페이지까지 이동하는 작업 진행"
   ]
  },
  {
   "cell_type": "code",
   "execution_count": 3,
   "metadata": {},
   "outputs": [],
   "source": [
    "url = \"https://data.gsmaintelligence.com/data/market-metrics\"\n",
    "driver = webdriver.Chrome()\n",
    "driver.get(url)\n",
    "\n",
    "# 수동 로그인! \n",
    "# 국가 선택하기 직전까지 이동! -> 'Mobile>By Market'"
   ]
  },
  {
   "cell_type": "markdown",
   "metadata": {},
   "source": [
    "### 다운로드 프로그램 실행 "
   ]
  },
  {
   "cell_type": "code",
   "execution_count": 21,
   "metadata": {},
   "outputs": [],
   "source": [
    "#0.start! geography 버튼 클릭\n",
    "geography_button = driver.find_element_by_xpath('//*[@id=\"content\"]/div[2]/div/div/div/div[1]/div[2]/span')\n",
    "try:\n",
    "    geography_button.click()\n",
    "except:\n",
    "    geography_button.send_keys(Keys.ENTER)\n",
    "time.sleep(1)\n",
    "\n",
    "region_list = driver.find_elements_by_xpath(\"//*[@class='link-item']\") \n",
    "\n",
    "#2. 검색조건 세팅\n",
    "#2.1. 기간 선택\n",
    "last_year_dropdown = driver.find_element_by_xpath('//*[@id=\"content\"]/div[2]/div/div/div/div[1]/div[4]/span')\n",
    "last_year_dropdown.click()\n",
    "time.sleep(0.5)\n",
    "five_year = driver.find_element_by_xpath('//*[@id=\"content\"]/div[2]/div/div/div/div[1]/div[4]/div/ul/li[5]')\n",
    "five_year.click()    \n",
    "time.sleep(0.5)\n",
    "    \n",
    "#2.2 예측 포함여부 선택\n",
    "forcasting_yn = driver.find_element_by_xpath('//*[@id=\"content\"]/div[2]/div/div/div/div[1]/div[9]/div/label')\n",
    "forcasting_yn.click()\n",
    "time.sleep(0.5)\n",
    "\n",
    "for element in region_list[237:]:\n",
    "    country_name = element.text    \n",
    "    #4. 다운로드\n",
    "    nation_to_csv(driver, element)\n",
    "    \n",
    "    #5. geography 버튼 클릭\n",
    "    geography_button = driver.find_element_by_xpath('//*[@id=\"content\"]/div[2]/div/div/div/div[1]/div[2]/span')\n",
    "    try:\n",
    "        geography_button.click()\n",
    "    except:\n",
    "        geography_button.send_keys(Keys.ENTER)\n",
    "    time.sleep(1)\n",
    "    \n",
    "    #6. 국가 리셋\n",
    "    clear_button = driver.find_element_by_xpath('//*[@id=\"content\"]/div[2]/div/div/div/div[1]/div[12]/section[2]/header/span[3]')\n",
    "    clear_button.click()\n",
    "    try:\n",
    "        geography_button.click()\n",
    "    except:\n",
    "        geography_button.send_keys(Keys.ENTER)\n",
    "    time.sleep(10)"
   ]
  },
  {
   "cell_type": "markdown",
   "metadata": {},
   "source": [
    "## 2. 다운로드 받은 파일 Excel로 변환 (약 20분)\n",
    "\n",
    "1) 원하는 경로에 다운받은 파일들을 모두 넣는다.\n",
    "    - 다른 파일은 넣으면 에러가 나므로 주의!1\n",
    "2) 코드를 돌린다. "
   ]
  },
  {
   "cell_type": "code",
   "execution_count": null,
   "metadata": {},
   "outputs": [],
   "source": [
    "#csv파일에서 이름이 부여된 excel파일로 변환하는 작업"
   ]
  },
  {
   "cell_type": "code",
   "execution_count": 10,
   "metadata": {},
   "outputs": [],
   "source": [
    "def csv_to_named_excel():    \n",
    "    path_dir = 'C:\\workplace\\알바\\카운터포인트리서치\\GSMA\\data'\n",
    "    file_list = os.listdir(path_dir)\n",
    "    \n",
    "    \n",
    "    for filenm in file_list[:]:\n",
    "        if \"xlsx\" not in filenm and \"csv\" not in filenm:\n",
    "            continue\n",
    "        try:\n",
    "            csv_file = pd.read_csv(path_dir+\"\\\\\"+filenm)\n",
    "            csv_file.fillna(\"\",inplace=True) #결측값 처리 => \"\"\n",
    "        except:\n",
    "            csv_file = pd.read_excel(path_dir+\"\\\\\"+filenm, skiprows =[0,1],skipfooter=3)\n",
    "            csv_file.fillna(\"\",inplace=True) #결측값 처리 => \"\"         \n",
    "        country_len = len(csv_file.Country_name.value_counts()) #국가 Country_name\n",
    "        region_len = len(csv_file.Region_name.value_counts()) #대륙(대분류) Region_name\n",
    "        subregion_len = len(csv_file.Subregion_name.value_counts()) #대륙(소분류) Subregion_name\n",
    "\n",
    "        if csv_file.Region_name.value_counts().index[0]==\"World\":\n",
    "                final_file_nm = \"World\" #대륙 여러개\n",
    "        elif country_len==1:\n",
    "            final_file_nm = csv_file.Country_name.value_counts().index[0]\n",
    "        elif subregion_len==1:\n",
    "            final_file_nm = csv_file.Subregion_name.value_counts().index[0]\n",
    "        elif region_len==1:\n",
    "                final_file_nm = csv_file.Region_name.value_counts().index[0]\n",
    "\n",
    "        csv_file.to_excel(path_dir+\"\\\\excel_file\\\\\"+final_file_nm+\".xlsx\", index=False)\n",
    "        time.sleep(1)"
   ]
  },
  {
   "cell_type": "code",
   "execution_count": 11,
   "metadata": {
    "scrolled": false
   },
   "outputs": [
    {
     "name": "stdout",
     "output_type": "stream",
     "text": [
      "Wall time: 14min 36s\n"
     ]
    }
   ],
   "source": [
    "%%time\n",
    "\n",
    "csv_to_named_excel()"
   ]
  }
 ],
 "metadata": {
  "kernelspec": {
   "display_name": "Python 3",
   "language": "python",
   "name": "python3"
  },
  "language_info": {
   "codemirror_mode": {
    "name": "ipython",
    "version": 3
   },
   "file_extension": ".py",
   "mimetype": "text/x-python",
   "name": "python",
   "nbconvert_exporter": "python",
   "pygments_lexer": "ipython3",
   "version": "3.7.4"
  }
 },
 "nbformat": 4,
 "nbformat_minor": 2
}
