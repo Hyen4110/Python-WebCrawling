{
 "cells": [
  {
   "cell_type": "code",
   "execution_count": 1,
   "metadata": {},
   "outputs": [],
   "source": [
    "import requests\n",
    "from bs4 import BeautifulSoup"
   ]
  },
  {
   "cell_type": "code",
   "execution_count": 2,
   "metadata": {},
   "outputs": [],
   "source": [
    "req = requests.get('http://browse.gmarket.co.kr/list?category=300028561&s=8')\n",
    "html = req.text\n",
    "soup = BeautifulSoup(html, 'html.parser')\n",
    "## CSS Selector를 통해 html요소들을 찾아낸다.\n",
    "\n",
    "##브랜드\n",
    "\n",
    "#  brand_list = []\n",
    "# for brand in soup.select('span[class=text__brand]'):\n",
    "#     brand_list.append(brand.text.strip())\n",
    "# print(brand_list)\n",
    "# print(len(brand_list))\n"
   ]
  },
  {
   "cell_type": "code",
   "execution_count": 3,
   "metadata": {},
   "outputs": [
    {
     "name": "stdout",
     "output_type": "stream",
     "text": [
      "100\n",
      "100\n",
      "['애플', '피스넷', '삼성전자', '삼성전자', '애플', '삼성전자', '피스넷', '삼성전자', '브리츠', '삼성전자', '피스넷', '피스넷', '', '삼성전자', '삼성전자', '애플', '', '큐씨와이', '큐씨와이', '큐씨와이', '큐씨와이', '', '스마트에버', '브리츠', '', '샤오미', '펜톤', '삼성전자', '', '제이비엘', '피스넷', '삼성전자', 'LG', '애플', 'LG', '스마텍', '엠지텍', '브리츠', '', '삼성전자', '피스넷', 'LG', '제이비엘', '', '', '피스넷', '엠지텍', '엠지텍', '큐씨와이', '갤럭시', '삼성전자', '', '', '삼성전자', '갤럭시', '소니', 'BT21', '엠지텍', '삼성전자', '브리츠', '큐씨와이', '', '큐씨와이', '', 'LG', 'LG', '갤럭시', '바넥스', '펜톤', '', '', '로이체', '피스넷', '삼성전자', '피스넷', '애플', '브리츠', '', '펜톤', '비아', '큐씨와이', '', '스카이', 'LG', '', '', '애플', '플랜트로닉스', '', '큐씨와이', '', '펜톤', '피스넷', '', '로즈비', '피스넷', '아크로', 'LG', '피스넷', '']\n",
      "['Apple 정품 에어팟 프로 MWP22KH/A', '골전도 블루투스 이어폰 피스넷 프리본 / 청력보호', 'SM-R175 갤럭시버즈 플러스 블루투스이어폰 AKG 튜닝', '갤럭시버즈 플러스 블루투스 이어폰 SM-R175 블루', 'Apple 정품 에어팟 프로 MWP22KH/A', '인증점 갤럭시 버즈 플러스 블루투스이어폰/SM-R175', '끊김없는 완전무선 블루투스이어폰 피스넷 프리고', '갤럭시 버즈 라이브 블루투스이어폰 SM-R180 화이트', 'Storm TWS5 완전 무선 블루투스 이어폰 IPx5 초경량', '갤럭시 버즈 라이브 블루투스이어폰 SM-R180 블랙', 'MP3플레이어 골전도 블루투스이어폰 피스넷 프리본MP3', '초경량 골전도이어폰 피스넷 프리본에어 /9-25예약판매', '애플 정품 에어팟프로 MWP22KHA/노이즈캔슬링/당일발송', '갤럭시버즈 플러스 블루투스 이어폰 SM-R175 핑크', '갤럭시 버즈 라이브 블루투스이어폰 SM-R180 브론즈', '애플 에어팟 2세대 유선충전 MV7N2KH/A', 'QCY T5S 블루투스 V5.1 이어폰 In1933 블랙', '정식수입 QCY T1 블루투스이어폰 블랙', '신상품QCY T5S 블루투스 무선 이어폰 재고보유', 'QCY T8 블루투스5.0 무선 이어폰 화이트 2020 익일배송', '정식수입 QCY T5 블루투스이어폰 블랙', '가성비 최고 블린즈 블루투스이어폰 KC인증 차이팟프로', '무선 블루투스이어폰 SE-P1 블랙 200시간 재생', 'BE-Vtalk7 무통증/듀얼마이크/블루투스/이어폰/이어셋', '애플 정품 에어팟 2세대 유선충전(MV7N2KH/A) 블루투스', '큐씨와이 QCY T5S 블루투스 이어폰/보호 케이스 증정', 'TSX 다이아팟 크래들 1회 충전 56시간 재생 / 완전방수', '삼성정품 갤럭시버즈플러스 SM-R175 레드 당일발송', '삼성 갤럭시 버즈 플러스 SM-R175 AKG 튜닝 레드', '공식파트너 JBL TUNE120 완전무선블루투스이어폰 블랙', '노이즈캔슬링 블루투스이어폰 피스넷 프리고ANC', '갤럭시버즈 플러스 블루투스 이어폰 SM-R175 화이트', 'LG 블루투스이어폰 톤플러스 HBS-510 블랙 포토후기', '에어팟 프로 3세대 노이즈 캔슬링 블루투스 이어폰', 'LG 톤플러스 HBS-PL5 블루투스이어폰 블랙 포토사은품', 'STBT-2100 (블랙) 블루투스 넥밴드 이어폰 이어셋', '블루투스이어폰 아이언V60 11차앵콜/162시간재생/IPX8', 'Acoustic TWS5 (블랙) 코드리스 블루투스 이어폰', '샤오미 QCY T5 블루투스 이어폰 4세대 최신 화이트', '갤럭시 버즈 플러스 블루투스이어폰 SM-R175 블루', '끊김없는 블루투스이어폰 피스넷 프리사운드 / 화이트', 'LG 블루루투스 이어폰 HBS-830 블랙 포토사은품', '삼성공식파트너 JBL TUNE120 완전무선 이어폰 화이트', 'QCY T6 스포츠형 블루투스 5.0 이어폰 블랙', 'LG톤프리 HBS-TFN6 화이트 무선 TWS 블루투스 이어폰', '끊김없는 블루투스이어폰 피스넷 프리슬림 블랙', '골전도 블루투스이어폰 이어프리G2 무선/IPX8완전방수/', '블루투스이어폰 아이언V50 10시간재생/완전방수/퀵차지', 'QCY T5 블랙 TWS 블루투스5.0 무선이어폰  (국내배송)', '갤럭시버즈 플러스 블루투스 이어폰 SM-R175 블랙', '갤럭시 버즈 플러스 블루투스이어폰 SM-R175 블루', '프리미엄 블루투스5.0V 130시간재생 USB포트 사은품 3', '큐씨와이QCY-T7 블루투스5.0 이어폰 메인호환 익일발송', '갤럭시버즈 플러스 블루투스 이어폰 SM-R175 블랙', '갤럭시버즈 플러스 블루투스 이어폰 SM-R175 블루', '소니 WF-1000XM3 블루투스 이어폰 / 블랙 무선이어폰', 'BT21 TWS 블루투스 이어폰 세트 (무선충전지원)', '익스트림Z5 블루투스이어폰 /IPX7 완전방수/스포츠형', '갤럭시버즈 라이브 ANC 블루투스 이어폰 SM-R180 블랙', 'LUXTWS5 오픈형 블루투스 코드리스 이어폰 24시간사용', '무료배송 QCY T2C TWS 무선 블루투스 이어폰 화이트', '에어팟2 유선 2세대 본체 충전케이스 단품 별개 낱개', 'QCY T5 TWS 블루투스5.0 무선이어폰 블루투스이어폰 BL', '오투팟 무선 블루투스 이어폰 화이트 색상 1년 무료A/S', 'LG 톤플러스 HBS-PL7 블루투스이어폰 블랙 포토사은품', 'HBS-830 LG 블루투스이어폰 넥밴드 톤플러스 블랙', '갤럭시버즈 플러스 블루투스 이어폰 SM-R175 화이트', '아이토닉 블루투스 5.0 무선이어폰 화이트 충전패드', 'TSX QCC 퀄컴 aptX 무선 블루투스 이어폰 13시간 재생', '갤럭시버즈 플러스 솔리드 클리어 키링 케이스 투명', 'QCY T5S 블루투스 V5.1 이어폰 In1933 블랙 1+1 최신판', '무선 블루투스 이어폰 /자동페어링/BTW-4 블랙', '무선 블루투스 이어폰 피스넷 프리고C CVC노이즈캔슬링', '갤럭시버즈 플러스 BTS에디션 블루투스 이어폰SM-R175', '고급크래들 블루투스이어폰 피스넷 프리사운드S 블랙', '애플 정품 에어팟 2세대 유선 당일출고', 'BribudsTWS30 퀄컴QCC 노이즈캔슬링 블루투스 이어폰', 'QCY T5 PRO 블루투스 이어폰 스마트 35시간 최장항속', 'TSX 대용량 배터리 40M 연결 1번 충전 최대 40일 사용', '듀디디 블루투스이어폰 /블루투스5.1v/강력한 음질', 'QCY T5 큐씨와이 T5 블루투스 5.0 무선이어폰 블랙', '인증점 갤럭시 버즈플러스 BTS 에디션/SM-R175', '스카이 핏 엑스 무선 블루투스 5.0 이어폰 블랙', 'LG 블루투스이어폰 톤플러스 HBS-2000  블루 포토후기', '삼성 SM-R175 갤럭시버즈플러스  무선이어폰 블랙 INI', 'QCY T5 PRO 블루투스 5.1/APP설정/무선충전 지원', '애플 에어팟 2세대 유선충전  MV7N2KH/A 블루투스 GK', '보이저 5200 비즈니스 블루투스 이어폰 충전케이스단품', '공식/신상 QCY T6 TWS 무선 블루투스 이어폰 고리형', '정식수입 QCY T2C 블루투스이어폰 블랙 6개월 AS', 'QCY T9S TWS 국내정품 컴퓨존', '펜톤정품 TSX 블루투스이어폰 2600mAh IPX7 완전방수', '충전식 음성 소리 증폭기 피스넷 이어앰프', 'Mpow Cheetah 블루투스이어폰 조깅/자전거/스포츠 MBH6', 'RVE-910S블루투스이어폰 헤드셋헤드폰 삼성LG애플호완', '압도적음질 블루투스 이어폰 피스넷 프리고S / 블랙', 'ACRO i11 블루투스 무선 이어폰 5.0 화이트 차이팟', 'HBS-830 블루투스 넥밴드 이어폰 국내정품 블랙 IF', '리퍼-노이즈캔슬링 블루투스이어폰 피스넷 프리고ANC', '포데모스 PS1      200시간이상재생 보조배터리포함']\n"
     ]
    }
   ],
   "source": [
    "##타이틀\n",
    "li_list = []\n",
    "brand_list = []\n",
    "title_list = []\n",
    "for li in soup.select('div[class=box__item-title]'):\n",
    "    li_list.append(li.text.strip())\n",
    "\n",
    "for li in li_list:\n",
    "    brand,title=tuple(li.split(\"상품명 \"))\n",
    "    brand = brand.replace(\"브랜드명 \",\"\").strip()\n",
    "    title = title.strip()\n",
    "    \n",
    "    brand_list.append(brand)\n",
    "    title_list.append(title)\n",
    "\n",
    "print(len(brand_list))\n",
    "print(len(title_list))\n",
    "\n",
    "print(brand_list)\n",
    "print(title_list)"
   ]
  },
  {
   "cell_type": "code",
   "execution_count": 4,
   "metadata": {},
   "outputs": [
    {
     "name": "stdout",
     "output_type": "stream",
     "text": [
      "['307980', '38900', '134210', '136320', '324360', '131510', '45900', '198000', '32400', '198000', '49900', '49900', '267180', '134210', '198000', '191590', '24900', '15740', '26900', '18900', '23660', '34000', '39900', '36900', '164360', '27900', '34800', '119700', '114610', '49080', '59900', '137280', '42900', '267180', '85900', '29800', '78900', '42400', '21450', '122200', '27900', '64900', '43900', '22300', '179000', '33900', '59800', '55900', '22280', '140160', '128500', '39900', '18900', '139200', '131520', '235680', '58410', '128900', '198000', '49900', '19710', '71000', '22280', '58000', '139900', '68310', '140160', '39700', '49800', '7750', '43900', '24760', '44900', '201600', '32900', '164350', '49900', '23500', '39800', '29480', '18300', '220000', '37530', '154900', '134640', '28600', '170460', '39900', '26540', '20200', '21780', '39800', '59900', '29500', '29900', '79900', '25650', '71980', '49410', '67030']\n"
     ]
    },
    {
     "data": {
      "text/plain": [
       "100"
      ]
     },
     "execution_count": 4,
     "metadata": {},
     "output_type": "execute_result"
    }
   ],
   "source": [
    "##가격\n",
    "price_list = []\n",
    "for price in soup.select('div[class=box__price-seller]'):\n",
    "    price = price.text.replace(\"할인적용금액 \",\"\")\n",
    "    price = price.replace(\"상품금액 \",\"\")\n",
    "    price = price.replace(\",\",\"\")\n",
    "    price = price.replace(\"원\",\"\")\n",
    "    price_list.append(price.strip())\n",
    "\n",
    "print(price_list)\n",
    "len(price_list)"
   ]
  },
  {
   "cell_type": "code",
   "execution_count": 5,
   "metadata": {
    "scrolled": true
   },
   "outputs": [
    {
     "name": "stdout",
     "output_type": "stream",
     "text": [
      "[1448, 7867, 14539, 755, 13923, 3217, 32891, 1185, 1705, 887, 205, 534, 608, 1058, 1057, 2669, 938, 1325, 1940, 547, 2225, 227, 860, 4666, 3554, 78, 1713, 127, 71, 1418, 792, 4810, 3949, 761, 274, 3191, 2416, 3254, 621, 123, 13175, 1154, 361, 413, 72, 15730, 2122, 2816, 1430, 168, 540, 529, 2432, 630, 86, 534, 769, 232, 20, 1030, 659, 117, 1330, 603, 181, 1022, 180, 958, 618, 1765, 179, 342, 1952, 153, 2509, 2081, 63, 327, 738, 110, 372, 3996, 2130, 115, 1127, 58, 28, 102, 73, 3247, 341, 186, 571, 945, 6272, 3346, 1196, 354, 41, 297]\n"
     ]
    },
    {
     "data": {
      "text/plain": [
       "100"
      ]
     },
     "execution_count": 5,
     "metadata": {},
     "output_type": "execute_result"
    }
   ],
   "source": [
    "##구매수(04.10)\n",
    "count_list = []\n",
    "for link in soup.find_all(\"ul\", class_=\"list__score\"):\n",
    "    li = link.find(\"li\",class_=\"list-item list-item__pay-count\")\n",
    "    #print(li)\n",
    "    count = li.text.replace(\"구매 \",\"\")\n",
    "    count = count.replace(\"건\",\"\")\n",
    "    count = count.replace(\",\",\"\")\n",
    "    count_list.append(int(count.strip()))\n",
    "    \n",
    "print(count_list)\n",
    "len(count_list)"
   ]
  },
  {
   "cell_type": "code",
   "execution_count": 6,
   "metadata": {},
   "outputs": [],
   "source": [
    "# ##구매수 (03.28)\n",
    "# #list-item list-item__pay-count\n",
    "# div.box__information-score > ul > li.list-item.list-item__pay-count\n",
    "# count_list = []\n",
    "# for count in soup.select('li.list-item.list-item__pay-count>span.text'):\n",
    "#     count = count.text.replace(\"구매 \",\"\")\n",
    "#     count = count.replace(\",\",\"\")\n",
    "#     count_list.append(count.strip())\n",
    "# print(count_list)\n",
    "# print(len(count_list))"
   ]
  },
  {
   "cell_type": "code",
   "execution_count": 7,
   "metadata": {},
   "outputs": [
    {
     "name": "stdout",
     "output_type": "stream",
     "text": [
      "['http://item.gmarket.co.kr/Item?goodscode=1760826797', 'http://item.gmarket.co.kr/Item?goodscode=1656073805', 'http://item.gmarket.co.kr/Item?goodscode=1746228945', 'http://item.gmarket.co.kr/Item?goodscode=1746201901', 'http://item.gmarket.co.kr/Item?goodscode=1741936626', 'http://item.gmarket.co.kr/Item?goodscode=1748327994', 'http://item.gmarket.co.kr/Item?goodscode=1147816313', 'http://item.gmarket.co.kr/Item?goodscode=1853129396', 'http://item.gmarket.co.kr/Item?goodscode=1743485615', 'http://item.gmarket.co.kr/Item?goodscode=1853131877', 'http://item.gmarket.co.kr/Item?goodscode=1842031753', 'http://item.gmarket.co.kr/Item?goodscode=1841462820', 'http://item.gmarket.co.kr/Item?goodscode=1715287613', 'http://item.gmarket.co.kr/Item?goodscode=1761843490', 'http://item.gmarket.co.kr/Item?goodscode=1853135022', 'http://item.gmarket.co.kr/Item?goodscode=1746204457', 'http://item.gmarket.co.kr/Item?goodscode=1778374333', 'http://item.gmarket.co.kr/Item?goodscode=1743442457', 'http://item.gmarket.co.kr/Item?goodscode=1778863706', 'http://item.gmarket.co.kr/Item?goodscode=1845863593', 'http://item.gmarket.co.kr/Item?goodscode=1743457351', 'http://item.gmarket.co.kr/Item?goodscode=1841596679', 'http://item.gmarket.co.kr/Item?goodscode=1766943987', 'http://item.gmarket.co.kr/Item?goodscode=1462464005', 'http://item.gmarket.co.kr/Item?goodscode=1677283274', 'http://item.gmarket.co.kr/Item?goodscode=1846362397', 'http://item.gmarket.co.kr/Item?goodscode=1708982202', 'http://item.gmarket.co.kr/Item?goodscode=1854953762', 'http://item.gmarket.co.kr/Item?goodscode=1861479866', 'http://item.gmarket.co.kr/Item?goodscode=1631464592', 'http://item.gmarket.co.kr/Item?goodscode=1743002547', 'http://item.gmarket.co.kr/Item?goodscode=1748467201', 'http://item.gmarket.co.kr/Item?goodscode=976008858', 'http://item.gmarket.co.kr/Item?goodscode=1705083695', 'http://item.gmarket.co.kr/Item?goodscode=1669382421', 'http://item.gmarket.co.kr/Item?goodscode=1523090159', 'http://item.gmarket.co.kr/Item?goodscode=1711174405', 'http://item.gmarket.co.kr/Item?goodscode=1637078841', 'http://item.gmarket.co.kr/Item?goodscode=1770109312', 'http://item.gmarket.co.kr/Item?goodscode=1746870603', 'http://item.gmarket.co.kr/Item?goodscode=1556105226', 'http://item.gmarket.co.kr/Item?goodscode=1505902791', 'http://item.gmarket.co.kr/Item?goodscode=1631502735', 'http://item.gmarket.co.kr/Item?goodscode=1785137212', 'http://item.gmarket.co.kr/Item?goodscode=1845919348', 'http://item.gmarket.co.kr/Item?goodscode=1533958684', 'http://item.gmarket.co.kr/Item?goodscode=1638457008', 'http://item.gmarket.co.kr/Item?goodscode=1636358422', 'http://item.gmarket.co.kr/Item?goodscode=1803757220', 'http://item.gmarket.co.kr/Item?goodscode=1832530334', 'http://item.gmarket.co.kr/Item?goodscode=1852995661', 'http://item.gmarket.co.kr/Item?goodscode=1770976840', 'http://item.gmarket.co.kr/Item?goodscode=1832043934', 'http://item.gmarket.co.kr/Item?goodscode=1746183732', 'http://item.gmarket.co.kr/Item?goodscode=1833967551', 'http://item.gmarket.co.kr/Item?goodscode=1643493381', 'http://item.gmarket.co.kr/Item?goodscode=1701421280', 'http://item.gmarket.co.kr/Item?goodscode=1782927382', 'http://item.gmarket.co.kr/Item?goodscode=1861690403', 'http://item.gmarket.co.kr/Item?goodscode=1730313093', 'http://item.gmarket.co.kr/Item?goodscode=1645857578', 'http://item.gmarket.co.kr/Item?goodscode=1822788958', 'http://item.gmarket.co.kr/Item?goodscode=1716792766', 'http://item.gmarket.co.kr/Item?goodscode=1690798282', 'http://item.gmarket.co.kr/Item?goodscode=1673389525', 'http://item.gmarket.co.kr/Item?goodscode=1528048020', 'http://item.gmarket.co.kr/Item?goodscode=1833969639', 'http://item.gmarket.co.kr/Item?goodscode=1718859093', 'http://item.gmarket.co.kr/Item?goodscode=1743824183', 'http://item.gmarket.co.kr/Item?goodscode=1783685238', 'http://item.gmarket.co.kr/Item?goodscode=1778376501', 'http://item.gmarket.co.kr/Item?goodscode=1806043887', 'http://item.gmarket.co.kr/Item?goodscode=1704981395', 'http://item.gmarket.co.kr/Item?goodscode=1839445665', 'http://item.gmarket.co.kr/Item?goodscode=1620325501', 'http://item.gmarket.co.kr/Item?goodscode=1627175881', 'http://item.gmarket.co.kr/Item?goodscode=1835636411', 'http://item.gmarket.co.kr/Item?goodscode=1799160604', 'http://item.gmarket.co.kr/Item?goodscode=1740328830', 'http://item.gmarket.co.kr/Item?goodscode=1840959923', 'http://item.gmarket.co.kr/Item?goodscode=1668979624', 'http://item.gmarket.co.kr/Item?goodscode=1691615319', 'http://item.gmarket.co.kr/Item?goodscode=1715399624', 'http://item.gmarket.co.kr/Item?goodscode=1503689539', 'http://item.gmarket.co.kr/Item?goodscode=1746998693', 'http://item.gmarket.co.kr/Item?goodscode=1800012088', 'http://item.gmarket.co.kr/Item?goodscode=1619509740', 'http://item.gmarket.co.kr/Item?goodscode=1672633753', 'http://item.gmarket.co.kr/Item?goodscode=1858702799', 'http://item.gmarket.co.kr/Item?goodscode=1619821638', 'http://item.gmarket.co.kr/Item?goodscode=1822073753', 'http://item.gmarket.co.kr/Item?goodscode=1789105830', 'http://item.gmarket.co.kr/Item?goodscode=1730251234', 'http://item.gmarket.co.kr/Item?goodscode=1472691713', 'http://item.gmarket.co.kr/Item?goodscode=710673193', 'http://item.gmarket.co.kr/Item?goodscode=1555515351', 'http://item.gmarket.co.kr/Item?goodscode=1812219402', 'http://item.gmarket.co.kr/Item?goodscode=1730947065', 'http://item.gmarket.co.kr/Item?goodscode=1793994176', 'http://item.gmarket.co.kr/Item?goodscode=1700787053']\n"
     ]
    },
    {
     "data": {
      "text/plain": [
       "100"
      ]
     },
     "execution_count": 7,
     "metadata": {},
     "output_type": "execute_result"
    }
   ],
   "source": [
    "##링크\n",
    "link_list = []\n",
    "for link in soup.find_all(\"div\", class_=\"box__item-title\"):\n",
    "    li = link.find('a')['href']\n",
    "    link_list.append(li)\n",
    "    \n",
    "print(link_list)\n",
    "len(link_list)"
   ]
  },
  {
   "cell_type": "code",
   "execution_count": 8,
   "metadata": {},
   "outputs": [
    {
     "name": "stdout",
     "output_type": "stream",
     "text": [
      "['Apple공식판매점', '피스넷', '', '', 'Apple공식판매점', '삼성모바일액세서리', '피스넷', '삼성모바일액세서리', '', '삼성모바일액세서리', '피스넷', '피스넷', '에스엠퓨처스', '', '삼성모바일액세서리', 'Apple공식판매점', 'EZBUY_TRADE', '', 'YOMI02', 'EZBUY_TRADE', '', '블린즈', '필립스TV', '', '에스엠퓨처스', 'XiaomiYP', '', '주식회사잇서', '케이원디지털', '삼성하만오디오인증점', '피스넷', '', 'LG총판(주)이파트너스', 'JAEWONCNC', 'LG총판(주)이파트너스', '', '주식회사엠지텍', '', 'youchen019', '삼성모바일액세서리', '피스넷', 'LG총판(주)이파트너스', '삼성하만공식스토어', 'EZBUY_TRADE', '', '피스넷', '주식회사엠지텍', '주식회사엠지텍', '컴퓨터-세상', '', '삼성모바일액세서리', 'MPL', 'MC해외직구샵', '', '', '엠피나비', '별이다섯개', '주식회사엠지텍', '', '', '컴퓨터-세상', '애플나라샵', '컴퓨터-세상', '다림코리아', 'LG총판(주)이파트너스', '', '', '바넥스', '획기적인아이템', '', 'EZBUY_TRADE', '', '피스넷', '', '피스넷', 'JAEWONCNC', '', 'youchen019', '', '비아컴퍼니', 'EZBUY_TRADE', '삼성모바일액세서리', 'SKY공식온라인몰', 'LG총판(주)이파트너스', '주식회사이니셜', 'EZBUY_TRADE', 'GEEKSHOP', 'q370011183', '와이엘인터내셔널', '오랑주', '(주)컴퓨존', '주식회사잇서', '피스넷', 'patazonkorea', '로즈비', '피스넷', '', '주)아이템팩토리', '피스넷', '포데모스']\n"
     ]
    },
    {
     "data": {
      "text/plain": [
       "100"
      ]
     },
     "execution_count": 8,
     "metadata": {},
     "output_type": "execute_result"
    }
   ],
   "source": [
    "##판매처\n",
    "sellor_list = []\n",
    "for sellor in soup.select('div[class=box__information_seller]'):\n",
    "    sellor, *gar = tuple(sellor.text.split(\"판매자평가정보\"))\n",
    "    sellor = sellor[3:]\n",
    "    sellor_list.append(sellor.strip())\n",
    "\n",
    "print(sellor_list)\n",
    "len(sellor_list)"
   ]
  },
  {
   "cell_type": "code",
   "execution_count": 9,
   "metadata": {},
   "outputs": [
    {
     "name": "stdout",
     "output_type": "stream",
     "text": [
      "   brand                             title  purchased_count   price  \\\n",
      "0     애플         Apple 정품 에어팟 프로 MWP22KH/A             1448  307980   \n",
      "1    피스넷       골전도 블루투스 이어폰 피스넷 프리본 / 청력보호             7867   38900   \n",
      "2   삼성전자  SM-R175 갤럭시버즈 플러스 블루투스이어폰 AKG 튜닝            14539  134210   \n",
      "3   삼성전자     갤럭시버즈 플러스 블루투스 이어폰 SM-R175 블루              755  136320   \n",
      "4     애플         Apple 정품 에어팟 프로 MWP22KH/A            13923  324360   \n",
      "..   ...                               ...              ...     ...   \n",
      "95   피스넷      압도적음질 블루투스 이어폰 피스넷 프리고S / 블랙             3346   79900   \n",
      "96   아크로  ACRO i11 블루투스 무선 이어폰 5.0 화이트 차이팟             1196   25650   \n",
      "97    LG   HBS-830 블루투스 넥밴드 이어폰 국내정품 블랙 IF              354   71980   \n",
      "98   피스넷      리퍼-노이즈캔슬링 블루투스이어폰 피스넷 프리고ANC               41   49410   \n",
      "99         포데모스 PS1      200시간이상재생 보조배터리포함              297   67030   \n",
      "\n",
      "                                                  url      sellor  \n",
      "0   http://item.gmarket.co.kr/Item?goodscode=17608...  Apple공식판매점  \n",
      "1   http://item.gmarket.co.kr/Item?goodscode=16560...         피스넷  \n",
      "2   http://item.gmarket.co.kr/Item?goodscode=17462...              \n",
      "3   http://item.gmarket.co.kr/Item?goodscode=17462...              \n",
      "4   http://item.gmarket.co.kr/Item?goodscode=17419...  Apple공식판매점  \n",
      "..                                                ...         ...  \n",
      "95  http://item.gmarket.co.kr/Item?goodscode=15555...         피스넷  \n",
      "96  http://item.gmarket.co.kr/Item?goodscode=18122...              \n",
      "97  http://item.gmarket.co.kr/Item?goodscode=17309...    주)아이템팩토리  \n",
      "98  http://item.gmarket.co.kr/Item?goodscode=17939...         피스넷  \n",
      "99  http://item.gmarket.co.kr/Item?goodscode=17007...        포데모스  \n",
      "\n",
      "[100 rows x 6 columns]\n"
     ]
    }
   ],
   "source": [
    "from pandas import DataFrame\n",
    "\n",
    "df1 =  DataFrame({\"brand\": brand_list, \"title\": title_list, \"purchased_count\":count_list, \"price\": price_list,\n",
    "                 \"url\":link_list, \"sellor\":sellor_list})\n",
    "print(df1)\n",
    "                  #, \"c\": [11, 22, 33], \"c3\": [111, 222, 333]}, index=[\"i1\", \"i2\", \"i3\"]"
   ]
  },
  {
   "cell_type": "code",
   "execution_count": 10,
   "metadata": {},
   "outputs": [
    {
     "data": {
      "text/html": [
       "<div>\n",
       "<style scoped>\n",
       "    .dataframe tbody tr th:only-of-type {\n",
       "        vertical-align: middle;\n",
       "    }\n",
       "\n",
       "    .dataframe tbody tr th {\n",
       "        vertical-align: top;\n",
       "    }\n",
       "\n",
       "    .dataframe thead th {\n",
       "        text-align: right;\n",
       "    }\n",
       "</style>\n",
       "<table border=\"1\" class=\"dataframe\">\n",
       "  <thead>\n",
       "    <tr style=\"text-align: right;\">\n",
       "      <th></th>\n",
       "      <th>brand</th>\n",
       "      <th>title</th>\n",
       "      <th>purchased_count</th>\n",
       "      <th>price</th>\n",
       "      <th>url</th>\n",
       "      <th>sellor</th>\n",
       "    </tr>\n",
       "  </thead>\n",
       "  <tbody>\n",
       "    <tr>\n",
       "      <td>0</td>\n",
       "      <td>애플</td>\n",
       "      <td>Apple 정품 에어팟 프로 MWP22KH/A</td>\n",
       "      <td>1448</td>\n",
       "      <td>307980</td>\n",
       "      <td>http://item.gmarket.co.kr/Item?goodscode=17608...</td>\n",
       "      <td>Apple공식판매점</td>\n",
       "    </tr>\n",
       "    <tr>\n",
       "      <td>1</td>\n",
       "      <td>피스넷</td>\n",
       "      <td>골전도 블루투스 이어폰 피스넷 프리본 / 청력보호</td>\n",
       "      <td>7867</td>\n",
       "      <td>38900</td>\n",
       "      <td>http://item.gmarket.co.kr/Item?goodscode=16560...</td>\n",
       "      <td>피스넷</td>\n",
       "    </tr>\n",
       "    <tr>\n",
       "      <td>2</td>\n",
       "      <td>삼성전자</td>\n",
       "      <td>SM-R175 갤럭시버즈 플러스 블루투스이어폰 AKG 튜닝</td>\n",
       "      <td>14539</td>\n",
       "      <td>134210</td>\n",
       "      <td>http://item.gmarket.co.kr/Item?goodscode=17462...</td>\n",
       "      <td></td>\n",
       "    </tr>\n",
       "    <tr>\n",
       "      <td>3</td>\n",
       "      <td>삼성전자</td>\n",
       "      <td>갤럭시버즈 플러스 블루투스 이어폰 SM-R175 블루</td>\n",
       "      <td>755</td>\n",
       "      <td>136320</td>\n",
       "      <td>http://item.gmarket.co.kr/Item?goodscode=17462...</td>\n",
       "      <td></td>\n",
       "    </tr>\n",
       "    <tr>\n",
       "      <td>4</td>\n",
       "      <td>애플</td>\n",
       "      <td>Apple 정품 에어팟 프로 MWP22KH/A</td>\n",
       "      <td>13923</td>\n",
       "      <td>324360</td>\n",
       "      <td>http://item.gmarket.co.kr/Item?goodscode=17419...</td>\n",
       "      <td>Apple공식판매점</td>\n",
       "    </tr>\n",
       "    <tr>\n",
       "      <td>...</td>\n",
       "      <td>...</td>\n",
       "      <td>...</td>\n",
       "      <td>...</td>\n",
       "      <td>...</td>\n",
       "      <td>...</td>\n",
       "      <td>...</td>\n",
       "    </tr>\n",
       "    <tr>\n",
       "      <td>95</td>\n",
       "      <td>피스넷</td>\n",
       "      <td>압도적음질 블루투스 이어폰 피스넷 프리고S / 블랙</td>\n",
       "      <td>3346</td>\n",
       "      <td>79900</td>\n",
       "      <td>http://item.gmarket.co.kr/Item?goodscode=15555...</td>\n",
       "      <td>피스넷</td>\n",
       "    </tr>\n",
       "    <tr>\n",
       "      <td>96</td>\n",
       "      <td>아크로</td>\n",
       "      <td>ACRO i11 블루투스 무선 이어폰 5.0 화이트 차이팟</td>\n",
       "      <td>1196</td>\n",
       "      <td>25650</td>\n",
       "      <td>http://item.gmarket.co.kr/Item?goodscode=18122...</td>\n",
       "      <td></td>\n",
       "    </tr>\n",
       "    <tr>\n",
       "      <td>97</td>\n",
       "      <td>LG</td>\n",
       "      <td>HBS-830 블루투스 넥밴드 이어폰 국내정품 블랙 IF</td>\n",
       "      <td>354</td>\n",
       "      <td>71980</td>\n",
       "      <td>http://item.gmarket.co.kr/Item?goodscode=17309...</td>\n",
       "      <td>주)아이템팩토리</td>\n",
       "    </tr>\n",
       "    <tr>\n",
       "      <td>98</td>\n",
       "      <td>피스넷</td>\n",
       "      <td>리퍼-노이즈캔슬링 블루투스이어폰 피스넷 프리고ANC</td>\n",
       "      <td>41</td>\n",
       "      <td>49410</td>\n",
       "      <td>http://item.gmarket.co.kr/Item?goodscode=17939...</td>\n",
       "      <td>피스넷</td>\n",
       "    </tr>\n",
       "    <tr>\n",
       "      <td>99</td>\n",
       "      <td></td>\n",
       "      <td>포데모스 PS1      200시간이상재생 보조배터리포함</td>\n",
       "      <td>297</td>\n",
       "      <td>67030</td>\n",
       "      <td>http://item.gmarket.co.kr/Item?goodscode=17007...</td>\n",
       "      <td>포데모스</td>\n",
       "    </tr>\n",
       "  </tbody>\n",
       "</table>\n",
       "<p>100 rows × 6 columns</p>\n",
       "</div>"
      ],
      "text/plain": [
       "   brand                             title  purchased_count   price  \\\n",
       "0     애플         Apple 정품 에어팟 프로 MWP22KH/A             1448  307980   \n",
       "1    피스넷       골전도 블루투스 이어폰 피스넷 프리본 / 청력보호             7867   38900   \n",
       "2   삼성전자  SM-R175 갤럭시버즈 플러스 블루투스이어폰 AKG 튜닝            14539  134210   \n",
       "3   삼성전자     갤럭시버즈 플러스 블루투스 이어폰 SM-R175 블루              755  136320   \n",
       "4     애플         Apple 정품 에어팟 프로 MWP22KH/A            13923  324360   \n",
       "..   ...                               ...              ...     ...   \n",
       "95   피스넷      압도적음질 블루투스 이어폰 피스넷 프리고S / 블랙             3346   79900   \n",
       "96   아크로  ACRO i11 블루투스 무선 이어폰 5.0 화이트 차이팟             1196   25650   \n",
       "97    LG   HBS-830 블루투스 넥밴드 이어폰 국내정품 블랙 IF              354   71980   \n",
       "98   피스넷      리퍼-노이즈캔슬링 블루투스이어폰 피스넷 프리고ANC               41   49410   \n",
       "99         포데모스 PS1      200시간이상재생 보조배터리포함              297   67030   \n",
       "\n",
       "                                                  url      sellor  \n",
       "0   http://item.gmarket.co.kr/Item?goodscode=17608...  Apple공식판매점  \n",
       "1   http://item.gmarket.co.kr/Item?goodscode=16560...         피스넷  \n",
       "2   http://item.gmarket.co.kr/Item?goodscode=17462...              \n",
       "3   http://item.gmarket.co.kr/Item?goodscode=17462...              \n",
       "4   http://item.gmarket.co.kr/Item?goodscode=17419...  Apple공식판매점  \n",
       "..                                                ...         ...  \n",
       "95  http://item.gmarket.co.kr/Item?goodscode=15555...         피스넷  \n",
       "96  http://item.gmarket.co.kr/Item?goodscode=18122...              \n",
       "97  http://item.gmarket.co.kr/Item?goodscode=17309...    주)아이템팩토리  \n",
       "98  http://item.gmarket.co.kr/Item?goodscode=17939...         피스넷  \n",
       "99  http://item.gmarket.co.kr/Item?goodscode=17007...        포데모스  \n",
       "\n",
       "[100 rows x 6 columns]"
      ]
     },
     "execution_count": 10,
     "metadata": {},
     "output_type": "execute_result"
    }
   ],
   "source": [
    "df1\n"
   ]
  },
  {
   "cell_type": "code",
   "execution_count": 11,
   "metadata": {},
   "outputs": [],
   "source": [
    "df1.to_excel('gmarket_scrapping_08.26.xlsx', index=True)"
   ]
  },
  {
   "cell_type": "code",
   "execution_count": null,
   "metadata": {},
   "outputs": [],
   "source": []
  }
 ],
 "metadata": {
  "kernelspec": {
   "display_name": "Python 3",
   "language": "python",
   "name": "python3"
  },
  "language_info": {
   "codemirror_mode": {
    "name": "ipython",
    "version": 3
   },
   "file_extension": ".py",
   "mimetype": "text/x-python",
   "name": "python",
   "nbconvert_exporter": "python",
   "pygments_lexer": "ipython3",
   "version": "3.7.4"
  }
 },
 "nbformat": 4,
 "nbformat_minor": 2
}
