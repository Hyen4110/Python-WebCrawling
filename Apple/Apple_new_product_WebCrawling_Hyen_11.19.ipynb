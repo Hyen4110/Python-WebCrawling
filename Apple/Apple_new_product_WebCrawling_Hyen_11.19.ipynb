{
 "cells": [
  {
   "cell_type": "code",
   "execution_count": 2,
   "metadata": {},
   "outputs": [],
   "source": [
    "import pandas as pd\n",
    "import numpy as np\n",
    "import re\n",
    "import time\n",
    "from urllib import parse\n",
    "from selenium import webdriver\n",
    "from selenium.webdriver.common.keys import Keys\n",
    "import warnings\n",
    "warnings.filterwarnings(action='ignore')"
   ]
  },
  {
   "cell_type": "code",
   "execution_count": 3,
   "metadata": {
    "scrolled": true
   },
   "outputs": [],
   "source": [
    "### [1] URL 생성관련 함수\n",
    "def file_to_df():\n",
    "    df = pd.read_excel('apple_iphone_url.xlsx')\n",
    "    df['inch'] = df['inch'].astype(str)\n",
    "    df['germany_inch'] = df['inch'].apply(lambda x: re.sub(\"\\.\",\",\",x))\n",
    "    df['russia_rom'] = df['rom'].apply(lambda x: re.sub(\"gb\",\"\",x))\n",
    "    \n",
    "    return df\n",
    "    \n",
    "def url_maker(df):\n",
    "    df['us_url'] = \"https://www.apple.com/shop/buy-iphone/\"+df['family_model']+\"/\"+df['inch']+\"-inch-display-\"+df['rom']+\"-\"+df['color']+\"-unlocked\"\n",
    "    df['uk_url'] = \"https://www.apple.com/uk/shop/buy-iphone/\"+df['family_model']+\"/\"+df['inch']+\"-inch-display-\"+df['rom']+\"-\"+df['color']\n",
    "    df['china_url'] = \"https://www.apple.com.cn/shop/buy-iphone/\"+df['family_model']+\"/\"+df['china_code']+\"/A\"\n",
    "    \n",
    "    df['japan_url'] = 0\n",
    "    df['germany_url'] = 0\n",
    "    df['russia_url'] = 0\n",
    "\n",
    "    for i in range(len(df)):\n",
    "        df['japan_url'][i] = \"https://www.apple.com/jp/shop/buy-iphone/\"+df['family_model'][i]+\"/\"+df['inch'][i]+\\\n",
    "                    parse.quote(df['japan_code_inch'][i])+\"-\"+df['rom'][i]+\"-\"+parse.quote(df['japan_code_color'][i])\n",
    "        df['germany_url'][i] = \"https://www.apple.com/de/shop/buy-iphone/\"+df['family_model'][i]+\"/\"+df['germany_inch'][i]+\"%22-display-\"+\\\n",
    "                               df['rom'][i]+\"-\"+parse.quote(df['germany_code'][i]) \n",
    "\n",
    "        if df['family_model'][i] == \"iphone-se\":\n",
    "            df['russia_url'][i] = \"https://www.apple.com/ru/shop/buy-iphone/\"+df['family_model'][i]+\"/\"+df['germany_inch'][i]+\"-\"+\\\n",
    "                                    \"%D0%B4%D1%8E%D0%B9%D0%BC%D0%BE%D0%B2%D1%8B%D0%B9-%D0%B4%D0%B8%D1%81%D0%BF%D0%BB%D0%B5%D0%B9-\"+\\\n",
    "                                   df['russia_rom'][i]+\"%D0%B3%D0%B1-\"+parse.quote(df['russia_code'][i])\n",
    "        else: \n",
    "             df['russia_url'][i] = \"https://www.apple.com/ru/shop/buy-iphone/\"+df['family_model'][i]+\"/\"+\\\n",
    "                                    \"%D0%B4%D0%B8%D1%81%D0%BF%D0%BB%D0%B5%D0%B9-\"+\\\n",
    "                                    df['germany_inch'][i]+\"-\"+\\\n",
    "                                    \"%D0%B4%D1%8E%D0%B9%D0%BC%D0%B0-\"+\\\n",
    "                                   df['russia_rom'][i]+\"%D0%B3%D0%B1-\"+parse.quote(df['russia_code'][i])       \n",
    "\n",
    "    df['india_url'] = \"https://www.indiaistore.com/\"+df['model']+\"/\"\n",
    "    \n",
    "    return df\n",
    "\n",
    "### [2]크롤링 관련 코드\n",
    "def select_no(browser):\n",
    "    try:\n",
    "        no_answer = browser.find_element_by_class_name('as-inlinetradeup-selector')\n",
    "        no_answer.click()\n",
    "    except: pass\n",
    "    #print(\"click No\")\n",
    "          \n",
    "def get_delivery_date(browser,post_code):\n",
    "    #1. No 선택했는지 확인    \n",
    "    browser.implicitly_wait(5)\n",
    "    delivery_date = browser.find_element_by_class_name(\"as-purchaseinfo-dudeinfo-deliverymsg\").text\n",
    "    return delivery_date\n",
    "\n",
    "def get_price_delivery(browser, url, country,i,post_code):\n",
    "    browser.get(url)\n",
    "    time.sleep(3)\n",
    "    \n",
    "    select_no(browser)\n",
    "    delivery_date = get_delivery_date(browser,post_code)\n",
    "    price = browser.find_element_by_class_name('localnav-price-content').text\n",
    "    \n",
    "    price_delivery_list = []\n",
    "    price_delivery_list.append([price, delivery_date])\n",
    "    return price_delivery_list"
   ]
  },
  {
   "cell_type": "code",
   "execution_count": 7,
   "metadata": {
    "scrolled": true
   },
   "outputs": [
    {
     "ename": "AttributeError",
     "evalue": "'list' object has no attribute 'text'",
     "output_type": "error",
     "traceback": [
      "\u001b[1;31m---------------------------------------------------------------------------\u001b[0m",
      "\u001b[1;31mAttributeError\u001b[0m                            Traceback (most recent call last)",
      "\u001b[1;32m<ipython-input-7-cd88fec31c21>\u001b[0m in \u001b[0;36m<module>\u001b[1;34m\u001b[0m\n\u001b[1;32m----> 1\u001b[1;33m \u001b[0mdelivery_date\u001b[0m \u001b[1;33m=\u001b[0m \u001b[0mbrowser\u001b[0m\u001b[1;33m.\u001b[0m\u001b[0mfind_elements_by_class_name\u001b[0m\u001b[1;33m(\u001b[0m\u001b[1;34m\"as-purchaseinfo-dudeinfo-deliverymsg\"\u001b[0m\u001b[1;33m)\u001b[0m\u001b[1;33m.\u001b[0m\u001b[0mtext\u001b[0m\u001b[1;33m\u001b[0m\u001b[1;33m\u001b[0m\u001b[0m\n\u001b[0m",
      "\u001b[1;31mAttributeError\u001b[0m: 'list' object has no attribute 'text'"
     ]
    }
   ],
   "source": [
    "delivery_date_list = browser.find_elements_by_class_name(\"as-purchaseinfo-dudeinfo-deliverymsg\")\n",
    "delivery_date=[]\n",
    "\n",
    "for i in range(len(delivery_date_list)):\n",
    "    delivery_date.append(delivery_date_list[i])\n",
    "    "
   ]
  },
  {
   "cell_type": "code",
   "execution_count": 6,
   "metadata": {
    "scrolled": false
   },
   "outputs": [],
   "source": [
    "# <1> 기본 DataFrame을 세팅한다.\n",
    "df = file_to_df()\n",
    "df = url_maker(df)\n",
    "\n",
    "\n",
    "url_list =[('usa','us_url','10001'),('uk','uk_url','sw1a2aa'), ('china', 'china_url',''), \n",
    "           ('japan', 'japan_url',''), ('germany','germany_url','10115'), \n",
    "           ('russia','russia_url','101000'), ('india', 'india_url')]\n",
    "\n",
    "# <2> 나라를 선택하고 진행 - 0번째 url 받아서 우펀코드 설정\n",
    "con_num = 0 #<--------------------[입력] usa:0, uk:1, china:2, japan:3, germany:4, russia:5, india:6\n",
    "\n",
    "country = url_list[con_num][0]\n",
    "res_col = url_list[con_num][0]+\"_res\"\n",
    "col_nm = url_list[con_num][1]\n",
    "post_code = url_list[con_num][2]\n",
    "url = df[col_nm][0] #---> us_url, uk_url, china_url, japan_url, germany_url, russia_url, india_url \n",
    "\n",
    "#브라우저 열기  --> 우편코드 입력해주어야함  <<<---- \n",
    "browser = webdriver.Chrome()\n",
    "browser.get(url)"
   ]
  },
  {
   "cell_type": "code",
   "execution_count": 76,
   "metadata": {},
   "outputs": [
    {
     "name": "stdout",
     "output_type": "stream",
     "text": [
      "0 1 2 3 4 5 6 7 8 9 10 11 12 13 14 15 16 17 18 19 20 21 22 23 24 25 26 27 28 29 30 31 32 33 34 35 36 37 38 39 40 41 42 43 44 45 46 47 48 49 50 51 52 53 54 55 56 57 58 59 60 61 62 "
     ]
    }
   ],
   "source": [
    "# <3> 우편코드를 설정했다면, 이제 크롤링 GoGo!!!\n",
    "df[res_col] = 0\n",
    "\n",
    "for i in range(len(df['model'])):\n",
    "    print(i, end = \" \")\n",
    "    url = df[col_nm][i]\n",
    "    price_delivery_list = get_price_delivery(browser, url,country,i,post_code)\n",
    "    df[res_col][i] = price_delivery_list\n",
    "    \n",
    "display(df)"
   ]
  },
  {
   "cell_type": "code",
   "execution_count": 78,
   "metadata": {},
   "outputs": [],
   "source": [
    "df.to_excel('usa_3차_11.18.xlsx')"
   ]
  }
 ],
 "metadata": {
  "kernelspec": {
   "display_name": "Python 3",
   "language": "python",
   "name": "python3"
  },
  "language_info": {
   "codemirror_mode": {
    "name": "ipython",
    "version": 3
   },
   "file_extension": ".py",
   "mimetype": "text/x-python",
   "name": "python",
   "nbconvert_exporter": "python",
   "pygments_lexer": "ipython3",
   "version": "3.7.4"
  }
 },
 "nbformat": 4,
 "nbformat_minor": 2
}
